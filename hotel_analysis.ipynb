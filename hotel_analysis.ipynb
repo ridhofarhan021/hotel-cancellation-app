{
 "cells": [
  {
   "cell_type": "markdown",
   "metadata": {},
   "source": [
    "# Hotel Analysis\n",
    "## Student\n",
    "- `Name` : Mohamad Ridho Farhan\n",
    "- `NIM` : 2602097454\n",
    "## Dataset Description\n",
    "- `Booking_ID` = Pengenal unik dari tiap pemesanan\n",
    "- `no_of_adults` = Jumlah orang dewasa\n",
    "- `no_of_children` = Jumlah anak kecil\n",
    "- `no_of_weekend_nights` = Jumlah malam akhir pekan (Sabtu atau Minggu) tamu menginap atau memesan untuk menginap di hotel\n",
    "- `no_of_week_nights` = Jumlah malam dalam seminggu (Senin hingga Jumat) tamu menginap atau memesan untuk menginap di hotel\n",
    "- `type_of_meal_plan` = Jenis paket makanan yang dipesan oleh pelanggan\n",
    "- `required_car_parking_space` = Apakah pelanggan membutuhkan tempat parkir mobil? (0 - Tidak, 1- Ya)\n",
    "- `room_type_reserved` = Jenis kamar yang dipesan oleh pelanggan. Nilai-nilai tersebut dienkripsi oleh INN Hotels\n",
    "- `lead_time` = Jumlah hari antara tanggal pemesanan dan tanggal kedatangan\n",
    "- `arrival_year` = Tahun tanggal kedatangan\n",
    "- `arrival_month` = Bulan tanggal kedatangan\n",
    "- `arrival_date` = Tanggal kedatangan\n",
    "- `market_segment_type` = Penunjukan segmen pasar\n",
    "- `repeated_guest` = Apakah pelanggan tersebut merupakan tamu yang pernah melakukan booking dan juga menginap? (0 - Tidak, 1- Ya)\n",
    "- `no_of_previous_cancellations` = Jumlah pemesanan sebelumnya yang dibatalkan oleh pelanggan sebelum pemesanan saat ini\n",
    "- `no_of_previous_bookings_not_canceled` = Jumlah pemesanan sebelumnya yang tidak dibatalkan oleh pelanggan sebelum pemesanan saat ini\n",
    "- `avg_price_per_room` = Harga rata-rata per hari pemesanan; harga kamar bersifat dinamis. (dalam euro)\n",
    "- `no_of_special_requests` = Jumlah total permintaan khusus yang dibuat oleh pelanggan (misalnya lantai yang tinggi, pemandangan dari kamar, dan lain-lain.)\n",
    "- `booking_status` (target variable) = Flag yang menunjukkan apakah pemesanan dibatalkan atau tidak. \n",
    "\n"
   ]
  },
  {
   "cell_type": "markdown",
   "metadata": {},
   "source": [
    "# 1. Eksplorasi dan Pre-processing Data Pemesanan Hotel"
   ]
  },
  {
   "cell_type": "markdown",
   "metadata": {},
   "source": [
    "### 1.1. Load Data"
   ]
  },
  {
   "cell_type": "code",
   "execution_count": 2,
   "metadata": {},
   "outputs": [],
   "source": [
    "import pandas as pd\n",
    "import numpy as np\n",
    "import matplotlib.pyplot as plt\n",
    "import seaborn as sns\n",
    "import pickle  # Untuk menyimpan objek preprocessor\n",
    "from sklearn.model_selection import train_test_split\n",
    "from sklearn.preprocessing import StandardScaler, LabelEncoder, OneHotEncoder\n"
   ]
  },
  {
   "cell_type": "code",
   "execution_count": 3,
   "metadata": {},
   "outputs": [
    {
     "name": "stdout",
     "output_type": "stream",
     "text": [
      "Dataset berhasil dimuat.\n",
      "Ukuran dataset awal: (36275, 19)\n"
     ]
    }
   ],
   "source": [
    "try:\n",
    "    df = pd.read_csv('Dataset_B_hotel.csv')\n",
    "    print(\"Dataset berhasil dimuat.\")\n",
    "    print(f\"Ukuran dataset awal: {df.shape}\")\n",
    "except FileNotFoundError:\n",
    "    print(\"Error: File dataset tidak ditemukan. Pastikan path file benar.\")"
   ]
  },
  {
   "cell_type": "markdown",
   "metadata": {},
   "source": [
    "### 1.2. EDA"
   ]
  },
  {
   "cell_type": "code",
   "execution_count": 4,
   "metadata": {},
   "outputs": [
    {
     "data": {
      "text/html": [
       "<div>\n",
       "<style scoped>\n",
       "    .dataframe tbody tr th:only-of-type {\n",
       "        vertical-align: middle;\n",
       "    }\n",
       "\n",
       "    .dataframe tbody tr th {\n",
       "        vertical-align: top;\n",
       "    }\n",
       "\n",
       "    .dataframe thead th {\n",
       "        text-align: right;\n",
       "    }\n",
       "</style>\n",
       "<table border=\"1\" class=\"dataframe\">\n",
       "  <thead>\n",
       "    <tr style=\"text-align: right;\">\n",
       "      <th></th>\n",
       "      <th>Booking_ID</th>\n",
       "      <th>no_of_adults</th>\n",
       "      <th>no_of_children</th>\n",
       "      <th>no_of_weekend_nights</th>\n",
       "      <th>no_of_week_nights</th>\n",
       "      <th>type_of_meal_plan</th>\n",
       "      <th>required_car_parking_space</th>\n",
       "      <th>room_type_reserved</th>\n",
       "      <th>lead_time</th>\n",
       "      <th>arrival_year</th>\n",
       "      <th>arrival_month</th>\n",
       "      <th>arrival_date</th>\n",
       "      <th>market_segment_type</th>\n",
       "      <th>repeated_guest</th>\n",
       "      <th>no_of_previous_cancellations</th>\n",
       "      <th>no_of_previous_bookings_not_canceled</th>\n",
       "      <th>avg_price_per_room</th>\n",
       "      <th>no_of_special_requests</th>\n",
       "      <th>booking_status</th>\n",
       "    </tr>\n",
       "  </thead>\n",
       "  <tbody>\n",
       "    <tr>\n",
       "      <th>0</th>\n",
       "      <td>INN00001</td>\n",
       "      <td>2</td>\n",
       "      <td>0</td>\n",
       "      <td>1</td>\n",
       "      <td>2</td>\n",
       "      <td>Meal Plan 1</td>\n",
       "      <td>0.0</td>\n",
       "      <td>Room_Type 1</td>\n",
       "      <td>224</td>\n",
       "      <td>2017</td>\n",
       "      <td>10</td>\n",
       "      <td>2</td>\n",
       "      <td>Offline</td>\n",
       "      <td>0</td>\n",
       "      <td>0</td>\n",
       "      <td>0</td>\n",
       "      <td>65.00</td>\n",
       "      <td>0</td>\n",
       "      <td>Not_Canceled</td>\n",
       "    </tr>\n",
       "    <tr>\n",
       "      <th>1</th>\n",
       "      <td>INN00002</td>\n",
       "      <td>2</td>\n",
       "      <td>0</td>\n",
       "      <td>2</td>\n",
       "      <td>3</td>\n",
       "      <td>Not Selected</td>\n",
       "      <td>0.0</td>\n",
       "      <td>Room_Type 1</td>\n",
       "      <td>5</td>\n",
       "      <td>2018</td>\n",
       "      <td>11</td>\n",
       "      <td>6</td>\n",
       "      <td>Online</td>\n",
       "      <td>0</td>\n",
       "      <td>0</td>\n",
       "      <td>0</td>\n",
       "      <td>106.68</td>\n",
       "      <td>1</td>\n",
       "      <td>Not_Canceled</td>\n",
       "    </tr>\n",
       "    <tr>\n",
       "      <th>2</th>\n",
       "      <td>INN00003</td>\n",
       "      <td>1</td>\n",
       "      <td>0</td>\n",
       "      <td>2</td>\n",
       "      <td>1</td>\n",
       "      <td>Meal Plan 1</td>\n",
       "      <td>0.0</td>\n",
       "      <td>Room_Type 1</td>\n",
       "      <td>1</td>\n",
       "      <td>2018</td>\n",
       "      <td>2</td>\n",
       "      <td>28</td>\n",
       "      <td>Online</td>\n",
       "      <td>0</td>\n",
       "      <td>0</td>\n",
       "      <td>0</td>\n",
       "      <td>60.00</td>\n",
       "      <td>0</td>\n",
       "      <td>Canceled</td>\n",
       "    </tr>\n",
       "    <tr>\n",
       "      <th>3</th>\n",
       "      <td>INN00004</td>\n",
       "      <td>2</td>\n",
       "      <td>0</td>\n",
       "      <td>0</td>\n",
       "      <td>2</td>\n",
       "      <td>Meal Plan 1</td>\n",
       "      <td>0.0</td>\n",
       "      <td>Room_Type 1</td>\n",
       "      <td>211</td>\n",
       "      <td>2018</td>\n",
       "      <td>5</td>\n",
       "      <td>20</td>\n",
       "      <td>Online</td>\n",
       "      <td>0</td>\n",
       "      <td>0</td>\n",
       "      <td>0</td>\n",
       "      <td>100.00</td>\n",
       "      <td>0</td>\n",
       "      <td>Canceled</td>\n",
       "    </tr>\n",
       "    <tr>\n",
       "      <th>4</th>\n",
       "      <td>INN00005</td>\n",
       "      <td>2</td>\n",
       "      <td>0</td>\n",
       "      <td>1</td>\n",
       "      <td>1</td>\n",
       "      <td>Not Selected</td>\n",
       "      <td>0.0</td>\n",
       "      <td>Room_Type 1</td>\n",
       "      <td>48</td>\n",
       "      <td>2018</td>\n",
       "      <td>4</td>\n",
       "      <td>11</td>\n",
       "      <td>Online</td>\n",
       "      <td>0</td>\n",
       "      <td>0</td>\n",
       "      <td>0</td>\n",
       "      <td>94.50</td>\n",
       "      <td>0</td>\n",
       "      <td>Canceled</td>\n",
       "    </tr>\n",
       "  </tbody>\n",
       "</table>\n",
       "</div>"
      ],
      "text/plain": [
       "  Booking_ID  no_of_adults  no_of_children  no_of_weekend_nights  \\\n",
       "0   INN00001             2               0                     1   \n",
       "1   INN00002             2               0                     2   \n",
       "2   INN00003             1               0                     2   \n",
       "3   INN00004             2               0                     0   \n",
       "4   INN00005             2               0                     1   \n",
       "\n",
       "   no_of_week_nights type_of_meal_plan  required_car_parking_space  \\\n",
       "0                  2       Meal Plan 1                         0.0   \n",
       "1                  3      Not Selected                         0.0   \n",
       "2                  1       Meal Plan 1                         0.0   \n",
       "3                  2       Meal Plan 1                         0.0   \n",
       "4                  1      Not Selected                         0.0   \n",
       "\n",
       "  room_type_reserved  lead_time  arrival_year  arrival_month  arrival_date  \\\n",
       "0        Room_Type 1        224          2017             10             2   \n",
       "1        Room_Type 1          5          2018             11             6   \n",
       "2        Room_Type 1          1          2018              2            28   \n",
       "3        Room_Type 1        211          2018              5            20   \n",
       "4        Room_Type 1         48          2018              4            11   \n",
       "\n",
       "  market_segment_type  repeated_guest  no_of_previous_cancellations  \\\n",
       "0             Offline               0                             0   \n",
       "1              Online               0                             0   \n",
       "2              Online               0                             0   \n",
       "3              Online               0                             0   \n",
       "4              Online               0                             0   \n",
       "\n",
       "   no_of_previous_bookings_not_canceled  avg_price_per_room  \\\n",
       "0                                     0               65.00   \n",
       "1                                     0              106.68   \n",
       "2                                     0               60.00   \n",
       "3                                     0              100.00   \n",
       "4                                     0               94.50   \n",
       "\n",
       "   no_of_special_requests booking_status  \n",
       "0                       0   Not_Canceled  \n",
       "1                       1   Not_Canceled  \n",
       "2                       0       Canceled  \n",
       "3                       0       Canceled  \n",
       "4                       0       Canceled  "
      ]
     },
     "execution_count": 4,
     "metadata": {},
     "output_type": "execute_result"
    }
   ],
   "source": [
    "df.head()"
   ]
  },
  {
   "cell_type": "code",
   "execution_count": 5,
   "metadata": {},
   "outputs": [
    {
     "name": "stdout",
     "output_type": "stream",
     "text": [
      "<class 'pandas.core.frame.DataFrame'>\n",
      "RangeIndex: 36275 entries, 0 to 36274\n",
      "Data columns (total 19 columns):\n",
      " #   Column                                Non-Null Count  Dtype  \n",
      "---  ------                                --------------  -----  \n",
      " 0   Booking_ID                            36275 non-null  object \n",
      " 1   no_of_adults                          36275 non-null  int64  \n",
      " 2   no_of_children                        36275 non-null  int64  \n",
      " 3   no_of_weekend_nights                  36275 non-null  int64  \n",
      " 4   no_of_week_nights                     36275 non-null  int64  \n",
      " 5   type_of_meal_plan                     35368 non-null  object \n",
      " 6   required_car_parking_space            35005 non-null  float64\n",
      " 7   room_type_reserved                    36275 non-null  object \n",
      " 8   lead_time                             36275 non-null  int64  \n",
      " 9   arrival_year                          36275 non-null  int64  \n",
      " 10  arrival_month                         36275 non-null  int64  \n",
      " 11  arrival_date                          36275 non-null  int64  \n",
      " 12  market_segment_type                   36275 non-null  object \n",
      " 13  repeated_guest                        36275 non-null  int64  \n",
      " 14  no_of_previous_cancellations          36275 non-null  int64  \n",
      " 15  no_of_previous_bookings_not_canceled  36275 non-null  int64  \n",
      " 16  avg_price_per_room                    34643 non-null  float64\n",
      " 17  no_of_special_requests                36275 non-null  int64  \n",
      " 18  booking_status                        36275 non-null  object \n",
      "dtypes: float64(2), int64(12), object(5)\n",
      "memory usage: 5.3+ MB\n"
     ]
    }
   ],
   "source": [
    "df.info()"
   ]
  },
  {
   "cell_type": "code",
   "execution_count": 6,
   "metadata": {},
   "outputs": [
    {
     "name": "stdout",
     "output_type": "stream",
     "text": [
      "\n",
      "Statistik Deskriptif (Kolom Numerik):\n"
     ]
    },
    {
     "data": {
      "text/html": [
       "<div>\n",
       "<style scoped>\n",
       "    .dataframe tbody tr th:only-of-type {\n",
       "        vertical-align: middle;\n",
       "    }\n",
       "\n",
       "    .dataframe tbody tr th {\n",
       "        vertical-align: top;\n",
       "    }\n",
       "\n",
       "    .dataframe thead th {\n",
       "        text-align: right;\n",
       "    }\n",
       "</style>\n",
       "<table border=\"1\" class=\"dataframe\">\n",
       "  <thead>\n",
       "    <tr style=\"text-align: right;\">\n",
       "      <th></th>\n",
       "      <th>no_of_adults</th>\n",
       "      <th>no_of_children</th>\n",
       "      <th>no_of_weekend_nights</th>\n",
       "      <th>no_of_week_nights</th>\n",
       "      <th>required_car_parking_space</th>\n",
       "      <th>lead_time</th>\n",
       "      <th>arrival_year</th>\n",
       "      <th>arrival_month</th>\n",
       "      <th>arrival_date</th>\n",
       "      <th>repeated_guest</th>\n",
       "      <th>no_of_previous_cancellations</th>\n",
       "      <th>no_of_previous_bookings_not_canceled</th>\n",
       "      <th>avg_price_per_room</th>\n",
       "      <th>no_of_special_requests</th>\n",
       "    </tr>\n",
       "  </thead>\n",
       "  <tbody>\n",
       "    <tr>\n",
       "      <th>count</th>\n",
       "      <td>36275.000000</td>\n",
       "      <td>36275.000000</td>\n",
       "      <td>36275.000000</td>\n",
       "      <td>36275.000000</td>\n",
       "      <td>35005.000000</td>\n",
       "      <td>36275.000000</td>\n",
       "      <td>36275.000000</td>\n",
       "      <td>36275.000000</td>\n",
       "      <td>36275.000000</td>\n",
       "      <td>36275.000000</td>\n",
       "      <td>36275.000000</td>\n",
       "      <td>36275.000000</td>\n",
       "      <td>34643.000000</td>\n",
       "      <td>36275.000000</td>\n",
       "    </tr>\n",
       "    <tr>\n",
       "      <th>mean</th>\n",
       "      <td>1.844962</td>\n",
       "      <td>0.105279</td>\n",
       "      <td>0.810724</td>\n",
       "      <td>2.204300</td>\n",
       "      <td>0.031281</td>\n",
       "      <td>85.232557</td>\n",
       "      <td>2017.820427</td>\n",
       "      <td>7.423653</td>\n",
       "      <td>15.596995</td>\n",
       "      <td>0.025637</td>\n",
       "      <td>0.023349</td>\n",
       "      <td>0.153411</td>\n",
       "      <td>103.447208</td>\n",
       "      <td>0.619655</td>\n",
       "    </tr>\n",
       "    <tr>\n",
       "      <th>std</th>\n",
       "      <td>0.518715</td>\n",
       "      <td>0.402648</td>\n",
       "      <td>0.870644</td>\n",
       "      <td>1.410905</td>\n",
       "      <td>0.174079</td>\n",
       "      <td>85.930817</td>\n",
       "      <td>0.383836</td>\n",
       "      <td>3.069894</td>\n",
       "      <td>8.740447</td>\n",
       "      <td>0.158053</td>\n",
       "      <td>0.368331</td>\n",
       "      <td>1.754171</td>\n",
       "      <td>35.158417</td>\n",
       "      <td>0.786236</td>\n",
       "    </tr>\n",
       "    <tr>\n",
       "      <th>min</th>\n",
       "      <td>0.000000</td>\n",
       "      <td>0.000000</td>\n",
       "      <td>0.000000</td>\n",
       "      <td>0.000000</td>\n",
       "      <td>0.000000</td>\n",
       "      <td>0.000000</td>\n",
       "      <td>2017.000000</td>\n",
       "      <td>1.000000</td>\n",
       "      <td>1.000000</td>\n",
       "      <td>0.000000</td>\n",
       "      <td>0.000000</td>\n",
       "      <td>0.000000</td>\n",
       "      <td>0.000000</td>\n",
       "      <td>0.000000</td>\n",
       "    </tr>\n",
       "    <tr>\n",
       "      <th>25%</th>\n",
       "      <td>2.000000</td>\n",
       "      <td>0.000000</td>\n",
       "      <td>0.000000</td>\n",
       "      <td>1.000000</td>\n",
       "      <td>0.000000</td>\n",
       "      <td>17.000000</td>\n",
       "      <td>2018.000000</td>\n",
       "      <td>5.000000</td>\n",
       "      <td>8.000000</td>\n",
       "      <td>0.000000</td>\n",
       "      <td>0.000000</td>\n",
       "      <td>0.000000</td>\n",
       "      <td>80.300000</td>\n",
       "      <td>0.000000</td>\n",
       "    </tr>\n",
       "    <tr>\n",
       "      <th>50%</th>\n",
       "      <td>2.000000</td>\n",
       "      <td>0.000000</td>\n",
       "      <td>1.000000</td>\n",
       "      <td>2.000000</td>\n",
       "      <td>0.000000</td>\n",
       "      <td>57.000000</td>\n",
       "      <td>2018.000000</td>\n",
       "      <td>8.000000</td>\n",
       "      <td>16.000000</td>\n",
       "      <td>0.000000</td>\n",
       "      <td>0.000000</td>\n",
       "      <td>0.000000</td>\n",
       "      <td>99.450000</td>\n",
       "      <td>0.000000</td>\n",
       "    </tr>\n",
       "    <tr>\n",
       "      <th>75%</th>\n",
       "      <td>2.000000</td>\n",
       "      <td>0.000000</td>\n",
       "      <td>2.000000</td>\n",
       "      <td>3.000000</td>\n",
       "      <td>0.000000</td>\n",
       "      <td>126.000000</td>\n",
       "      <td>2018.000000</td>\n",
       "      <td>10.000000</td>\n",
       "      <td>23.000000</td>\n",
       "      <td>0.000000</td>\n",
       "      <td>0.000000</td>\n",
       "      <td>0.000000</td>\n",
       "      <td>120.275000</td>\n",
       "      <td>1.000000</td>\n",
       "    </tr>\n",
       "    <tr>\n",
       "      <th>max</th>\n",
       "      <td>4.000000</td>\n",
       "      <td>10.000000</td>\n",
       "      <td>7.000000</td>\n",
       "      <td>17.000000</td>\n",
       "      <td>1.000000</td>\n",
       "      <td>443.000000</td>\n",
       "      <td>2018.000000</td>\n",
       "      <td>12.000000</td>\n",
       "      <td>31.000000</td>\n",
       "      <td>1.000000</td>\n",
       "      <td>13.000000</td>\n",
       "      <td>58.000000</td>\n",
       "      <td>540.000000</td>\n",
       "      <td>5.000000</td>\n",
       "    </tr>\n",
       "  </tbody>\n",
       "</table>\n",
       "</div>"
      ],
      "text/plain": [
       "       no_of_adults  no_of_children  no_of_weekend_nights  no_of_week_nights  \\\n",
       "count  36275.000000    36275.000000          36275.000000       36275.000000   \n",
       "mean       1.844962        0.105279              0.810724           2.204300   \n",
       "std        0.518715        0.402648              0.870644           1.410905   \n",
       "min        0.000000        0.000000              0.000000           0.000000   \n",
       "25%        2.000000        0.000000              0.000000           1.000000   \n",
       "50%        2.000000        0.000000              1.000000           2.000000   \n",
       "75%        2.000000        0.000000              2.000000           3.000000   \n",
       "max        4.000000       10.000000              7.000000          17.000000   \n",
       "\n",
       "       required_car_parking_space     lead_time  arrival_year  arrival_month  \\\n",
       "count                35005.000000  36275.000000  36275.000000   36275.000000   \n",
       "mean                     0.031281     85.232557   2017.820427       7.423653   \n",
       "std                      0.174079     85.930817      0.383836       3.069894   \n",
       "min                      0.000000      0.000000   2017.000000       1.000000   \n",
       "25%                      0.000000     17.000000   2018.000000       5.000000   \n",
       "50%                      0.000000     57.000000   2018.000000       8.000000   \n",
       "75%                      0.000000    126.000000   2018.000000      10.000000   \n",
       "max                      1.000000    443.000000   2018.000000      12.000000   \n",
       "\n",
       "       arrival_date  repeated_guest  no_of_previous_cancellations  \\\n",
       "count  36275.000000    36275.000000                  36275.000000   \n",
       "mean      15.596995        0.025637                      0.023349   \n",
       "std        8.740447        0.158053                      0.368331   \n",
       "min        1.000000        0.000000                      0.000000   \n",
       "25%        8.000000        0.000000                      0.000000   \n",
       "50%       16.000000        0.000000                      0.000000   \n",
       "75%       23.000000        0.000000                      0.000000   \n",
       "max       31.000000        1.000000                     13.000000   \n",
       "\n",
       "       no_of_previous_bookings_not_canceled  avg_price_per_room  \\\n",
       "count                          36275.000000        34643.000000   \n",
       "mean                               0.153411          103.447208   \n",
       "std                                1.754171           35.158417   \n",
       "min                                0.000000            0.000000   \n",
       "25%                                0.000000           80.300000   \n",
       "50%                                0.000000           99.450000   \n",
       "75%                                0.000000          120.275000   \n",
       "max                               58.000000          540.000000   \n",
       "\n",
       "       no_of_special_requests  \n",
       "count            36275.000000  \n",
       "mean                 0.619655  \n",
       "std                  0.786236  \n",
       "min                  0.000000  \n",
       "25%                  0.000000  \n",
       "50%                  0.000000  \n",
       "75%                  1.000000  \n",
       "max                  5.000000  "
      ]
     },
     "metadata": {},
     "output_type": "display_data"
    }
   ],
   "source": [
    "# Statistik deskriptif untuk kolom numerik\n",
    "print(\"\\nStatistik Deskriptif (Kolom Numerik):\")\n",
    "display(df.describe())"
   ]
  },
  {
   "cell_type": "code",
   "execution_count": 7,
   "metadata": {},
   "outputs": [
    {
     "name": "stdout",
     "output_type": "stream",
     "text": [
      "\n",
      "Statistik Deskriptif (Kolom Kategorikal):\n"
     ]
    },
    {
     "data": {
      "text/html": [
       "<div>\n",
       "<style scoped>\n",
       "    .dataframe tbody tr th:only-of-type {\n",
       "        vertical-align: middle;\n",
       "    }\n",
       "\n",
       "    .dataframe tbody tr th {\n",
       "        vertical-align: top;\n",
       "    }\n",
       "\n",
       "    .dataframe thead th {\n",
       "        text-align: right;\n",
       "    }\n",
       "</style>\n",
       "<table border=\"1\" class=\"dataframe\">\n",
       "  <thead>\n",
       "    <tr style=\"text-align: right;\">\n",
       "      <th></th>\n",
       "      <th>Booking_ID</th>\n",
       "      <th>type_of_meal_plan</th>\n",
       "      <th>room_type_reserved</th>\n",
       "      <th>market_segment_type</th>\n",
       "      <th>booking_status</th>\n",
       "    </tr>\n",
       "  </thead>\n",
       "  <tbody>\n",
       "    <tr>\n",
       "      <th>count</th>\n",
       "      <td>36275</td>\n",
       "      <td>35368</td>\n",
       "      <td>36275</td>\n",
       "      <td>36275</td>\n",
       "      <td>36275</td>\n",
       "    </tr>\n",
       "    <tr>\n",
       "      <th>unique</th>\n",
       "      <td>36275</td>\n",
       "      <td>4</td>\n",
       "      <td>7</td>\n",
       "      <td>5</td>\n",
       "      <td>2</td>\n",
       "    </tr>\n",
       "    <tr>\n",
       "      <th>top</th>\n",
       "      <td>INN00001</td>\n",
       "      <td>Meal Plan 1</td>\n",
       "      <td>Room_Type 1</td>\n",
       "      <td>Online</td>\n",
       "      <td>Not_Canceled</td>\n",
       "    </tr>\n",
       "    <tr>\n",
       "      <th>freq</th>\n",
       "      <td>1</td>\n",
       "      <td>27157</td>\n",
       "      <td>28130</td>\n",
       "      <td>23214</td>\n",
       "      <td>24390</td>\n",
       "    </tr>\n",
       "  </tbody>\n",
       "</table>\n",
       "</div>"
      ],
      "text/plain": [
       "       Booking_ID type_of_meal_plan room_type_reserved market_segment_type  \\\n",
       "count       36275             35368              36275               36275   \n",
       "unique      36275                 4                  7                   5   \n",
       "top      INN00001       Meal Plan 1        Room_Type 1              Online   \n",
       "freq            1             27157              28130               23214   \n",
       "\n",
       "       booking_status  \n",
       "count           36275  \n",
       "unique              2  \n",
       "top      Not_Canceled  \n",
       "freq            24390  "
      ]
     },
     "metadata": {},
     "output_type": "display_data"
    }
   ],
   "source": [
    "# Statistik deskriptif untuk kolom kategorikal (object)\n",
    "print(\"\\nStatistik Deskriptif (Kolom Kategorikal):\")\n",
    "display(df.describe(include='object'))"
   ]
  },
  {
   "cell_type": "code",
   "execution_count": 8,
   "metadata": {},
   "outputs": [
    {
     "name": "stdout",
     "output_type": "stream",
     "text": [
      "\n",
      "Jumlah Nilai Unik per Kolom:\n"
     ]
    },
    {
     "data": {
      "text/plain": [
       "Booking_ID                              36275\n",
       "no_of_adults                                5\n",
       "no_of_children                              6\n",
       "no_of_weekend_nights                        8\n",
       "no_of_week_nights                          18\n",
       "type_of_meal_plan                           4\n",
       "required_car_parking_space                  2\n",
       "room_type_reserved                          7\n",
       "lead_time                                 352\n",
       "arrival_year                                2\n",
       "arrival_month                              12\n",
       "arrival_date                               31\n",
       "market_segment_type                         5\n",
       "repeated_guest                              2\n",
       "no_of_previous_cancellations                9\n",
       "no_of_previous_bookings_not_canceled       59\n",
       "avg_price_per_room                       3850\n",
       "no_of_special_requests                      6\n",
       "booking_status                              2\n",
       "dtype: int64"
      ]
     },
     "execution_count": 8,
     "metadata": {},
     "output_type": "execute_result"
    }
   ],
   "source": [
    "# Jumlah nilai unik di setiap kolom\n",
    "print(\"\\nJumlah Nilai Unik per Kolom:\")\n",
    "df.nunique()"
   ]
  },
  {
   "cell_type": "code",
   "execution_count": 9,
   "metadata": {},
   "outputs": [
    {
     "name": "stdout",
     "output_type": "stream",
     "text": [
      "\n",
      "Distribusi Variabel Target (booking_status):\n",
      "booking_status\n",
      "Not_Canceled    24390\n",
      "Canceled        11885\n",
      "Name: count, dtype: int64\n",
      "\n",
      "Persentase:\n",
      "booking_status\n",
      "Not_Canceled    67.236389\n",
      "Canceled        32.763611\n",
      "Name: proportion, dtype: float64\n"
     ]
    }
   ],
   "source": [
    "# distribusi variabel target ('booking_status')\n",
    "print(\"\\nDistribusi Variabel Target (booking_status):\")\n",
    "target_counts = df['booking_status'].value_counts()\n",
    "target_perc = df['booking_status'].value_counts(normalize=True) * 100\n",
    "print(target_counts)\n",
    "print(f\"\\nPersentase:\\n{target_perc}\")"
   ]
  },
  {
   "cell_type": "code",
   "execution_count": 10,
   "metadata": {},
   "outputs": [
    {
     "name": "stderr",
     "output_type": "stream",
     "text": [
      "C:\\Users\\Lenovo\\AppData\\Local\\Temp\\ipykernel_9324\\2540506137.py:3: FutureWarning: \n",
      "\n",
      "Passing `palette` without assigning `hue` is deprecated and will be removed in v0.14.0. Assign the `x` variable to `hue` and set `legend=False` for the same effect.\n",
      "\n",
      "  sns.countplot(x='booking_status', data=df, palette='viridis')\n"
     ]
    },
    {
     "data": {
      "image/png": "[encoded data removed]",
      "text/plain": [
       "<Figure size 600x400 with 1 Axes>"
      ]
     },
     "metadata": {},
     "output_type": "display_data"
    }
   ],
   "source": [
    "# Visualisasi distribusi target\n",
    "plt.figure(figsize=(6, 4))\n",
    "sns.countplot(x='booking_status', data=df, palette='viridis')\n",
    "plt.title('Distribusi Status Pemesanan (Target)')\n",
    "plt.xlabel('Status Pemesanan')\n",
    "plt.ylabel('Jumlah')\n",
    "plt.show()"
   ]
  },
  {
   "cell_type": "markdown",
   "metadata": {},
   "source": [
    "### 1.3. Data Cleaning"
   ]
  },
  {
   "cell_type": "markdown",
   "metadata": {},
   "source": [
    "#### 1.3.1 Missing Value Handling"
   ]
  },
  {
   "cell_type": "code",
   "execution_count": 11,
   "metadata": {},
   "outputs": [
    {
     "name": "stdout",
     "output_type": "stream",
     "text": [
      "\n",
      "Informasi Missing Values:\n"
     ]
    },
    {
     "data": {
      "text/html": [
       "<div>\n",
       "<style scoped>\n",
       "    .dataframe tbody tr th:only-of-type {\n",
       "        vertical-align: middle;\n",
       "    }\n",
       "\n",
       "    .dataframe tbody tr th {\n",
       "        vertical-align: top;\n",
       "    }\n",
       "\n",
       "    .dataframe thead th {\n",
       "        text-align: right;\n",
       "    }\n",
       "</style>\n",
       "<table border=\"1\" class=\"dataframe\">\n",
       "  <thead>\n",
       "    <tr style=\"text-align: right;\">\n",
       "      <th></th>\n",
       "      <th>Jumlah Missing</th>\n",
       "      <th>Persentase Missing (%)</th>\n",
       "    </tr>\n",
       "  </thead>\n",
       "  <tbody>\n",
       "    <tr>\n",
       "      <th>avg_price_per_room</th>\n",
       "      <td>1632</td>\n",
       "      <td>4.498966</td>\n",
       "    </tr>\n",
       "    <tr>\n",
       "      <th>required_car_parking_space</th>\n",
       "      <td>1270</td>\n",
       "      <td>3.501034</td>\n",
       "    </tr>\n",
       "    <tr>\n",
       "      <th>type_of_meal_plan</th>\n",
       "      <td>907</td>\n",
       "      <td>2.500345</td>\n",
       "    </tr>\n",
       "  </tbody>\n",
       "</table>\n",
       "</div>"
      ],
      "text/plain": [
       "                            Jumlah Missing  Persentase Missing (%)\n",
       "avg_price_per_room                    1632                4.498966\n",
       "required_car_parking_space            1270                3.501034\n",
       "type_of_meal_plan                      907                2.500345"
      ]
     },
     "metadata": {},
     "output_type": "display_data"
    }
   ],
   "source": [
    "missing_values = df.isnull().sum()\n",
    "missing_percent = (missing_values / len(df)) * 100\n",
    "missing_info = pd.DataFrame({'Jumlah Missing': missing_values, 'Persentase Missing (%)': missing_percent})\n",
    "print(\"\\nInformasi Missing Values:\")\n",
    "display(missing_info[missing_info['Jumlah Missing'] > 0].sort_values(by='Persentase Missing (%)', ascending=False))\n"
   ]
  },
  {
   "cell_type": "markdown",
   "metadata": {},
   "source": [
    "Strategi Penanganan Missing Values:\n",
    "* `avg_price_per_room`: Terdapat missing values (~4.5%). Akan diimputasi menggunakan **median** karena distribusi harga mungkin skewed dan ada nilai minimum 0.\n",
    "* `required_car_parking_space`: Terdapat missing values (~3.5%). Ini adalah kolom binary (0/1). Akan diimputasi dengan **0** (asumsi jika kosong berarti tidak perlu parkir).\n",
    "* `type_of_meal_plan`: Terdapat missing values (~2.5%). Ini adalah kolom kategori. Akan diimputasi dengan **modus** (nilai yang paling sering muncul, yaitu 'Meal Plan 1' berdasarkan EDA).\n"
   ]
  },
  {
   "cell_type": "code",
   "execution_count": 12,
   "metadata": {},
   "outputs": [
    {
     "name": "stdout",
     "output_type": "stream",
     "text": [
      "Missing values di 'avg_price_per_room' diimputasi dengan median: 99.45\n"
     ]
    },
    {
     "name": "stderr",
     "output_type": "stream",
     "text": [
      "C:\\Users\\Lenovo\\AppData\\Local\\Temp\\ipykernel_9324\\3715620577.py:3: FutureWarning: A value is trying to be set on a copy of a DataFrame or Series through chained assignment using an inplace method.\n",
      "The behavior will change in pandas 3.0. This inplace method will never work because the intermediate object on which we are setting values always behaves as a copy.\n",
      "\n",
      "For example, when doing 'df[col].method(value, inplace=True)', try using 'df.method({col: value}, inplace=True)' or df[col] = df[col].method(value) instead, to perform the operation inplace on the original object.\n",
      "\n",
      "\n",
      "  df['avg_price_per_room'].fillna(median_price, inplace=True)\n"
     ]
    }
   ],
   "source": [
    "# Imputasi avg_price_per_room dengan median\n",
    "median_price = df['avg_price_per_room'].median()\n",
    "df['avg_price_per_room'].fillna(median_price, inplace=True)\n",
    "print(f\"Missing values di 'avg_price_per_room' diimputasi dengan median: {median_price}\")\n"
   ]
  },
  {
   "cell_type": "code",
   "execution_count": 13,
   "metadata": {},
   "outputs": [
    {
     "name": "stdout",
     "output_type": "stream",
     "text": [
      "Missing values di 'required_car_parking_space' diimputasi dengan 0.\n"
     ]
    },
    {
     "name": "stderr",
     "output_type": "stream",
     "text": [
      "C:\\Users\\Lenovo\\AppData\\Local\\Temp\\ipykernel_9324\\3948360108.py:2: FutureWarning: A value is trying to be set on a copy of a DataFrame or Series through chained assignment using an inplace method.\n",
      "The behavior will change in pandas 3.0. This inplace method will never work because the intermediate object on which we are setting values always behaves as a copy.\n",
      "\n",
      "For example, when doing 'df[col].method(value, inplace=True)', try using 'df.method({col: value}, inplace=True)' or df[col] = df[col].method(value) instead, to perform the operation inplace on the original object.\n",
      "\n",
      "\n",
      "  df['required_car_parking_space'].fillna(0, inplace=True)\n"
     ]
    }
   ],
   "source": [
    "# Imputasi required_car_parking_space dengan 0\n",
    "df['required_car_parking_space'].fillna(0, inplace=True)\n",
    "print(\"Missing values di 'required_car_parking_space' diimputasi dengan 0.\")\n"
   ]
  },
  {
   "cell_type": "code",
   "execution_count": 14,
   "metadata": {},
   "outputs": [
    {
     "name": "stdout",
     "output_type": "stream",
     "text": [
      "Missing values di 'type_of_meal_plan' diimputasi dengan modus: 'Meal Plan 1'\n"
     ]
    },
    {
     "name": "stderr",
     "output_type": "stream",
     "text": [
      "C:\\Users\\Lenovo\\AppData\\Local\\Temp\\ipykernel_9324\\2307824243.py:3: FutureWarning: A value is trying to be set on a copy of a DataFrame or Series through chained assignment using an inplace method.\n",
      "The behavior will change in pandas 3.0. This inplace method will never work because the intermediate object on which we are setting values always behaves as a copy.\n",
      "\n",
      "For example, when doing 'df[col].method(value, inplace=True)', try using 'df.method({col: value}, inplace=True)' or df[col] = df[col].method(value) instead, to perform the operation inplace on the original object.\n",
      "\n",
      "\n",
      "  df['type_of_meal_plan'].fillna(mode_meal, inplace=True)\n"
     ]
    }
   ],
   "source": [
    "# Imputasi type_of_meal_plan dengan modus\n",
    "mode_meal = df['type_of_meal_plan'].mode()[0]\n",
    "df['type_of_meal_plan'].fillna(mode_meal, inplace=True)\n",
    "print(f\"Missing values di 'type_of_meal_plan' diimputasi dengan modus: '{mode_meal}'\")\n"
   ]
  },
  {
   "cell_type": "code",
   "execution_count": 15,
   "metadata": {},
   "outputs": [
    {
     "name": "stdout",
     "output_type": "stream",
     "text": [
      "\n",
      "Missing values setelah imputasi:\n",
      "Total missing values tersisa: 0\n"
     ]
    }
   ],
   "source": [
    "print(\"\\nMissing values setelah imputasi:\")\n",
    "print(f\"Total missing values tersisa: {df.isnull().sum().sum()}\") # Seharusnya 0"
   ]
  },
  {
   "cell_type": "markdown",
   "metadata": {},
   "source": [
    "#### 1.3.2 Koreksi Tipe Data "
   ]
  },
  {
   "cell_type": "code",
   "execution_count": 16,
   "metadata": {},
   "outputs": [
    {
     "data": {
      "text/plain": [
       "required_car_parking_space    int32\n",
       "dtype: object"
      ]
     },
     "execution_count": 16,
     "metadata": {},
     "output_type": "execute_result"
    }
   ],
   "source": [
    "# Kolom 'required_car_parking_space' seharusnya integer setelah imputasi\n",
    "df['required_car_parking_space'] = df['required_car_parking_space'].astype(int)\n",
    "df[['required_car_parking_space']].dtypes\n"
   ]
  },
  {
   "cell_type": "markdown",
   "metadata": {},
   "source": [
    "#### 1.3.3 Data Duplikat"
   ]
  },
  {
   "cell_type": "code",
   "execution_count": 17,
   "metadata": {},
   "outputs": [
    {
     "name": "stdout",
     "output_type": "stream",
     "text": [
      "\n",
      "Jumlah baris duplikat sebelum dihapus: 0\n"
     ]
    }
   ],
   "source": [
    "num_duplicates_before = df.duplicated().sum()\n",
    "print(f\"\\nJumlah baris duplikat sebelum dihapus: {num_duplicates_before}\")"
   ]
  },
  {
   "cell_type": "markdown",
   "metadata": {},
   "source": [
    "### 1.4 Feature Engineering\n",
    "Membuat fitur baru dari fitur yang sudah ada untuk potentially meningkatkan performa model.\n"
   ]
  },
  {
   "cell_type": "code",
   "execution_count": 18,
   "metadata": {},
   "outputs": [],
   "source": [
    "# total malam menginap\n",
    "df['total_nights'] = df['no_of_weekend_nights'] + df['no_of_week_nights']\n",
    "# total tamu\n",
    "df['total_guests'] = df['no_of_adults'] + df['no_of_children']"
   ]
  },
  {
   "cell_type": "code",
   "execution_count": 19,
   "metadata": {},
   "outputs": [
    {
     "name": "stdout",
     "output_type": "stream",
     "text": [
      "\n",
      "Jumlah pemesanan dengan 0 tamu (dewasa + anak): 0\n"
     ]
    }
   ],
   "source": [
    "# Membersihkan data yang tidak logis (misalnya, tidak ada tamu sama sekali)\n",
    "invalid_booking_count = df[df['total_guests'] == 0].shape[0]\n",
    "print(f\"\\nJumlah pemesanan dengan 0 tamu (dewasa + anak): {invalid_booking_count}\")\n"
   ]
  },
  {
   "cell_type": "code",
   "execution_count": 20,
   "metadata": {},
   "outputs": [
    {
     "name": "stdout",
     "output_type": "stream",
     "text": [
      "\n",
      "Dataset dengan fitur baru ('total_nights', 'total_guests'):\n",
      "Unique Total Nights :  [ 0  1  2  3  4  5  6  7  8  9 10 11 12 13 14 15 16 17 18 19 20 21 22 23\n",
      " 24]\n",
      "Unique Total Guest :  [ 1  2  3  4  5 10 11 12]\n"
     ]
    }
   ],
   "source": [
    "print(\"\\nDataset dengan fitur baru ('total_nights', 'total_guests'):\")\n",
    "print(\"Unique Total Nights : \",np.unique(df['total_nights']))\n",
    "print(\"Unique Total Guest : \",np.unique(df['total_guests']))"
   ]
  },
  {
   "cell_type": "markdown",
   "metadata": {},
   "source": [
    "### 1.5. Encoding Fitur Kategorikal & Target"
   ]
  },
  {
   "cell_type": "code",
   "execution_count": 21,
   "metadata": {},
   "outputs": [
    {
     "name": "stdout",
     "output_type": "stream",
     "text": [
      "\n",
      "Variabel target setelah encoding (1: Canceled, 0: Not Canceled):\n",
      "booking_status\n",
      "0    24390\n",
      "1    11885\n",
      "Name: count, dtype: int64\n"
     ]
    }
   ],
   "source": [
    "# Encoding Variabel Target ('booking_status')\n",
    "target_map = {'Canceled': 1, 'Not_Canceled': 0}\n",
    "df['booking_status'] = df['booking_status'].map(target_map)\n",
    "print(\"\\nVariabel target setelah encoding (1: Canceled, 0: Not Canceled):\")\n",
    "print(df['booking_status'].value_counts())"
   ]
  },
  {
   "cell_type": "code",
   "execution_count": 22,
   "metadata": {},
   "outputs": [],
   "source": [
    "# Identifikasi kolom kategorikal (tipe 'object')\n",
    "categorical_cols = df.select_dtypes(include='object').columns.tolist()"
   ]
  },
  {
   "cell_type": "code",
   "execution_count": 23,
   "metadata": {},
   "outputs": [],
   "source": [
    "# Kolom 'room_type_reserved' juga kategorikal meskipun terenkripsi\n",
    "if 'room_type_reserved' not in categorical_cols and 'room_type_reserved' in df.columns:\n",
    "    categorical_cols.append('room_type_reserved') # Jika tipe datanya bukan object tapi seharusnya kategorikal\n"
   ]
  },
  {
   "cell_type": "code",
   "execution_count": 24,
   "metadata": {},
   "outputs": [
    {
     "name": "stdout",
     "output_type": "stream",
     "text": [
      "\n",
      "Kolom yang teridentifikasi sebagai kategorikal (tipe object): ['Booking_ID', 'type_of_meal_plan', 'room_type_reserved', 'market_segment_type']\n"
     ]
    }
   ],
   "source": [
    "print(f\"\\nKolom yang teridentifikasi sebagai kategorikal (tipe object): {categorical_cols}\")\n"
   ]
  },
  {
   "cell_type": "markdown",
   "metadata": {},
   "source": [
    "**Strategi Encoding:**\n",
    "Menggunakan One-Hot Encoding karena sebagian besar fitur kategorikal tidak memiliki urutan intrinsik (nominal). `drop_first=True` digunakan untuk menghindari multikolinearitas.\n"
   ]
  },
  {
   "cell_type": "code",
   "execution_count": 25,
   "metadata": {},
   "outputs": [
    {
     "name": "stdout",
     "output_type": "stream",
     "text": [
      "\n",
      "Ukuran data sebelum OHE: (36275, 21)\n"
     ]
    }
   ],
   "source": [
    "# Terapkan One-Hot Encoding\n",
    "print(f\"\\nUkuran data sebelum OHE: {df.shape}\")\n",
    "if 'Booking_ID' in categorical_cols:\n",
    "    categorical_cols.remove('Booking_ID')"
   ]
  },
  {
   "cell_type": "code",
   "execution_count": 26,
   "metadata": {},
   "outputs": [
    {
     "name": "stdout",
     "output_type": "stream",
     "text": [
      "Ukuran data setelah OHE: (36275, 31)\n"
     ]
    }
   ],
   "source": [
    "df_encoded = pd.get_dummies(df, columns=categorical_cols, drop_first=True, dtype=int)\n",
    "print(f\"Ukuran data setelah OHE: {df_encoded.shape}\")"
   ]
  },
  {
   "cell_type": "code",
   "execution_count": 27,
   "metadata": {},
   "outputs": [
    {
     "data": {
      "text/html": [
       "<div>\n",
       "<style scoped>\n",
       "    .dataframe tbody tr th:only-of-type {\n",
       "        vertical-align: middle;\n",
       "    }\n",
       "\n",
       "    .dataframe tbody tr th {\n",
       "        vertical-align: top;\n",
       "    }\n",
       "\n",
       "    .dataframe thead th {\n",
       "        text-align: right;\n",
       "    }\n",
       "</style>\n",
       "<table border=\"1\" class=\"dataframe\">\n",
       "  <thead>\n",
       "    <tr style=\"text-align: right;\">\n",
       "      <th></th>\n",
       "      <th>Booking_ID</th>\n",
       "      <th>no_of_adults</th>\n",
       "      <th>no_of_children</th>\n",
       "      <th>no_of_weekend_nights</th>\n",
       "      <th>no_of_week_nights</th>\n",
       "      <th>required_car_parking_space</th>\n",
       "      <th>lead_time</th>\n",
       "      <th>arrival_year</th>\n",
       "      <th>arrival_month</th>\n",
       "      <th>arrival_date</th>\n",
       "      <th>...</th>\n",
       "      <th>room_type_reserved_Room_Type 2</th>\n",
       "      <th>room_type_reserved_Room_Type 3</th>\n",
       "      <th>room_type_reserved_Room_Type 4</th>\n",
       "      <th>room_type_reserved_Room_Type 5</th>\n",
       "      <th>room_type_reserved_Room_Type 6</th>\n",
       "      <th>room_type_reserved_Room_Type 7</th>\n",
       "      <th>market_segment_type_Complementary</th>\n",
       "      <th>market_segment_type_Corporate</th>\n",
       "      <th>market_segment_type_Offline</th>\n",
       "      <th>market_segment_type_Online</th>\n",
       "    </tr>\n",
       "  </thead>\n",
       "  <tbody>\n",
       "    <tr>\n",
       "      <th>0</th>\n",
       "      <td>INN00001</td>\n",
       "      <td>2</td>\n",
       "      <td>0</td>\n",
       "      <td>1</td>\n",
       "      <td>2</td>\n",
       "      <td>0</td>\n",
       "      <td>224</td>\n",
       "      <td>2017</td>\n",
       "      <td>10</td>\n",
       "      <td>2</td>\n",
       "      <td>...</td>\n",
       "      <td>0</td>\n",
       "      <td>0</td>\n",
       "      <td>0</td>\n",
       "      <td>0</td>\n",
       "      <td>0</td>\n",
       "      <td>0</td>\n",
       "      <td>0</td>\n",
       "      <td>0</td>\n",
       "      <td>1</td>\n",
       "      <td>0</td>\n",
       "    </tr>\n",
       "    <tr>\n",
       "      <th>1</th>\n",
       "      <td>INN00002</td>\n",
       "      <td>2</td>\n",
       "      <td>0</td>\n",
       "      <td>2</td>\n",
       "      <td>3</td>\n",
       "      <td>0</td>\n",
       "      <td>5</td>\n",
       "      <td>2018</td>\n",
       "      <td>11</td>\n",
       "      <td>6</td>\n",
       "      <td>...</td>\n",
       "      <td>0</td>\n",
       "      <td>0</td>\n",
       "      <td>0</td>\n",
       "      <td>0</td>\n",
       "      <td>0</td>\n",
       "      <td>0</td>\n",
       "      <td>0</td>\n",
       "      <td>0</td>\n",
       "      <td>0</td>\n",
       "      <td>1</td>\n",
       "    </tr>\n",
       "    <tr>\n",
       "      <th>2</th>\n",
       "      <td>INN00003</td>\n",
       "      <td>1</td>\n",
       "      <td>0</td>\n",
       "      <td>2</td>\n",
       "      <td>1</td>\n",
       "      <td>0</td>\n",
       "      <td>1</td>\n",
       "      <td>2018</td>\n",
       "      <td>2</td>\n",
       "      <td>28</td>\n",
       "      <td>...</td>\n",
       "      <td>0</td>\n",
       "      <td>0</td>\n",
       "      <td>0</td>\n",
       "      <td>0</td>\n",
       "      <td>0</td>\n",
       "      <td>0</td>\n",
       "      <td>0</td>\n",
       "      <td>0</td>\n",
       "      <td>0</td>\n",
       "      <td>1</td>\n",
       "    </tr>\n",
       "    <tr>\n",
       "      <th>3</th>\n",
       "      <td>INN00004</td>\n",
       "      <td>2</td>\n",
       "      <td>0</td>\n",
       "      <td>0</td>\n",
       "      <td>2</td>\n",
       "      <td>0</td>\n",
       "      <td>211</td>\n",
       "      <td>2018</td>\n",
       "      <td>5</td>\n",
       "      <td>20</td>\n",
       "      <td>...</td>\n",
       "      <td>0</td>\n",
       "      <td>0</td>\n",
       "      <td>0</td>\n",
       "      <td>0</td>\n",
       "      <td>0</td>\n",
       "      <td>0</td>\n",
       "      <td>0</td>\n",
       "      <td>0</td>\n",
       "      <td>0</td>\n",
       "      <td>1</td>\n",
       "    </tr>\n",
       "    <tr>\n",
       "      <th>4</th>\n",
       "      <td>INN00005</td>\n",
       "      <td>2</td>\n",
       "      <td>0</td>\n",
       "      <td>1</td>\n",
       "      <td>1</td>\n",
       "      <td>0</td>\n",
       "      <td>48</td>\n",
       "      <td>2018</td>\n",
       "      <td>4</td>\n",
       "      <td>11</td>\n",
       "      <td>...</td>\n",
       "      <td>0</td>\n",
       "      <td>0</td>\n",
       "      <td>0</td>\n",
       "      <td>0</td>\n",
       "      <td>0</td>\n",
       "      <td>0</td>\n",
       "      <td>0</td>\n",
       "      <td>0</td>\n",
       "      <td>0</td>\n",
       "      <td>1</td>\n",
       "    </tr>\n",
       "  </tbody>\n",
       "</table>\n",
       "<p>5 rows × 31 columns</p>\n",
       "</div>"
      ],
      "text/plain": [
       "  Booking_ID  no_of_adults  no_of_children  no_of_weekend_nights  \\\n",
       "0   INN00001             2               0                     1   \n",
       "1   INN00002             2               0                     2   \n",
       "2   INN00003             1               0                     2   \n",
       "3   INN00004             2               0                     0   \n",
       "4   INN00005             2               0                     1   \n",
       "\n",
       "   no_of_week_nights  required_car_parking_space  lead_time  arrival_year  \\\n",
       "0                  2                           0        224          2017   \n",
       "1                  3                           0          5          2018   \n",
       "2                  1                           0          1          2018   \n",
       "3                  2                           0        211          2018   \n",
       "4                  1                           0         48          2018   \n",
       "\n",
       "   arrival_month  arrival_date  ...  room_type_reserved_Room_Type 2  \\\n",
       "0             10             2  ...                               0   \n",
       "1             11             6  ...                               0   \n",
       "2              2            28  ...                               0   \n",
       "3              5            20  ...                               0   \n",
       "4              4            11  ...                               0   \n",
       "\n",
       "   room_type_reserved_Room_Type 3  room_type_reserved_Room_Type 4  \\\n",
       "0                               0                               0   \n",
       "1                               0                               0   \n",
       "2                               0                               0   \n",
       "3                               0                               0   \n",
       "4                               0                               0   \n",
       "\n",
       "   room_type_reserved_Room_Type 5  room_type_reserved_Room_Type 6  \\\n",
       "0                               0                               0   \n",
       "1                               0                               0   \n",
       "2                               0                               0   \n",
       "3                               0                               0   \n",
       "4                               0                               0   \n",
       "\n",
       "   room_type_reserved_Room_Type 7  market_segment_type_Complementary  \\\n",
       "0                               0                                  0   \n",
       "1                               0                                  0   \n",
       "2                               0                                  0   \n",
       "3                               0                                  0   \n",
       "4                               0                                  0   \n",
       "\n",
       "   market_segment_type_Corporate  market_segment_type_Offline  \\\n",
       "0                              0                            1   \n",
       "1                              0                            0   \n",
       "2                              0                            0   \n",
       "3                              0                            0   \n",
       "4                              0                            0   \n",
       "\n",
       "   market_segment_type_Online  \n",
       "0                           0  \n",
       "1                           1  \n",
       "2                           1  \n",
       "3                           1  \n",
       "4                           1  \n",
       "\n",
       "[5 rows x 31 columns]"
      ]
     },
     "metadata": {},
     "output_type": "display_data"
    }
   ],
   "source": [
    "# Update dataframe utama\n",
    "df = df_encoded\n",
    "display(df.head())"
   ]
  },
  {
   "cell_type": "markdown",
   "metadata": {},
   "source": [
    "### 1.6 Data Spliting (Features & Target)\n",
    "Memisahkan dataset menjadi matriks fitur (X) dan vektor target (y). Kolom identifier seperti `Booking_ID` dan kolom tanggal asli (jika tidak digunakan/diubah) akan dihapus dari fitur.\n"
   ]
  },
  {
   "cell_type": "code",
   "execution_count": 28,
   "metadata": {},
   "outputs": [],
   "source": [
    "# Kolom tanggal asli (arrival_year, month, date) kita biarkan sebagai fitur numerik untuk saat ini\n",
    "# Hapus kolom identifier ('Booking_ID')\n",
    "columns_to_drop_final = ['Booking_ID']"
   ]
  },
  {
   "cell_type": "code",
   "execution_count": 29,
   "metadata": {},
   "outputs": [],
   "source": [
    "existing_cols_to_drop = [col for col in columns_to_drop_final if col in df.columns]\n",
    "features = df.drop(columns=['booking_status'] + existing_cols_to_drop, axis=1)\n",
    "target = df['booking_status']"
   ]
  },
  {
   "cell_type": "code",
   "execution_count": 30,
   "metadata": {},
   "outputs": [
    {
     "name": "stdout",
     "output_type": "stream",
     "text": [
      "\n",
      "Dataset dipisahkan menjadi Fitur (X) dan Target (y)\n",
      "Bentuk Fitur (X): (36275, 29)\n",
      "Bentuk Target (y): (36275,)\n",
      "\n",
      "Contoh beberapa nama kolom fitur:\n",
      "['no_of_adults', 'no_of_children', 'no_of_weekend_nights', 'no_of_week_nights', 'required_car_parking_space', 'lead_time', 'arrival_year', 'arrival_month', 'arrival_date', 'repeated_guest', 'no_of_previous_cancellations', 'no_of_previous_bookings_not_canceled', 'avg_price_per_room', 'no_of_special_requests', 'total_nights']\n"
     ]
    }
   ],
   "source": [
    "print(\"\\nDataset dipisahkan menjadi Fitur (X) dan Target (y)\")\n",
    "print(\"Bentuk Fitur (X):\", features.shape)\n",
    "print(\"Bentuk Target (y):\", target.shape)\n",
    "print(\"\\nContoh beberapa nama kolom fitur:\")\n",
    "print(features.columns[:15].tolist()) "
   ]
  },
  {
   "cell_type": "markdown",
   "metadata": {},
   "source": [
    "### 1.7 Data Spliting (Train & Test Split)\n",
    "Membagi data fitur (X) dan target (y) menjadi set pelatihan (train) dan set pengujian (test). Stratifikasi berdasarkan target (y) penting untuk menjaga proporsi kelas.\n"
   ]
  },
  {
   "cell_type": "code",
   "execution_count": 31,
   "metadata": {},
   "outputs": [],
   "source": [
    "from sklearn.model_selection import train_test_split\n"
   ]
  },
  {
   "cell_type": "code",
   "execution_count": 32,
   "metadata": {},
   "outputs": [],
   "source": [
    "X_train, X_test, y_train, y_test = train_test_split(\n",
    "    features,\n",
    "    target,\n",
    "    test_size=0.2,      # 20% data untuk pengujian\n",
    "    random_state=42,    # Untuk reproduktivitas\n",
    "    stratify=target     # Menjaga proporsi kelas target di train dan test set\n",
    ")"
   ]
  },
  {
   "cell_type": "code",
   "execution_count": 33,
   "metadata": {},
   "outputs": [
    {
     "name": "stdout",
     "output_type": "stream",
     "text": [
      "\n",
      "Data berhasil dibagi menjadi set pelatihan dan pengujian:\n",
      "Ukuran X_train: (29020, 29)\n",
      "Ukuran X_test: (7255, 29)\n",
      "Ukuran y_train: (29020,)\n",
      "Ukuran y_test: (7255,)\n",
      "\n",
      "Proporsi target di y_train:\n",
      "booking_status\n",
      "0    0.672364\n",
      "1    0.327636\n",
      "Name: proportion, dtype: float64\n",
      "\n",
      "Proporsi target di y_test:\n",
      "booking_status\n",
      "0    0.672364\n",
      "1    0.327636\n",
      "Name: proportion, dtype: float64\n"
     ]
    }
   ],
   "source": [
    "print(\"\\nData berhasil dibagi menjadi set pelatihan dan pengujian:\")\n",
    "print(\"Ukuran X_train:\", X_train.shape)\n",
    "print(\"Ukuran X_test:\", X_test.shape)\n",
    "print(\"Ukuran y_train:\", y_train.shape)\n",
    "print(\"Ukuran y_test:\", y_test.shape)\n",
    "print(\"\\nProporsi target di y_train:\")\n",
    "print(y_train.value_counts(normalize=True))\n",
    "print(\"\\nProporsi target di y_test:\")\n",
    "print(y_test.value_counts(normalize=True))"
   ]
  },
  {
   "cell_type": "markdown",
   "metadata": {},
   "source": [
    "### 1.8 Feature Scaling\n",
    "Menskalakan fitur numerik menggunakan StandardScaler (mean=0, std=1). Scaling dilakukan *setelah* pemisahan data. Fitur hasil One-Hot Encoding (0/1) dan fitur biner asli tidak di-scaling.\n"
   ]
  },
  {
   "cell_type": "code",
   "execution_count": 34,
   "metadata": {},
   "outputs": [],
   "source": [
    "from sklearn.preprocessing import StandardScaler\n",
    "import numpy as np \n",
    "import pickle      \n",
    "import os          "
   ]
  },
  {
   "cell_type": "code",
   "execution_count": 35,
   "metadata": {},
   "outputs": [],
   "source": [
    "# Identifikasi kolom numerik di X_train\n",
    "numerical_cols = X_train.select_dtypes(include=np.number).columns.tolist()\n"
   ]
  },
  {
   "cell_type": "code",
   "execution_count": 36,
   "metadata": {},
   "outputs": [],
   "source": [
    "# Kolom biner (nilai unik <= 2) tidak perlu di-scaling\n",
    "# Ini termasuk kolom OHE (drop_first=True), required_car_parking_space, repeated_guest\n",
    "binary_cols = [col for col in numerical_cols if X_train[col].nunique() <= 2]\n"
   ]
  },
  {
   "cell_type": "code",
   "execution_count": 37,
   "metadata": {},
   "outputs": [],
   "source": [
    "# Kolom yang akan di-scale adalah kolom numerik non-biner\n",
    "cols_to_scale = [col for col in numerical_cols if col not in binary_cols]"
   ]
  },
  {
   "cell_type": "code",
   "execution_count": 38,
   "metadata": {},
   "outputs": [
    {
     "name": "stdout",
     "output_type": "stream",
     "text": [
      "\n",
      "Kolom numerik yang akan di-scaling (13 kolom):\n",
      "['no_of_adults', 'no_of_children', 'no_of_weekend_nights', 'no_of_week_nights', 'lead_time', 'arrival_month', 'arrival_date', 'no_of_previous_cancellations', 'no_of_previous_bookings_not_canceled', 'avg_price_per_room', 'no_of_special_requests', 'total_nights', 'total_guests']\n"
     ]
    }
   ],
   "source": [
    "print(f\"\\nKolom numerik yang akan di-scaling ({len(cols_to_scale)} kolom):\")\n",
    "print(cols_to_scale) "
   ]
  },
  {
   "cell_type": "code",
   "execution_count": null,
   "metadata": {},
   "outputs": [
    {
     "name": "stdout",
     "output_type": "stream",
     "text": [
      "\n",
      "Fitur numerik telah di-scaling."
     ]
    },
    {
     "name": "stdout",
     "output_type": "stream",
     "text": [
      "\n",
      "Contoh data X_train setelah scaling (kolom yang di-scale):\n"
     ]
    },
    {
     "data": {
      "text/html": [
       "<div>\n",
       "<style scoped>\n",
       "    .dataframe tbody tr th:only-of-type {\n",
       "        vertical-align: middle;\n",
       "    }\n",
       "\n",
       "    .dataframe tbody tr th {\n",
       "        vertical-align: top;\n",
       "    }\n",
       "\n",
       "    .dataframe thead th {\n",
       "        text-align: right;\n",
       "    }\n",
       "</style>\n",
       "<table border=\"1\" class=\"dataframe\">\n",
       "  <thead>\n",
       "    <tr style=\"text-align: right;\">\n",
       "      <th></th>\n",
       "      <th>no_of_adults</th>\n",
       "      <th>no_of_children</th>\n",
       "      <th>no_of_weekend_nights</th>\n",
       "      <th>no_of_week_nights</th>\n",
       "      <th>lead_time</th>\n",
       "      <th>arrival_month</th>\n",
       "      <th>arrival_date</th>\n",
       "      <th>no_of_previous_cancellations</th>\n",
       "      <th>no_of_previous_bookings_not_canceled</th>\n",
       "      <th>avg_price_per_room</th>\n",
       "      <th>no_of_special_requests</th>\n",
       "      <th>total_nights</th>\n",
       "      <th>total_guests</th>\n",
       "    </tr>\n",
       "  </thead>\n",
       "  <tbody>\n",
       "    <tr>\n",
       "      <th>11731</th>\n",
       "      <td>0.298918</td>\n",
       "      <td>-0.26463</td>\n",
       "      <td>1.362393</td>\n",
       "      <td>-0.141380</td>\n",
       "      <td>-0.921571</td>\n",
       "      <td>1.492556</td>\n",
       "      <td>-1.326962</td>\n",
       "      <td>-0.063684</td>\n",
       "      <td>-0.089459</td>\n",
       "      <td>-1.025467</td>\n",
       "      <td>-0.789293</td>\n",
       "      <td>0.553799</td>\n",
       "      <td>0.076365</td>\n",
       "    </tr>\n",
       "    <tr>\n",
       "      <th>35609</th>\n",
       "      <td>0.298918</td>\n",
       "      <td>-0.26463</td>\n",
       "      <td>0.214274</td>\n",
       "      <td>1.278289</td>\n",
       "      <td>0.728984</td>\n",
       "      <td>1.492556</td>\n",
       "      <td>1.646557</td>\n",
       "      <td>-0.063684</td>\n",
       "      <td>-0.089459</td>\n",
       "      <td>-0.112121</td>\n",
       "      <td>-0.789293</td>\n",
       "      <td>1.114632</td>\n",
       "      <td>0.076365</td>\n",
       "    </tr>\n",
       "    <tr>\n",
       "      <th>21639</th>\n",
       "      <td>0.298918</td>\n",
       "      <td>-0.26463</td>\n",
       "      <td>1.362393</td>\n",
       "      <td>1.988124</td>\n",
       "      <td>1.275294</td>\n",
       "      <td>-0.137542</td>\n",
       "      <td>0.617262</td>\n",
       "      <td>-0.063684</td>\n",
       "      <td>-0.089459</td>\n",
       "      <td>-0.358971</td>\n",
       "      <td>0.483859</td>\n",
       "      <td>2.236299</td>\n",
       "      <td>0.076365</td>\n",
       "    </tr>\n",
       "    <tr>\n",
       "      <th>24432</th>\n",
       "      <td>-1.626204</td>\n",
       "      <td>-0.26463</td>\n",
       "      <td>-0.933846</td>\n",
       "      <td>0.568455</td>\n",
       "      <td>0.089685</td>\n",
       "      <td>0.840517</td>\n",
       "      <td>-1.098230</td>\n",
       "      <td>-0.063684</td>\n",
       "      <td>-0.089459</td>\n",
       "      <td>0.293004</td>\n",
       "      <td>3.030164</td>\n",
       "      <td>-0.007035</td>\n",
       "      <td>-1.464751</td>\n",
       "    </tr>\n",
       "    <tr>\n",
       "      <th>31975</th>\n",
       "      <td>0.298918</td>\n",
       "      <td>-0.26463</td>\n",
       "      <td>0.214274</td>\n",
       "      <td>-0.141380</td>\n",
       "      <td>2.553892</td>\n",
       "      <td>1.166536</td>\n",
       "      <td>-1.326962</td>\n",
       "      <td>-0.063684</td>\n",
       "      <td>-0.089459</td>\n",
       "      <td>-0.415602</td>\n",
       "      <td>-0.789293</td>\n",
       "      <td>-0.007035</td>\n",
       "      <td>0.076365</td>\n",
       "    </tr>\n",
       "  </tbody>\n",
       "</table>\n",
       "</div>"
      ],
      "text/plain": [
       "       no_of_adults  no_of_children  no_of_weekend_nights  no_of_week_nights  \\\n",
       "11731      0.298918        -0.26463              1.362393          -0.141380   \n",
       "35609      0.298918        -0.26463              0.214274           1.278289   \n",
       "21639      0.298918        -0.26463              1.362393           1.988124   \n",
       "24432     -1.626204        -0.26463             -0.933846           0.568455   \n",
       "31975      0.298918        -0.26463              0.214274          -0.141380   \n",
       "\n",
       "       lead_time  arrival_month  arrival_date  no_of_previous_cancellations  \\\n",
       "11731  -0.921571       1.492556     -1.326962                     -0.063684   \n",
       "35609   0.728984       1.492556      1.646557                     -0.063684   \n",
       "21639   1.275294      -0.137542      0.617262                     -0.063684   \n",
       "24432   0.089685       0.840517     -1.098230                     -0.063684   \n",
       "31975   2.553892       1.166536     -1.326962                     -0.063684   \n",
       "\n",
       "       no_of_previous_bookings_not_canceled  avg_price_per_room  \\\n",
       "11731                             -0.089459           -1.025467   \n",
       "35609                             -0.089459           -0.112121   \n",
       "21639                             -0.089459           -0.358971   \n",
       "24432                             -0.089459            0.293004   \n",
       "31975                             -0.089459           -0.415602   \n",
       "\n",
       "       no_of_special_requests  total_nights  total_guests  \n",
       "11731               -0.789293      0.553799      0.076365  \n",
       "35609               -0.789293      1.114632      0.076365  \n",
       "21639                0.483859      2.236299      0.076365  \n",
       "24432                3.030164     -0.007035     -1.464751  \n",
       "31975               -0.789293     -0.007035      0.076365  "
      ]
     },
     "metadata": {},
     "output_type": "display_data"
    },
    {
     "name": "stdout",
     "output_type": "stream",
     "text": [
      "\n",
      "Scaler berhasil disimpan ke '../models\\scaler.pkl'\n"
     ]
    }
   ],
   "source": [
    "if not cols_to_scale:\n",
    "    print(\"Tidak ada kolom numerik non-biner yang perlu di-scaling.\")\n",
    "else:\n",
    "  # Inisialisasi dan terapkan scaler\n",
    "    scaler = StandardScaler()\n",
    "\n",
    "    # Fit scaler HANYA pada data training\n",
    "    X_train[cols_to_scale] = scaler.fit_transform(X_train[cols_to_scale])\n",
    "\n",
    "    # Transform data test menggunakan scaler yang sudah di-fit\n",
    "    X_test[cols_to_scale] = scaler.transform(X_test[cols_to_scale])\n",
    "\n",
    "    print(\"\\nFitur numerik telah di-scaling.\")\n",
    "    print(\"Contoh data X_train setelah scaling (kolom yang di-scale):\")\n",
    "    display(X_train[cols_to_scale].head())\n",
    "\n",
    "    # Simpan scaler yang sudah di-fit untuk digunakan nanti saat inference\n",
    "    model_folder = '../models'\n",
    "    if not os.path.exists(model_folder):\n",
    "        os.makedirs(model_folder)\n",
    "        print(f\"Folder '{model_folder}' telah dibuat.\")\n",
    "\n",
    "    try:\n",
    "        scaler_path = os.path.join(model_folder, 'scaler.pkl')\n",
    "        with open(scaler_path, 'wb') as f:\n",
    "            pickle.dump(scaler, f)\n",
    "        print(f\"\\nScaler berhasil disimpan ke '{scaler_path}'\")\n",
    "    except Exception as e:\n",
    "        print(f\"\\nError saat menyimpan scaler: {e}\")\n"
   ]
  },
  {
   "cell_type": "markdown",
   "metadata": {},
   "source": [
    "# 2. Pelatihan dan Evaluasi\n",
    "Pada tahap ini, kita akan melatih dua model machine learning yang berbeda (*Random Forest dan XGBoost*) menggunakan data training yang sudah diproses. Kemudian, kita akan mengevaluasi performa kedua model pada data testing untuk membandingkan dan memilih model terbaik. Model terbaik akan disimpan untuk digunakan nanti dalam proses inference/deployment.\n"
   ]
  },
  {
   "cell_type": "code",
   "execution_count": 40,
   "metadata": {},
   "outputs": [],
   "source": [
    "from sklearn.ensemble import RandomForestClassifier\n",
    "from xgboost import XGBClassifier\n",
    "from sklearn.metrics import (\n",
    "    accuracy_score,\n",
    "    precision_score,\n",
    "    recall_score,\n",
    "    f1_score,\n",
    "    classification_report,\n",
    "    confusion_matrix,\n",
    "    roc_auc_score,\n",
    "    roc_curve\n",
    ")\n",
    "import matplotlib.pyplot as plt\n",
    "import seaborn as sns\n",
    "import pickle\n",
    "import time"
   ]
  },
  {
   "cell_type": "markdown",
   "metadata": {},
   "source": [
    "## 2.1 Inisialisasi Model\n",
    "Membuat instance dari model `RandomForestClassifier` dan `XGBClassifier`. Kita akan menggunakan `random_state=42` untuk memastikan hasil yang dapat direproduksi. Parameter lain dapat disesuaikan (hyperparameter tuning) untuk optimasi lebih lanjut, namun kita mulai dengan pengaturan dasar yang wajar.\n"
   ]
  },
  {
   "cell_type": "code",
   "execution_count": 41,
   "metadata": {},
   "outputs": [],
   "source": [
    "# Inisialisasi Random Forest Classifier\n",
    "# n_estimators: Jumlah pohon dalam forest\n",
    "# max_depth: Kedalaman maksimum pohon (membantu mencegah overfitting)\n",
    "# n_jobs=-1: Menggunakan semua prosesor yang tersedia\n",
    "rf_model = RandomForestClassifier(n_estimators=100, max_depth=10, random_state=42, n_jobs=-1)\n"
   ]
  },
  {
   "cell_type": "code",
   "execution_count": 42,
   "metadata": {},
   "outputs": [],
   "source": [
    "# Inisialisasi XGBoost Classifier\n",
    "# use_label_encoder=False: Untuk menghindari warning di versi XGBoost baru\n",
    "# eval_metric='logloss': Metrik evaluasi yang umum digunakan untuk klasifikasi biner\n",
    "# early_stopping_rounds (opsional): Dapat ditambahkan saat fit untuk mencegah overfitting jika menggunakan validation set\n",
    "xgb_model = XGBClassifier(random_state=42, use_label_encoder=False, eval_metric='logloss')\n"
   ]
  },
  {
   "cell_type": "markdown",
   "metadata": {},
   "source": [
    "## 2.2 Training Model"
   ]
  },
  {
   "cell_type": "markdown",
   "metadata": {},
   "source": [
    "### 2.2.1 Basemodel"
   ]
  },
  {
   "cell_type": "markdown",
   "metadata": {},
   "source": [
    "#### 2.2.1.1 Random Forest"
   ]
  },
  {
   "cell_type": "code",
   "execution_count": 43,
   "metadata": {},
   "outputs": [
    {
     "name": "stdout",
     "output_type": "stream",
     "text": [
      "Pelatihan Random Forest selesai dalam 0.29 detik.\n"
     ]
    }
   ],
   "source": [
    "start_time_rf = time.time()\n",
    "rf_model.fit(X_train, y_train)\n",
    "end_time_rf = time.time()\n",
    "print(f\"Pelatihan Random Forest selesai dalam {end_time_rf - start_time_rf:.2f} detik.\")\n"
   ]
  },
  {
   "cell_type": "markdown",
   "metadata": {},
   "source": [
    "#### 2.2.1.2 Evaluasi Random Forest\n",
    "mengevaluasi performa model menggunakan berbagai metrik klasifikasi. Visualisasi Confusion Matrix juga disertakan.\n"
   ]
  },
  {
   "cell_type": "code",
   "execution_count": 44,
   "metadata": {},
   "outputs": [],
   "source": [
    "# Prediksi kelas\n",
    "y_pred_rf = rf_model.predict(X_test)"
   ]
  },
  {
   "cell_type": "code",
   "execution_count": 45,
   "metadata": {},
   "outputs": [],
   "source": [
    "# Prediksi probabilitas untuk kelas positif (kelas 1 - Canceled)\n",
    "# Diperlukan untuk ROC AUC\n",
    "y_prob_rf = rf_model.predict_proba(X_test)[:, 1]\n"
   ]
  },
  {
   "cell_type": "code",
   "execution_count": 46,
   "metadata": {},
   "outputs": [
    {
     "name": "stdout",
     "output_type": "stream",
     "text": [
      "\n",
      "Laporan Klasifikasi (Random Forest):\n",
      "                  precision    recall  f1-score   support\n",
      "\n",
      "Not Canceled (0)       0.88      0.94      0.91      4878\n",
      "    Canceled (1)       0.86      0.74      0.80      2377\n",
      "\n",
      "        accuracy                           0.88      7255\n",
      "       macro avg       0.87      0.84      0.85      7255\n",
      "    weighted avg       0.88      0.88      0.87      7255\n",
      "\n",
      "Akurasi: 0.8759\n",
      "ROC AUC Score: 0.9346\n"
     ]
    }
   ],
   "source": [
    "# Hitung dan tampilkan metrik evaluasi\n",
    "print(\"\\nLaporan Klasifikasi (Random Forest):\")\n",
    "print(classification_report(y_test, y_pred_rf, target_names=['Not Canceled (0)', 'Canceled (1)']))\n",
    "accuracy_rf = accuracy_score(y_test, y_pred_rf)\n",
    "roc_auc_rf = roc_auc_score(y_test, y_prob_rf)\n",
    "print(f\"Akurasi: {accuracy_rf:.4f}\")\n",
    "print(f\"ROC AUC Score: {roc_auc_rf:.4f}\")\n"
   ]
  },
  {
   "cell_type": "code",
   "execution_count": 47,
   "metadata": {},
   "outputs": [
    {
     "data": {
      "image/png": "[encoded data removed]",
      "text/plain": [
       "<Figure size 600x400 with 2 Axes>"
      ]
     },
     "metadata": {},
     "output_type": "display_data"
    }
   ],
   "source": [
    "# Hitung Confusion Matrix\n",
    "cm_rf = confusion_matrix(y_test, y_pred_rf)\n",
    "\n",
    "# Visualisasi Confusion Matrix\n",
    "plt.figure(figsize=(6, 4))\n",
    "sns.heatmap(cm_rf, annot=True, fmt='d', cmap='Blues',\n",
    "            xticklabels=['Prediksi Not Canceled (0)', 'Prediksi Canceled (1)'],\n",
    "            yticklabels=['Aktual Not Canceled (0)', 'Aktual Canceled (1)'])\n",
    "plt.title('Confusion Matrix - Random Forest')\n",
    "plt.ylabel('Kelas Aktual')\n",
    "plt.xlabel('Kelas Prediksi')\n",
    "plt.show()"
   ]
  },
  {
   "cell_type": "markdown",
   "metadata": {},
   "source": [
    "#### 2.2.1.3 XGBoost"
   ]
  },
  {
   "cell_type": "code",
   "execution_count": 48,
   "metadata": {},
   "outputs": [
    {
     "name": "stdout",
     "output_type": "stream",
     "text": [
      "Pelatihan XGBoost selesai dalam 0.19 detik.\n"
     ]
    },
    {
     "name": "stderr",
     "output_type": "stream",
     "text": [
      "C:\\Users\\Lenovo\\AppData\\Local\\Packages\\PythonSoftwareFoundation.Python.3.11_qbz5n2kfra8p0\\LocalCache\\local-packages\\Python311\\site-packages\\xgboost\\core.py:158: UserWarning: [08:06:22] WARNING: C:\\buildkite-agent\\builds\\buildkite-windows-cpu-autoscaling-group-i-0c55ff5f71b100e98-1\\xgboost\\xgboost-ci-windows\\src\\learner.cc:740: \n",
      "Parameters: { \"use_label_encoder\" } are not used.\n",
      "\n",
      "  warnings.warn(smsg, UserWarning)\n"
     ]
    }
   ],
   "source": [
    "start_time_xgb = time.time()\n",
    "xgb_model.fit(X_train, y_train)\n",
    "end_time_xgb = time.time()\n",
    "print(f\"Pelatihan XGBoost selesai dalam {end_time_xgb - start_time_xgb:.2f} detik.\")"
   ]
  },
  {
   "cell_type": "markdown",
   "metadata": {},
   "source": [
    "#### 2.2.1.4 Evaluasi XGBoost"
   ]
  },
  {
   "cell_type": "code",
   "execution_count": 49,
   "metadata": {},
   "outputs": [],
   "source": [
    "# Prediksi kelas\n",
    "y_pred_xgb = xgb_model.predict(X_test)\n"
   ]
  },
  {
   "cell_type": "code",
   "execution_count": 50,
   "metadata": {},
   "outputs": [],
   "source": [
    "# Prediksi probabilitas untuk kelas positif (kelas 1 - Canceled)\n",
    "y_prob_xgb = xgb_model.predict_proba(X_test)[:, 1]"
   ]
  },
  {
   "cell_type": "code",
   "execution_count": 51,
   "metadata": {},
   "outputs": [
    {
     "name": "stdout",
     "output_type": "stream",
     "text": [
      "\n",
      "Laporan Klasifikasi (XGBoost):\n",
      "                  precision    recall  f1-score   support\n",
      "\n",
      "Not Canceled (0)       0.91      0.94      0.92      4878\n",
      "    Canceled (1)       0.86      0.80      0.83      2377\n",
      "\n",
      "        accuracy                           0.89      7255\n",
      "       macro avg       0.89      0.87      0.88      7255\n",
      "    weighted avg       0.89      0.89      0.89      7255\n",
      "\n",
      "Akurasi: 0.8937\n",
      "ROC AUC Score: 0.9552\n"
     ]
    }
   ],
   "source": [
    "# Hitung dan tampilkan metrik evaluasi\n",
    "print(\"\\nLaporan Klasifikasi (XGBoost):\")\n",
    "print(classification_report(y_test, y_pred_xgb, target_names=['Not Canceled (0)', 'Canceled (1)']))\n",
    "\n",
    "accuracy_xgb = accuracy_score(y_test, y_pred_xgb)\n",
    "roc_auc_xgb = roc_auc_score(y_test, y_prob_xgb)\n",
    "print(f\"Akurasi: {accuracy_xgb:.4f}\")\n",
    "print(f\"ROC AUC Score: {roc_auc_xgb:.4f}\")\n"
   ]
  },
  {
   "cell_type": "code",
   "execution_count": 52,
   "metadata": {},
   "outputs": [
    {
     "data": {
      "image/png": "[encoded data removed]",
      "text/plain": [
       "<Figure size 600x400 with 2 Axes>"
      ]
     },
     "metadata": {},
     "output_type": "display_data"
    }
   ],
   "source": [
    "# Hitung Confusion Matrix\n",
    "cm_xgb = confusion_matrix(y_test, y_pred_xgb)\n",
    "\n",
    "# Visualisasi Confusion Matrix\n",
    "plt.figure(figsize=(6, 4))\n",
    "sns.heatmap(cm_xgb, annot=True, fmt='d', cmap='Greens',\n",
    "            xticklabels=['Prediksi Not Canceled (0)', 'Prediksi Canceled (1)'],\n",
    "            yticklabels=['Aktual Not Canceled (0)', 'Aktual Canceled (1)'])\n",
    "plt.title('Confusion Matrix - XGBoost')\n",
    "plt.ylabel('Kelas Aktual')\n",
    "plt.xlabel('Kelas Prediksi')\n",
    "plt.show()"
   ]
  },
  {
   "cell_type": "markdown",
   "metadata": {},
   "source": [
    "### 2.2.2 Hyperparameter Tuning"
   ]
  },
  {
   "cell_type": "markdown",
   "metadata": {},
   "source": [
    "#### 2.2.2.1 Inisialisasi"
   ]
  },
  {
   "cell_type": "code",
   "execution_count": 53,
   "metadata": {},
   "outputs": [],
   "source": [
    "from sklearn.ensemble import RandomForestClassifier\n",
    "from xgboost import XGBClassifier\n",
    "from sklearn.model_selection import RandomizedSearchCV, KFold\n",
    "from sklearn.metrics import (\n",
    "    accuracy_score,\n",
    "    precision_score,\n",
    "    recall_score,\n",
    "    f1_score,\n",
    "    classification_report,\n",
    "    confusion_matrix,\n",
    "    roc_auc_score,\n",
    "    roc_curve\n",
    ")\n",
    "import matplotlib.pyplot as plt\n",
    "import seaborn as sns\n",
    "import pickle\n",
    "import time\n",
    "import numpy as np # Untuk distribusi parameter jika diperlukan\n",
    "import os # Untuk menyimpan model"
   ]
  },
  {
   "cell_type": "code",
   "execution_count": null,
   "metadata": {},
   "outputs": [],
   "source": [
    "# Grid Parameter untuk Random Forest\n",
    "rf_param_dist = {\n",
    "    'n_estimators': [100, 200, 300], # Jumlah pohon\n",
    "    'max_depth': [10, 20, 30, None], # Kedalaman maksimum, None berarti tanpa batas\n",
    "    'min_samples_split': [2, 5, 10], # Jumlah minimum sampel untuk membagi node\n",
    "    'min_samples_leaf': [1, 2, 4], # Jumlah minimum sampel di daun\n",
    "    'criterion': ['gini', 'entropy'], # Kriteria pemisahan\n",
    "    'bootstrap': [True, False] \n",
    "}"
   ]
  },
  {
   "cell_type": "code",
   "execution_count": null,
   "metadata": {},
   "outputs": [],
   "source": [
    "# Grid Parameter untuk XGB\n",
    "\n",
    "xgb_param_dist = {\n",
    "    'n_estimators': [100, 200, 300], # Jumlah ronde boosting\n",
    "    'max_depth': [3, 5, 7, 9], # Kedalaman maksimum pohon\n",
    "    'learning_rate': [0.01, 0.1, 0.2], # Laju pembelajaran\n",
    "    'subsample': [0.7, 0.8, 0.9, 1.0], # Fraksi sampel per pohon\n",
    "    'colsample_bytree': [0.7, 0.8, 0.9, 1.0], # Fraksi fitur per pohon\n",
    "    'gamma': [0, 0.1, 0.2], # Minimum loss reduction untuk split\n",
    "    'reg_alpha': [0, 0.01, 0.1], # L1 regularization \n",
    "    'reg_lambda': [1, 1.5, 2] # L2 regularization\n",
    "}"
   ]
  },
  {
   "cell_type": "markdown",
   "metadata": {},
   "source": [
    "#### 2.2.2.2 Eksekusi Hyperparameter Tuning"
   ]
  },
  {
   "cell_type": "code",
   "execution_count": 58,
   "metadata": {},
   "outputs": [],
   "source": [
    "# Pengaturan Cross-Validation\n",
    "cv_folds = KFold(n_splits=5, shuffle=True, random_state=42)"
   ]
  },
  {
   "cell_type": "code",
   "execution_count": null,
   "metadata": {},
   "outputs": [],
   "source": [
    "# Jumlah iterasi random search\n",
    "n_iter_search = 50 \n"
   ]
  },
  {
   "cell_type": "markdown",
   "metadata": {},
   "source": [
    "##### a. Random Forest"
   ]
  },
  {
   "cell_type": "code",
   "execution_count": 60,
   "metadata": {},
   "outputs": [
    {
     "name": "stdout",
     "output_type": "stream",
     "text": [
      "Memulai Tuning Random Forest (50 iterasi, 5-fold CV)...\n",
      "Fitting 5 folds for each of 50 candidates, totalling 250 fits\n"
     ]
    }
   ],
   "source": [
    "print(f\"Memulai Tuning Random Forest ({n_iter_search} iterasi, {cv_folds.get_n_splits()}-fold CV)...\")\n",
    "start_time_rf_tune = time.time()\n",
    "\n",
    "rf_base = RandomForestClassifier(random_state=42, n_jobs=-1)\n",
    "rf_tuner = RandomizedSearchCV(\n",
    "    estimator=rf_base,\n",
    "    param_distributions=rf_param_dist,\n",
    "    n_iter=n_iter_search,\n",
    "    cv=cv_folds,\n",
    "    scoring='roc_auc', # Optimalkan berdasarkan ROC AUC\n",
    "    n_jobs=-1,\n",
    "    random_state=42,\n",
    "    verbose=1 \n",
    ")\n",
    "rf_tuner.fit(X_train, y_train) \n",
    "# Ambil hasil CV dan ubah ke DataFrame\n",
    "rf_cv_results_df = pd.DataFrame(rf_tuner.cv_results_)\n",
    "# Pilih kolom yang relevan untuk ditampilkan\n",
    "rf_results_display = rf_cv_results_df[[\n",
    "    'rank_test_score',\n",
    "    'mean_test_score',\n",
    "    'std_test_score',\n",
    "    'params',\n",
    "    'mean_fit_time'\n",
    "]].sort_values(by='rank_test_score') # Urutkan berdasarkan rank terbaik\n",
    "end_time_rf_tune = time.time()\n"
   ]
  },
  {
   "cell_type": "code",
   "execution_count": 61,
   "metadata": {},
   "outputs": [
    {
     "name": "stdout",
     "output_type": "stream",
     "text": [
      "\n",
      "Detail Hasil Tuning Random Forest (Semua Kombinasi):\n"
     ]
    },
    {
     "data": {
      "text/html": [
       "<div>\n",
       "<style scoped>\n",
       "    .dataframe tbody tr th:only-of-type {\n",
       "        vertical-align: middle;\n",
       "    }\n",
       "\n",
       "    .dataframe tbody tr th {\n",
       "        vertical-align: top;\n",
       "    }\n",
       "\n",
       "    .dataframe thead th {\n",
       "        text-align: right;\n",
       "    }\n",
       "</style>\n",
       "<table border=\"1\" class=\"dataframe\">\n",
       "  <thead>\n",
       "    <tr style=\"text-align: right;\">\n",
       "      <th></th>\n",
       "      <th>rank_test_score</th>\n",
       "      <th>mean_test_score</th>\n",
       "      <th>std_test_score</th>\n",
       "      <th>params</th>\n",
       "      <th>mean_fit_time</th>\n",
       "    </tr>\n",
       "  </thead>\n",
       "  <tbody>\n",
       "    <tr>\n",
       "      <th>4</th>\n",
       "      <td>1</td>\n",
       "      <td>0.952445</td>\n",
       "      <td>0.001710</td>\n",
       "      <td>{'n_estimators': 300, 'min_samples_split': 5, 'min_samples_leaf': 2, 'max_depth': 30, 'criterion': 'entropy', 'bootstrap': False}</td>\n",
       "      <td>11.567330</td>\n",
       "    </tr>\n",
       "    <tr>\n",
       "      <th>27</th>\n",
       "      <td>2</td>\n",
       "      <td>0.952201</td>\n",
       "      <td>0.001656</td>\n",
       "      <td>{'n_estimators': 200, 'min_samples_split': 5, 'min_samples_leaf': 2, 'max_depth': 30, 'criterion': 'entropy', 'bootstrap': False}</td>\n",
       "      <td>8.680226</td>\n",
       "    </tr>\n",
       "    <tr>\n",
       "      <th>16</th>\n",
       "      <td>3</td>\n",
       "      <td>0.952115</td>\n",
       "      <td>0.002632</td>\n",
       "      <td>{'n_estimators': 200, 'min_samples_split': 5, 'min_samples_leaf': 1, 'max_depth': 30, 'criterion': 'entropy', 'bootstrap': False}</td>\n",
       "      <td>9.331074</td>\n",
       "    </tr>\n",
       "    <tr>\n",
       "      <th>40</th>\n",
       "      <td>4</td>\n",
       "      <td>0.952022</td>\n",
       "      <td>0.001732</td>\n",
       "      <td>{'n_estimators': 200, 'min_samples_split': 2, 'min_samples_leaf': 1, 'max_depth': 20, 'criterion': 'entropy', 'bootstrap': False}</td>\n",
       "      <td>9.233813</td>\n",
       "    </tr>\n",
       "    <tr>\n",
       "      <th>6</th>\n",
       "      <td>5</td>\n",
       "      <td>0.951856</td>\n",
       "      <td>0.001814</td>\n",
       "      <td>{'n_estimators': 100, 'min_samples_split': 2, 'min_samples_leaf': 2, 'max_depth': None, 'criterion': 'entropy', 'bootstrap': False}</td>\n",
       "      <td>7.151793</td>\n",
       "    </tr>\n",
       "    <tr>\n",
       "      <th>19</th>\n",
       "      <td>6</td>\n",
       "      <td>0.951379</td>\n",
       "      <td>0.001726</td>\n",
       "      <td>{'n_estimators': 200, 'min_samples_split': 2, 'min_samples_leaf': 2, 'max_depth': 30, 'criterion': 'gini', 'bootstrap': False}</td>\n",
       "      <td>6.825027</td>\n",
       "    </tr>\n",
       "    <tr>\n",
       "      <th>5</th>\n",
       "      <td>7</td>\n",
       "      <td>0.951345</td>\n",
       "      <td>0.002274</td>\n",
       "      <td>{'n_estimators': 300, 'min_samples_split': 5, 'min_samples_leaf': 1, 'max_depth': 30, 'criterion': 'gini', 'bootstrap': False}</td>\n",
       "      <td>11.030432</td>\n",
       "    </tr>\n",
       "    <tr>\n",
       "      <th>48</th>\n",
       "      <td>8</td>\n",
       "      <td>0.951282</td>\n",
       "      <td>0.001726</td>\n",
       "      <td>{'n_estimators': 100, 'min_samples_split': 5, 'min_samples_leaf': 1, 'max_depth': 20, 'criterion': 'gini', 'bootstrap': False}</td>\n",
       "      <td>5.621374</td>\n",
       "    </tr>\n",
       "    <tr>\n",
       "      <th>32</th>\n",
       "      <td>9</td>\n",
       "      <td>0.950936</td>\n",
       "      <td>0.001967</td>\n",
       "      <td>{'n_estimators': 200, 'min_samples_split': 10, 'min_samples_leaf': 1, 'max_depth': None, 'criterion': 'gini', 'bootstrap': False}</td>\n",
       "      <td>7.183956</td>\n",
       "    </tr>\n",
       "    <tr>\n",
       "      <th>28</th>\n",
       "      <td>10</td>\n",
       "      <td>0.950738</td>\n",
       "      <td>0.001615</td>\n",
       "      <td>{'n_estimators': 200, 'min_samples_split': 10, 'min_samples_leaf': 1, 'max_depth': 20, 'criterion': 'gini', 'bootstrap': False}</td>\n",
       "      <td>7.496747</td>\n",
       "    </tr>\n",
       "    <tr>\n",
       "      <th>23</th>\n",
       "      <td>11</td>\n",
       "      <td>0.950607</td>\n",
       "      <td>0.002310</td>\n",
       "      <td>{'n_estimators': 200, 'min_samples_split': 2, 'min_samples_leaf': 1, 'max_depth': 30, 'criterion': 'gini', 'bootstrap': True}</td>\n",
       "      <td>6.093943</td>\n",
       "    </tr>\n",
       "    <tr>\n",
       "      <th>37</th>\n",
       "      <td>12</td>\n",
       "      <td>0.950545</td>\n",
       "      <td>0.001879</td>\n",
       "      <td>{'n_estimators': 300, 'min_samples_split': 5, 'min_samples_leaf': 1, 'max_depth': 20, 'criterion': 'entropy', 'bootstrap': True}</td>\n",
       "      <td>12.047873</td>\n",
       "    </tr>\n",
       "    <tr>\n",
       "      <th>20</th>\n",
       "      <td>13</td>\n",
       "      <td>0.950427</td>\n",
       "      <td>0.001805</td>\n",
       "      <td>{'n_estimators': 200, 'min_samples_split': 10, 'min_samples_leaf': 2, 'max_depth': 30, 'criterion': 'gini', 'bootstrap': False}</td>\n",
       "      <td>7.306055</td>\n",
       "    </tr>\n",
       "    <tr>\n",
       "      <th>15</th>\n",
       "      <td>14</td>\n",
       "      <td>0.950307</td>\n",
       "      <td>0.001714</td>\n",
       "      <td>{'n_estimators': 300, 'min_samples_split': 2, 'min_samples_leaf': 2, 'max_depth': 30, 'criterion': 'entropy', 'bootstrap': True}</td>\n",
       "      <td>9.687348</td>\n",
       "    </tr>\n",
       "    <tr>\n",
       "      <th>12</th>\n",
       "      <td>15</td>\n",
       "      <td>0.950233</td>\n",
       "      <td>0.001803</td>\n",
       "      <td>{'n_estimators': 200, 'min_samples_split': 2, 'min_samples_leaf': 2, 'max_depth': None, 'criterion': 'entropy', 'bootstrap': True}</td>\n",
       "      <td>6.678770</td>\n",
       "    </tr>\n",
       "    <tr>\n",
       "      <th>8</th>\n",
       "      <td>16</td>\n",
       "      <td>0.950205</td>\n",
       "      <td>0.001734</td>\n",
       "      <td>{'n_estimators': 100, 'min_samples_split': 10, 'min_samples_leaf': 1, 'max_depth': None, 'criterion': 'entropy', 'bootstrap': True}</td>\n",
       "      <td>4.035609</td>\n",
       "    </tr>\n",
       "    <tr>\n",
       "      <th>49</th>\n",
       "      <td>17</td>\n",
       "      <td>0.949901</td>\n",
       "      <td>0.002373</td>\n",
       "      <td>{'n_estimators': 200, 'min_samples_split': 2, 'min_samples_leaf': 1, 'max_depth': 30, 'criterion': 'entropy', 'bootstrap': False}</td>\n",
       "      <td>3.572779</td>\n",
       "    </tr>\n",
       "    <tr>\n",
       "      <th>39</th>\n",
       "      <td>18</td>\n",
       "      <td>0.948994</td>\n",
       "      <td>0.001532</td>\n",
       "      <td>{'n_estimators': 300, 'min_samples_split': 5, 'min_samples_leaf': 4, 'max_depth': None, 'criterion': 'entropy', 'bootstrap': False}</td>\n",
       "      <td>11.386838</td>\n",
       "    </tr>\n",
       "    <tr>\n",
       "      <th>3</th>\n",
       "      <td>19</td>\n",
       "      <td>0.948956</td>\n",
       "      <td>0.001893</td>\n",
       "      <td>{'n_estimators': 100, 'min_samples_split': 5, 'min_samples_leaf': 1, 'max_depth': 20, 'criterion': 'gini', 'bootstrap': True}</td>\n",
       "      <td>1.661124</td>\n",
       "    </tr>\n",
       "    <tr>\n",
       "      <th>34</th>\n",
       "      <td>20</td>\n",
       "      <td>0.948829</td>\n",
       "      <td>0.001521</td>\n",
       "      <td>{'n_estimators': 200, 'min_samples_split': 5, 'min_samples_leaf': 4, 'max_depth': None, 'criterion': 'entropy', 'bootstrap': False}</td>\n",
       "      <td>7.489619</td>\n",
       "    </tr>\n",
       "    <tr>\n",
       "      <th>0</th>\n",
       "      <td>20</td>\n",
       "      <td>0.948829</td>\n",
       "      <td>0.001521</td>\n",
       "      <td>{'n_estimators': 200, 'min_samples_split': 2, 'min_samples_leaf': 4, 'max_depth': None, 'criterion': 'entropy', 'bootstrap': False}</td>\n",
       "      <td>2.507206</td>\n",
       "    </tr>\n",
       "    <tr>\n",
       "      <th>31</th>\n",
       "      <td>22</td>\n",
       "      <td>0.948527</td>\n",
       "      <td>0.001105</td>\n",
       "      <td>{'n_estimators': 100, 'min_samples_split': 5, 'min_samples_leaf': 4, 'max_depth': 30, 'criterion': 'entropy', 'bootstrap': False}</td>\n",
       "      <td>2.749287</td>\n",
       "    </tr>\n",
       "    <tr>\n",
       "      <th>9</th>\n",
       "      <td>23</td>\n",
       "      <td>0.948511</td>\n",
       "      <td>0.001704</td>\n",
       "      <td>{'n_estimators': 200, 'min_samples_split': 5, 'min_samples_leaf': 2, 'max_depth': 20, 'criterion': 'entropy', 'bootstrap': True}</td>\n",
       "      <td>6.570189</td>\n",
       "    </tr>\n",
       "    <tr>\n",
       "      <th>22</th>\n",
       "      <td>24</td>\n",
       "      <td>0.948405</td>\n",
       "      <td>0.001437</td>\n",
       "      <td>{'n_estimators': 100, 'min_samples_split': 5, 'min_samples_leaf': 4, 'max_depth': None, 'criterion': 'entropy', 'bootstrap': False}</td>\n",
       "      <td>3.792076</td>\n",
       "    </tr>\n",
       "    <tr>\n",
       "      <th>33</th>\n",
       "      <td>25</td>\n",
       "      <td>0.948106</td>\n",
       "      <td>0.001615</td>\n",
       "      <td>{'n_estimators': 100, 'min_samples_split': 5, 'min_samples_leaf': 2, 'max_depth': None, 'criterion': 'gini', 'bootstrap': True}</td>\n",
       "      <td>3.616138</td>\n",
       "    </tr>\n",
       "    <tr>\n",
       "      <th>44</th>\n",
       "      <td>26</td>\n",
       "      <td>0.947959</td>\n",
       "      <td>0.001653</td>\n",
       "      <td>{'n_estimators': 100, 'min_samples_split': 10, 'min_samples_leaf': 1, 'max_depth': 20, 'criterion': 'gini', 'bootstrap': True}</td>\n",
       "      <td>3.761320</td>\n",
       "    </tr>\n",
       "    <tr>\n",
       "      <th>36</th>\n",
       "      <td>27</td>\n",
       "      <td>0.947751</td>\n",
       "      <td>0.001284</td>\n",
       "      <td>{'n_estimators': 300, 'min_samples_split': 5, 'min_samples_leaf': 4, 'max_depth': 20, 'criterion': 'entropy', 'bootstrap': False}</td>\n",
       "      <td>12.615393</td>\n",
       "    </tr>\n",
       "    <tr>\n",
       "      <th>38</th>\n",
       "      <td>28</td>\n",
       "      <td>0.947644</td>\n",
       "      <td>0.001742</td>\n",
       "      <td>{'n_estimators': 200, 'min_samples_split': 10, 'min_samples_leaf': 4, 'max_depth': None, 'criterion': 'gini', 'bootstrap': False}</td>\n",
       "      <td>8.380884</td>\n",
       "    </tr>\n",
       "    <tr>\n",
       "      <th>14</th>\n",
       "      <td>29</td>\n",
       "      <td>0.947534</td>\n",
       "      <td>0.001424</td>\n",
       "      <td>{'n_estimators': 100, 'min_samples_split': 5, 'min_samples_leaf': 2, 'max_depth': 20, 'criterion': 'gini', 'bootstrap': True}</td>\n",
       "      <td>3.325610</td>\n",
       "    </tr>\n",
       "    <tr>\n",
       "      <th>29</th>\n",
       "      <td>30</td>\n",
       "      <td>0.947501</td>\n",
       "      <td>0.001387</td>\n",
       "      <td>{'n_estimators': 100, 'min_samples_split': 5, 'min_samples_leaf': 4, 'max_depth': None, 'criterion': 'gini', 'bootstrap': False}</td>\n",
       "      <td>4.438699</td>\n",
       "    </tr>\n",
       "    <tr>\n",
       "      <th>11</th>\n",
       "      <td>31</td>\n",
       "      <td>0.947283</td>\n",
       "      <td>0.001547</td>\n",
       "      <td>{'n_estimators': 200, 'min_samples_split': 10, 'min_samples_leaf': 2, 'max_depth': 30, 'criterion': 'gini', 'bootstrap': True}</td>\n",
       "      <td>5.643137</td>\n",
       "    </tr>\n",
       "    <tr>\n",
       "      <th>46</th>\n",
       "      <td>32</td>\n",
       "      <td>0.946619</td>\n",
       "      <td>0.002802</td>\n",
       "      <td>{'n_estimators': 300, 'min_samples_split': 2, 'min_samples_leaf': 1, 'max_depth': None, 'criterion': 'gini', 'bootstrap': False}</td>\n",
       "      <td>10.669673</td>\n",
       "    </tr>\n",
       "    <tr>\n",
       "      <th>41</th>\n",
       "      <td>33</td>\n",
       "      <td>0.945951</td>\n",
       "      <td>0.002583</td>\n",
       "      <td>{'n_estimators': 100, 'min_samples_split': 2, 'min_samples_leaf': 1, 'max_depth': None, 'criterion': 'gini', 'bootstrap': False}</td>\n",
       "      <td>6.751857</td>\n",
       "    </tr>\n",
       "    <tr>\n",
       "      <th>2</th>\n",
       "      <td>34</td>\n",
       "      <td>0.944839</td>\n",
       "      <td>0.001355</td>\n",
       "      <td>{'n_estimators': 100, 'min_samples_split': 2, 'min_samples_leaf': 4, 'max_depth': 30, 'criterion': 'entropy', 'bootstrap': True}</td>\n",
       "      <td>3.856050</td>\n",
       "    </tr>\n",
       "    <tr>\n",
       "      <th>35</th>\n",
       "      <td>35</td>\n",
       "      <td>0.944223</td>\n",
       "      <td>0.001301</td>\n",
       "      <td>{'n_estimators': 300, 'min_samples_split': 5, 'min_samples_leaf': 4, 'max_depth': 30, 'criterion': 'gini', 'bootstrap': True}</td>\n",
       "      <td>9.255551</td>\n",
       "    </tr>\n",
       "    <tr>\n",
       "      <th>26</th>\n",
       "      <td>36</td>\n",
       "      <td>0.944210</td>\n",
       "      <td>0.001359</td>\n",
       "      <td>{'n_estimators': 200, 'min_samples_split': 5, 'min_samples_leaf': 4, 'max_depth': 20, 'criterion': 'entropy', 'bootstrap': True}</td>\n",
       "      <td>6.322266</td>\n",
       "    </tr>\n",
       "    <tr>\n",
       "      <th>7</th>\n",
       "      <td>36</td>\n",
       "      <td>0.944210</td>\n",
       "      <td>0.001359</td>\n",
       "      <td>{'n_estimators': 200, 'min_samples_split': 2, 'min_samples_leaf': 4, 'max_depth': 20, 'criterion': 'entropy', 'bootstrap': True}</td>\n",
       "      <td>5.938071</td>\n",
       "    </tr>\n",
       "    <tr>\n",
       "      <th>43</th>\n",
       "      <td>38</td>\n",
       "      <td>0.944096</td>\n",
       "      <td>0.001218</td>\n",
       "      <td>{'n_estimators': 200, 'min_samples_split': 2, 'min_samples_leaf': 4, 'max_depth': 30, 'criterion': 'gini', 'bootstrap': True}</td>\n",
       "      <td>5.492385</td>\n",
       "    </tr>\n",
       "    <tr>\n",
       "      <th>47</th>\n",
       "      <td>38</td>\n",
       "      <td>0.944096</td>\n",
       "      <td>0.001218</td>\n",
       "      <td>{'n_estimators': 200, 'min_samples_split': 5, 'min_samples_leaf': 4, 'max_depth': 30, 'criterion': 'gini', 'bootstrap': True}</td>\n",
       "      <td>7.448984</td>\n",
       "    </tr>\n",
       "    <tr>\n",
       "      <th>10</th>\n",
       "      <td>40</td>\n",
       "      <td>0.943871</td>\n",
       "      <td>0.001257</td>\n",
       "      <td>{'n_estimators': 100, 'min_samples_split': 2, 'min_samples_leaf': 4, 'max_depth': 20, 'criterion': 'entropy', 'bootstrap': True}</td>\n",
       "      <td>3.539743</td>\n",
       "    </tr>\n",
       "    <tr>\n",
       "      <th>17</th>\n",
       "      <td>41</td>\n",
       "      <td>0.943709</td>\n",
       "      <td>0.001149</td>\n",
       "      <td>{'n_estimators': 100, 'min_samples_split': 2, 'min_samples_leaf': 4, 'max_depth': 30, 'criterion': 'gini', 'bootstrap': True}</td>\n",
       "      <td>4.909089</td>\n",
       "    </tr>\n",
       "    <tr>\n",
       "      <th>1</th>\n",
       "      <td>41</td>\n",
       "      <td>0.943709</td>\n",
       "      <td>0.001149</td>\n",
       "      <td>{'n_estimators': 100, 'min_samples_split': 5, 'min_samples_leaf': 4, 'max_depth': 30, 'criterion': 'gini', 'bootstrap': True}</td>\n",
       "      <td>3.472700</td>\n",
       "    </tr>\n",
       "    <tr>\n",
       "      <th>42</th>\n",
       "      <td>43</td>\n",
       "      <td>0.943265</td>\n",
       "      <td>0.001475</td>\n",
       "      <td>{'n_estimators': 100, 'min_samples_split': 10, 'min_samples_leaf': 4, 'max_depth': 30, 'criterion': 'gini', 'bootstrap': True}</td>\n",
       "      <td>2.841054</td>\n",
       "    </tr>\n",
       "    <tr>\n",
       "      <th>21</th>\n",
       "      <td>44</td>\n",
       "      <td>0.926678</td>\n",
       "      <td>0.001238</td>\n",
       "      <td>{'n_estimators': 100, 'min_samples_split': 2, 'min_samples_leaf': 2, 'max_depth': 10, 'criterion': 'gini', 'bootstrap': False}</td>\n",
       "      <td>4.285245</td>\n",
       "    </tr>\n",
       "    <tr>\n",
       "      <th>24</th>\n",
       "      <td>45</td>\n",
       "      <td>0.926382</td>\n",
       "      <td>0.001424</td>\n",
       "      <td>{'n_estimators': 200, 'min_samples_split': 2, 'min_samples_leaf': 1, 'max_depth': 10, 'criterion': 'entropy', 'bootstrap': False}</td>\n",
       "      <td>5.582414</td>\n",
       "    </tr>\n",
       "    <tr>\n",
       "      <th>25</th>\n",
       "      <td>46</td>\n",
       "      <td>0.925986</td>\n",
       "      <td>0.001206</td>\n",
       "      <td>{'n_estimators': 300, 'min_samples_split': 2, 'min_samples_leaf': 2, 'max_depth': 10, 'criterion': 'entropy', 'bootstrap': False}</td>\n",
       "      <td>7.557341</td>\n",
       "    </tr>\n",
       "    <tr>\n",
       "      <th>18</th>\n",
       "      <td>47</td>\n",
       "      <td>0.925820</td>\n",
       "      <td>0.002002</td>\n",
       "      <td>{'n_estimators': 100, 'min_samples_split': 2, 'min_samples_leaf': 2, 'max_depth': 10, 'criterion': 'gini', 'bootstrap': True}</td>\n",
       "      <td>3.397280</td>\n",
       "    </tr>\n",
       "    <tr>\n",
       "      <th>13</th>\n",
       "      <td>48</td>\n",
       "      <td>0.925726</td>\n",
       "      <td>0.001379</td>\n",
       "      <td>{'n_estimators': 200, 'min_samples_split': 2, 'min_samples_leaf': 2, 'max_depth': 10, 'criterion': 'entropy', 'bootstrap': False}</td>\n",
       "      <td>5.961146</td>\n",
       "    </tr>\n",
       "    <tr>\n",
       "      <th>45</th>\n",
       "      <td>49</td>\n",
       "      <td>0.925165</td>\n",
       "      <td>0.001721</td>\n",
       "      <td>{'n_estimators': 300, 'min_samples_split': 10, 'min_samples_leaf': 1, 'max_depth': 10, 'criterion': 'entropy', 'bootstrap': True}</td>\n",
       "      <td>6.940404</td>\n",
       "    </tr>\n",
       "    <tr>\n",
       "      <th>30</th>\n",
       "      <td>50</td>\n",
       "      <td>0.923069</td>\n",
       "      <td>0.001149</td>\n",
       "      <td>{'n_estimators': 100, 'min_samples_split': 2, 'min_samples_leaf': 4, 'max_depth': 10, 'criterion': 'entropy', 'bootstrap': True}</td>\n",
       "      <td>2.423233</td>\n",
       "    </tr>\n",
       "  </tbody>\n",
       "</table>\n",
       "</div>"
      ],
      "text/plain": [
       "    rank_test_score  mean_test_score  std_test_score  \\\n",
       "4                 1         0.952445        0.001710   \n",
       "27                2         0.952201        0.001656   \n",
       "16                3         0.952115        0.002632   \n",
       "40                4         0.952022        0.001732   \n",
       "6                 5         0.951856        0.001814   \n",
       "19                6         0.951379        0.001726   \n",
       "5                 7         0.951345        0.002274   \n",
       "48                8         0.951282        0.001726   \n",
       "32                9         0.950936        0.001967   \n",
       "28               10         0.950738        0.001615   \n",
       "23               11         0.950607        0.002310   \n",
       "37               12         0.950545        0.001879   \n",
       "20               13         0.950427        0.001805   \n",
       "15               14         0.950307        0.001714   \n",
       "12               15         0.950233        0.001803   \n",
       "8                16         0.950205        0.001734   \n",
       "49               17         0.949901        0.002373   \n",
       "39               18         0.948994        0.001532   \n",
       "3                19         0.948956        0.001893   \n",
       "34               20         0.948829        0.001521   \n",
       "0                20         0.948829        0.001521   \n",
       "31               22         0.948527        0.001105   \n",
       "9                23         0.948511        0.001704   \n",
       "22               24         0.948405        0.001437   \n",
       "33               25         0.948106        0.001615   \n",
       "44               26         0.947959        0.001653   \n",
       "36               27         0.947751        0.001284   \n",
       "38               28         0.947644        0.001742   \n",
       "14               29         0.947534        0.001424   \n",
       "29               30         0.947501        0.001387   \n",
       "11               31         0.947283        0.001547   \n",
       "46               32         0.946619        0.002802   \n",
       "41               33         0.945951        0.002583   \n",
       "2                34         0.944839        0.001355   \n",
       "35               35         0.944223        0.001301   \n",
       "26               36         0.944210        0.001359   \n",
       "7                36         0.944210        0.001359   \n",
       "43               38         0.944096        0.001218   \n",
       "47               38         0.944096        0.001218   \n",
       "10               40         0.943871        0.001257   \n",
       "17               41         0.943709        0.001149   \n",
       "1                41         0.943709        0.001149   \n",
       "42               43         0.943265        0.001475   \n",
       "21               44         0.926678        0.001238   \n",
       "24               45         0.926382        0.001424   \n",
       "25               46         0.925986        0.001206   \n",
       "18               47         0.925820        0.002002   \n",
       "13               48         0.925726        0.001379   \n",
       "45               49         0.925165        0.001721   \n",
       "30               50         0.923069        0.001149   \n",
       "\n",
       "                                                                                                                                 params  \\\n",
       "4     {'n_estimators': 300, 'min_samples_split': 5, 'min_samples_leaf': 2, 'max_depth': 30, 'criterion': 'entropy', 'bootstrap': False}   \n",
       "27    {'n_estimators': 200, 'min_samples_split': 5, 'min_samples_leaf': 2, 'max_depth': 30, 'criterion': 'entropy', 'bootstrap': False}   \n",
       "16    {'n_estimators': 200, 'min_samples_split': 5, 'min_samples_leaf': 1, 'max_depth': 30, 'criterion': 'entropy', 'bootstrap': False}   \n",
       "40    {'n_estimators': 200, 'min_samples_split': 2, 'min_samples_leaf': 1, 'max_depth': 20, 'criterion': 'entropy', 'bootstrap': False}   \n",
       "6   {'n_estimators': 100, 'min_samples_split': 2, 'min_samples_leaf': 2, 'max_depth': None, 'criterion': 'entropy', 'bootstrap': False}   \n",
       "19       {'n_estimators': 200, 'min_samples_split': 2, 'min_samples_leaf': 2, 'max_depth': 30, 'criterion': 'gini', 'bootstrap': False}   \n",
       "5        {'n_estimators': 300, 'min_samples_split': 5, 'min_samples_leaf': 1, 'max_depth': 30, 'criterion': 'gini', 'bootstrap': False}   \n",
       "48       {'n_estimators': 100, 'min_samples_split': 5, 'min_samples_leaf': 1, 'max_depth': 20, 'criterion': 'gini', 'bootstrap': False}   \n",
       "32    {'n_estimators': 200, 'min_samples_split': 10, 'min_samples_leaf': 1, 'max_depth': None, 'criterion': 'gini', 'bootstrap': False}   \n",
       "28      {'n_estimators': 200, 'min_samples_split': 10, 'min_samples_leaf': 1, 'max_depth': 20, 'criterion': 'gini', 'bootstrap': False}   \n",
       "23        {'n_estimators': 200, 'min_samples_split': 2, 'min_samples_leaf': 1, 'max_depth': 30, 'criterion': 'gini', 'bootstrap': True}   \n",
       "37     {'n_estimators': 300, 'min_samples_split': 5, 'min_samples_leaf': 1, 'max_depth': 20, 'criterion': 'entropy', 'bootstrap': True}   \n",
       "20      {'n_estimators': 200, 'min_samples_split': 10, 'min_samples_leaf': 2, 'max_depth': 30, 'criterion': 'gini', 'bootstrap': False}   \n",
       "15     {'n_estimators': 300, 'min_samples_split': 2, 'min_samples_leaf': 2, 'max_depth': 30, 'criterion': 'entropy', 'bootstrap': True}   \n",
       "12   {'n_estimators': 200, 'min_samples_split': 2, 'min_samples_leaf': 2, 'max_depth': None, 'criterion': 'entropy', 'bootstrap': True}   \n",
       "8   {'n_estimators': 100, 'min_samples_split': 10, 'min_samples_leaf': 1, 'max_depth': None, 'criterion': 'entropy', 'bootstrap': True}   \n",
       "49    {'n_estimators': 200, 'min_samples_split': 2, 'min_samples_leaf': 1, 'max_depth': 30, 'criterion': 'entropy', 'bootstrap': False}   \n",
       "39  {'n_estimators': 300, 'min_samples_split': 5, 'min_samples_leaf': 4, 'max_depth': None, 'criterion': 'entropy', 'bootstrap': False}   \n",
       "3         {'n_estimators': 100, 'min_samples_split': 5, 'min_samples_leaf': 1, 'max_depth': 20, 'criterion': 'gini', 'bootstrap': True}   \n",
       "34  {'n_estimators': 200, 'min_samples_split': 5, 'min_samples_leaf': 4, 'max_depth': None, 'criterion': 'entropy', 'bootstrap': False}   \n",
       "0   {'n_estimators': 200, 'min_samples_split': 2, 'min_samples_leaf': 4, 'max_depth': None, 'criterion': 'entropy', 'bootstrap': False}   \n",
       "31    {'n_estimators': 100, 'min_samples_split': 5, 'min_samples_leaf': 4, 'max_depth': 30, 'criterion': 'entropy', 'bootstrap': False}   \n",
       "9      {'n_estimators': 200, 'min_samples_split': 5, 'min_samples_leaf': 2, 'max_depth': 20, 'criterion': 'entropy', 'bootstrap': True}   \n",
       "22  {'n_estimators': 100, 'min_samples_split': 5, 'min_samples_leaf': 4, 'max_depth': None, 'criterion': 'entropy', 'bootstrap': False}   \n",
       "33      {'n_estimators': 100, 'min_samples_split': 5, 'min_samples_leaf': 2, 'max_depth': None, 'criterion': 'gini', 'bootstrap': True}   \n",
       "44       {'n_estimators': 100, 'min_samples_split': 10, 'min_samples_leaf': 1, 'max_depth': 20, 'criterion': 'gini', 'bootstrap': True}   \n",
       "36    {'n_estimators': 300, 'min_samples_split': 5, 'min_samples_leaf': 4, 'max_depth': 20, 'criterion': 'entropy', 'bootstrap': False}   \n",
       "38    {'n_estimators': 200, 'min_samples_split': 10, 'min_samples_leaf': 4, 'max_depth': None, 'criterion': 'gini', 'bootstrap': False}   \n",
       "14        {'n_estimators': 100, 'min_samples_split': 5, 'min_samples_leaf': 2, 'max_depth': 20, 'criterion': 'gini', 'bootstrap': True}   \n",
       "29     {'n_estimators': 100, 'min_samples_split': 5, 'min_samples_leaf': 4, 'max_depth': None, 'criterion': 'gini', 'bootstrap': False}   \n",
       "11       {'n_estimators': 200, 'min_samples_split': 10, 'min_samples_leaf': 2, 'max_depth': 30, 'criterion': 'gini', 'bootstrap': True}   \n",
       "46     {'n_estimators': 300, 'min_samples_split': 2, 'min_samples_leaf': 1, 'max_depth': None, 'criterion': 'gini', 'bootstrap': False}   \n",
       "41     {'n_estimators': 100, 'min_samples_split': 2, 'min_samples_leaf': 1, 'max_depth': None, 'criterion': 'gini', 'bootstrap': False}   \n",
       "2      {'n_estimators': 100, 'min_samples_split': 2, 'min_samples_leaf': 4, 'max_depth': 30, 'criterion': 'entropy', 'bootstrap': True}   \n",
       "35        {'n_estimators': 300, 'min_samples_split': 5, 'min_samples_leaf': 4, 'max_depth': 30, 'criterion': 'gini', 'bootstrap': True}   \n",
       "26     {'n_estimators': 200, 'min_samples_split': 5, 'min_samples_leaf': 4, 'max_depth': 20, 'criterion': 'entropy', 'bootstrap': True}   \n",
       "7      {'n_estimators': 200, 'min_samples_split': 2, 'min_samples_leaf': 4, 'max_depth': 20, 'criterion': 'entropy', 'bootstrap': True}   \n",
       "43        {'n_estimators': 200, 'min_samples_split': 2, 'min_samples_leaf': 4, 'max_depth': 30, 'criterion': 'gini', 'bootstrap': True}   \n",
       "47        {'n_estimators': 200, 'min_samples_split': 5, 'min_samples_leaf': 4, 'max_depth': 30, 'criterion': 'gini', 'bootstrap': True}   \n",
       "10     {'n_estimators': 100, 'min_samples_split': 2, 'min_samples_leaf': 4, 'max_depth': 20, 'criterion': 'entropy', 'bootstrap': True}   \n",
       "17        {'n_estimators': 100, 'min_samples_split': 2, 'min_samples_leaf': 4, 'max_depth': 30, 'criterion': 'gini', 'bootstrap': True}   \n",
       "1         {'n_estimators': 100, 'min_samples_split': 5, 'min_samples_leaf': 4, 'max_depth': 30, 'criterion': 'gini', 'bootstrap': True}   \n",
       "42       {'n_estimators': 100, 'min_samples_split': 10, 'min_samples_leaf': 4, 'max_depth': 30, 'criterion': 'gini', 'bootstrap': True}   \n",
       "21       {'n_estimators': 100, 'min_samples_split': 2, 'min_samples_leaf': 2, 'max_depth': 10, 'criterion': 'gini', 'bootstrap': False}   \n",
       "24    {'n_estimators': 200, 'min_samples_split': 2, 'min_samples_leaf': 1, 'max_depth': 10, 'criterion': 'entropy', 'bootstrap': False}   \n",
       "25    {'n_estimators': 300, 'min_samples_split': 2, 'min_samples_leaf': 2, 'max_depth': 10, 'criterion': 'entropy', 'bootstrap': False}   \n",
       "18        {'n_estimators': 100, 'min_samples_split': 2, 'min_samples_leaf': 2, 'max_depth': 10, 'criterion': 'gini', 'bootstrap': True}   \n",
       "13    {'n_estimators': 200, 'min_samples_split': 2, 'min_samples_leaf': 2, 'max_depth': 10, 'criterion': 'entropy', 'bootstrap': False}   \n",
       "45    {'n_estimators': 300, 'min_samples_split': 10, 'min_samples_leaf': 1, 'max_depth': 10, 'criterion': 'entropy', 'bootstrap': True}   \n",
       "30     {'n_estimators': 100, 'min_samples_split': 2, 'min_samples_leaf': 4, 'max_depth': 10, 'criterion': 'entropy', 'bootstrap': True}   \n",
       "\n",
       "    mean_fit_time  \n",
       "4       11.567330  \n",
       "27       8.680226  \n",
       "16       9.331074  \n",
       "40       9.233813  \n",
       "6        7.151793  \n",
       "19       6.825027  \n",
       "5       11.030432  \n",
       "48       5.621374  \n",
       "32       7.183956  \n",
       "28       7.496747  \n",
       "23       6.093943  \n",
       "37      12.047873  \n",
       "20       7.306055  \n",
       "15       9.687348  \n",
       "12       6.678770  \n",
       "8        4.035609  \n",
       "49       3.572779  \n",
       "39      11.386838  \n",
       "3        1.661124  \n",
       "34       7.489619  \n",
       "0        2.507206  \n",
       "31       2.749287  \n",
       "9        6.570189  \n",
       "22       3.792076  \n",
       "33       3.616138  \n",
       "44       3.761320  \n",
       "36      12.615393  \n",
       "38       8.380884  \n",
       "14       3.325610  \n",
       "29       4.438699  \n",
       "11       5.643137  \n",
       "46      10.669673  \n",
       "41       6.751857  \n",
       "2        3.856050  \n",
       "35       9.255551  \n",
       "26       6.322266  \n",
       "7        5.938071  \n",
       "43       5.492385  \n",
       "47       7.448984  \n",
       "10       3.539743  \n",
       "17       4.909089  \n",
       "1        3.472700  \n",
       "42       2.841054  \n",
       "21       4.285245  \n",
       "24       5.582414  \n",
       "25       7.557341  \n",
       "18       3.397280  \n",
       "13       5.961146  \n",
       "45       6.940404  \n",
       "30       2.423233  "
      ]
     },
     "metadata": {},
     "output_type": "display_data"
    }
   ],
   "source": [
    "print(\"\\nDetail Hasil Tuning Random Forest (Semua Kombinasi):\")\n",
    "pd.set_option('display.max_colwidth', None)\n",
    "display(rf_results_display)\n",
    "pd.reset_option('display.max_colwidth') "
   ]
  },
  {
   "cell_type": "code",
   "execution_count": 62,
   "metadata": {},
   "outputs": [
    {
     "name": "stdout",
     "output_type": "stream",
     "text": [
      "Tuning Random Forest selesai dalam 131.44 detik.\n",
      "Parameter terbaik untuk Random Forest: {'n_estimators': 300, 'min_samples_split': 5, 'min_samples_leaf': 2, 'max_depth': 30, 'criterion': 'entropy', 'bootstrap': False}\n",
      "Skor ROC AUC CV terbaik: 0.9524\n"
     ]
    }
   ],
   "source": [
    "print(f\"Tuning Random Forest selesai dalam {end_time_rf_tune - start_time_rf_tune:.2f} detik.\")\n",
    "print(\"Parameter terbaik untuk Random Forest:\", rf_tuner.best_params_)\n",
    "print(f\"Skor ROC AUC CV terbaik: {rf_tuner.best_score_:.4f}\")"
   ]
  },
  {
   "cell_type": "code",
   "execution_count": 63,
   "metadata": {},
   "outputs": [],
   "source": [
    "# Ambil model RF terbaik hasil tuning\n",
    "rf_tuned_model = rf_tuner.best_estimator_"
   ]
  },
  {
   "cell_type": "markdown",
   "metadata": {},
   "source": [
    "##### b. XGBoost"
   ]
  },
  {
   "cell_type": "code",
   "execution_count": 64,
   "metadata": {},
   "outputs": [
    {
     "name": "stdout",
     "output_type": "stream",
     "text": [
      "\n",
      "Memulai Tuning XGBoost (50 iterasi, 5-fold CV)...\n",
      "Fitting 5 folds for each of 50 candidates, totalling 250 fits\n"
     ]
    },
    {
     "name": "stderr",
     "output_type": "stream",
     "text": [
      "C:\\Users\\Lenovo\\AppData\\Local\\Packages\\PythonSoftwareFoundation.Python.3.11_qbz5n2kfra8p0\\LocalCache\\local-packages\\Python311\\site-packages\\xgboost\\core.py:158: UserWarning: [08:12:40] WARNING: C:\\buildkite-agent\\builds\\buildkite-windows-cpu-autoscaling-group-i-0c55ff5f71b100e98-1\\xgboost\\xgboost-ci-windows\\src\\learner.cc:740: \n",
      "Parameters: { \"use_label_encoder\" } are not used.\n",
      "\n",
      "  warnings.warn(smsg, UserWarning)\n"
     ]
    }
   ],
   "source": [
    "print(f\"\\nMemulai Tuning XGBoost ({n_iter_search} iterasi, {cv_folds.get_n_splits()}-fold CV)...\")\n",
    "start_time_xgb_tune = time.time()\n",
    "\n",
    "xgb_base = XGBClassifier(random_state=42, use_label_encoder=False, eval_metric='logloss') # Base model\n",
    "xgb_tuner = RandomizedSearchCV(\n",
    "    estimator=xgb_base,\n",
    "    param_distributions=xgb_param_dist,\n",
    "    n_iter=n_iter_search,\n",
    "    cv=cv_folds,\n",
    "    scoring='roc_auc',\n",
    "    n_jobs=-1,\n",
    "    random_state=42,\n",
    "    verbose=1\n",
    ")\n",
    "xgb_tuner.fit(X_train, y_train) # Tuning pada data training\n",
    "# Ambil hasil CV dan ubah ke DataFrame\n",
    "xgb_cv_results_df = pd.DataFrame(xgb_tuner.cv_results_)\n",
    "xgb_results_display = xgb_cv_results_df[[\n",
    "    'rank_test_score',\n",
    "    'mean_test_score',\n",
    "    'std_test_score',\n",
    "    'params',\n",
    "    'mean_fit_time'\n",
    "]].sort_values(by='rank_test_score') \n",
    "end_time_xgb_tune = time.time()\n"
   ]
  },
  {
   "cell_type": "code",
   "execution_count": 65,
   "metadata": {},
   "outputs": [
    {
     "name": "stdout",
     "output_type": "stream",
     "text": [
      "\n",
      "Detail Hasil Tuning XGBoost (Semua Kombinasi):\n"
     ]
    },
    {
     "data": {
      "text/html": [
       "<div>\n",
       "<style scoped>\n",
       "    .dataframe tbody tr th:only-of-type {\n",
       "        vertical-align: middle;\n",
       "    }\n",
       "\n",
       "    .dataframe tbody tr th {\n",
       "        vertical-align: top;\n",
       "    }\n",
       "\n",
       "    .dataframe thead th {\n",
       "        text-align: right;\n",
       "    }\n",
       "</style>\n",
       "<table border=\"1\" class=\"dataframe\">\n",
       "  <thead>\n",
       "    <tr style=\"text-align: right;\">\n",
       "      <th></th>\n",
       "      <th>rank_test_score</th>\n",
       "      <th>mean_test_score</th>\n",
       "      <th>std_test_score</th>\n",
       "      <th>params</th>\n",
       "      <th>mean_fit_time</th>\n",
       "    </tr>\n",
       "  </thead>\n",
       "  <tbody>\n",
       "    <tr>\n",
       "      <th>29</th>\n",
       "      <td>1</td>\n",
       "      <td>0.953089</td>\n",
       "      <td>0.001229</td>\n",
       "      <td>{'subsample': 0.8, 'reg_lambda': 1, 'reg_alpha': 0, 'n_estimators': 200, 'max_depth': 9, 'learning_rate': 0.1, 'gamma': 0.2, 'colsample_bytree': 0.7}</td>\n",
       "      <td>1.961023</td>\n",
       "    </tr>\n",
       "    <tr>\n",
       "      <th>49</th>\n",
       "      <td>2</td>\n",
       "      <td>0.953042</td>\n",
       "      <td>0.001297</td>\n",
       "      <td>{'subsample': 1.0, 'reg_lambda': 1.5, 'reg_alpha': 0, 'n_estimators': 300, 'max_depth': 9, 'learning_rate': 0.2, 'gamma': 0, 'colsample_bytree': 0.7}</td>\n",
       "      <td>2.262988</td>\n",
       "    </tr>\n",
       "    <tr>\n",
       "      <th>21</th>\n",
       "      <td>3</td>\n",
       "      <td>0.952898</td>\n",
       "      <td>0.001987</td>\n",
       "      <td>{'subsample': 1.0, 'reg_lambda': 1, 'reg_alpha': 0.01, 'n_estimators': 300, 'max_depth': 9, 'learning_rate': 0.1, 'gamma': 0.1, 'colsample_bytree': 1.0}</td>\n",
       "      <td>2.132784</td>\n",
       "    </tr>\n",
       "    <tr>\n",
       "      <th>25</th>\n",
       "      <td>4</td>\n",
       "      <td>0.952709</td>\n",
       "      <td>0.001262</td>\n",
       "      <td>{'subsample': 1.0, 'reg_lambda': 2, 'reg_alpha': 0, 'n_estimators': 300, 'max_depth': 7, 'learning_rate': 0.2, 'gamma': 0, 'colsample_bytree': 0.8}</td>\n",
       "      <td>1.739215</td>\n",
       "    </tr>\n",
       "    <tr>\n",
       "      <th>48</th>\n",
       "      <td>5</td>\n",
       "      <td>0.952680</td>\n",
       "      <td>0.001058</td>\n",
       "      <td>{'subsample': 0.9, 'reg_lambda': 1.5, 'reg_alpha': 0.1, 'n_estimators': 200, 'max_depth': 9, 'learning_rate': 0.2, 'gamma': 0.2, 'colsample_bytree': 0.8}</td>\n",
       "      <td>2.040160</td>\n",
       "    </tr>\n",
       "    <tr>\n",
       "      <th>1</th>\n",
       "      <td>6</td>\n",
       "      <td>0.952620</td>\n",
       "      <td>0.001354</td>\n",
       "      <td>{'subsample': 0.7, 'reg_lambda': 2, 'reg_alpha': 0.1, 'n_estimators': 300, 'max_depth': 9, 'learning_rate': 0.1, 'gamma': 0, 'colsample_bytree': 0.7}</td>\n",
       "      <td>3.611447</td>\n",
       "    </tr>\n",
       "    <tr>\n",
       "      <th>33</th>\n",
       "      <td>7</td>\n",
       "      <td>0.951818</td>\n",
       "      <td>0.001485</td>\n",
       "      <td>{'subsample': 0.7, 'reg_lambda': 2, 'reg_alpha': 0, 'n_estimators': 300, 'max_depth': 7, 'learning_rate': 0.1, 'gamma': 0.2, 'colsample_bytree': 0.9}</td>\n",
       "      <td>2.235017</td>\n",
       "    </tr>\n",
       "    <tr>\n",
       "      <th>36</th>\n",
       "      <td>8</td>\n",
       "      <td>0.951540</td>\n",
       "      <td>0.001176</td>\n",
       "      <td>{'subsample': 0.9, 'reg_lambda': 1, 'reg_alpha': 0, 'n_estimators': 300, 'max_depth': 9, 'learning_rate': 0.2, 'gamma': 0.1, 'colsample_bytree': 0.7}</td>\n",
       "      <td>2.813395</td>\n",
       "    </tr>\n",
       "    <tr>\n",
       "      <th>38</th>\n",
       "      <td>9</td>\n",
       "      <td>0.951375</td>\n",
       "      <td>0.001287</td>\n",
       "      <td>{'subsample': 1.0, 'reg_lambda': 1.5, 'reg_alpha': 0.1, 'n_estimators': 300, 'max_depth': 7, 'learning_rate': 0.1, 'gamma': 0.1, 'colsample_bytree': 0.7}</td>\n",
       "      <td>1.628578</td>\n",
       "    </tr>\n",
       "    <tr>\n",
       "      <th>46</th>\n",
       "      <td>10</td>\n",
       "      <td>0.951219</td>\n",
       "      <td>0.001204</td>\n",
       "      <td>{'subsample': 0.9, 'reg_lambda': 1, 'reg_alpha': 0.01, 'n_estimators': 100, 'max_depth': 9, 'learning_rate': 0.1, 'gamma': 0, 'colsample_bytree': 0.8}</td>\n",
       "      <td>1.105980</td>\n",
       "    </tr>\n",
       "    <tr>\n",
       "      <th>31</th>\n",
       "      <td>11</td>\n",
       "      <td>0.951049</td>\n",
       "      <td>0.001333</td>\n",
       "      <td>{'subsample': 0.7, 'reg_lambda': 1, 'reg_alpha': 0.1, 'n_estimators': 100, 'max_depth': 9, 'learning_rate': 0.2, 'gamma': 0.1, 'colsample_bytree': 0.8}</td>\n",
       "      <td>1.087448</td>\n",
       "    </tr>\n",
       "    <tr>\n",
       "      <th>19</th>\n",
       "      <td>12</td>\n",
       "      <td>0.950748</td>\n",
       "      <td>0.001311</td>\n",
       "      <td>{'subsample': 0.8, 'reg_lambda': 1, 'reg_alpha': 0.01, 'n_estimators': 100, 'max_depth': 9, 'learning_rate': 0.1, 'gamma': 0, 'colsample_bytree': 0.7}</td>\n",
       "      <td>1.126144</td>\n",
       "    </tr>\n",
       "    <tr>\n",
       "      <th>0</th>\n",
       "      <td>13</td>\n",
       "      <td>0.950404</td>\n",
       "      <td>0.001019</td>\n",
       "      <td>{'subsample': 0.9, 'reg_lambda': 2, 'reg_alpha': 0.1, 'n_estimators': 100, 'max_depth': 9, 'learning_rate': 0.1, 'gamma': 0.2, 'colsample_bytree': 0.8}</td>\n",
       "      <td>1.296603</td>\n",
       "    </tr>\n",
       "    <tr>\n",
       "      <th>23</th>\n",
       "      <td>14</td>\n",
       "      <td>0.950361</td>\n",
       "      <td>0.001195</td>\n",
       "      <td>{'subsample': 0.8, 'reg_lambda': 2, 'reg_alpha': 0.01, 'n_estimators': 200, 'max_depth': 7, 'learning_rate': 0.2, 'gamma': 0.1, 'colsample_bytree': 0.7}</td>\n",
       "      <td>1.616918</td>\n",
       "    </tr>\n",
       "    <tr>\n",
       "      <th>26</th>\n",
       "      <td>15</td>\n",
       "      <td>0.950278</td>\n",
       "      <td>0.001130</td>\n",
       "      <td>{'subsample': 0.7, 'reg_lambda': 1, 'reg_alpha': 0.01, 'n_estimators': 200, 'max_depth': 9, 'learning_rate': 0.2, 'gamma': 0.1, 'colsample_bytree': 0.8}</td>\n",
       "      <td>2.130293</td>\n",
       "    </tr>\n",
       "    <tr>\n",
       "      <th>16</th>\n",
       "      <td>16</td>\n",
       "      <td>0.950221</td>\n",
       "      <td>0.001765</td>\n",
       "      <td>{'subsample': 1.0, 'reg_lambda': 2, 'reg_alpha': 0.01, 'n_estimators': 300, 'max_depth': 7, 'learning_rate': 0.1, 'gamma': 0.2, 'colsample_bytree': 0.9}</td>\n",
       "      <td>1.763541</td>\n",
       "    </tr>\n",
       "    <tr>\n",
       "      <th>14</th>\n",
       "      <td>17</td>\n",
       "      <td>0.949945</td>\n",
       "      <td>0.001696</td>\n",
       "      <td>{'subsample': 0.7, 'reg_lambda': 2, 'reg_alpha': 0, 'n_estimators': 300, 'max_depth': 9, 'learning_rate': 0.2, 'gamma': 0.2, 'colsample_bytree': 0.9}</td>\n",
       "      <td>3.283912</td>\n",
       "    </tr>\n",
       "    <tr>\n",
       "      <th>8</th>\n",
       "      <td>18</td>\n",
       "      <td>0.949854</td>\n",
       "      <td>0.001013</td>\n",
       "      <td>{'subsample': 0.8, 'reg_lambda': 1, 'reg_alpha': 0, 'n_estimators': 100, 'max_depth': 7, 'learning_rate': 0.2, 'gamma': 0.1, 'colsample_bytree': 0.8}</td>\n",
       "      <td>0.833075</td>\n",
       "    </tr>\n",
       "    <tr>\n",
       "      <th>27</th>\n",
       "      <td>19</td>\n",
       "      <td>0.949537</td>\n",
       "      <td>0.001004</td>\n",
       "      <td>{'subsample': 0.7, 'reg_lambda': 2, 'reg_alpha': 0.1, 'n_estimators': 300, 'max_depth': 7, 'learning_rate': 0.2, 'gamma': 0, 'colsample_bytree': 0.7}</td>\n",
       "      <td>2.398311</td>\n",
       "    </tr>\n",
       "    <tr>\n",
       "      <th>43</th>\n",
       "      <td>20</td>\n",
       "      <td>0.947517</td>\n",
       "      <td>0.001360</td>\n",
       "      <td>{'subsample': 0.8, 'reg_lambda': 1.5, 'reg_alpha': 0.1, 'n_estimators': 200, 'max_depth': 5, 'learning_rate': 0.2, 'gamma': 0.2, 'colsample_bytree': 1.0}</td>\n",
       "      <td>1.211126</td>\n",
       "    </tr>\n",
       "    <tr>\n",
       "      <th>30</th>\n",
       "      <td>21</td>\n",
       "      <td>0.946264</td>\n",
       "      <td>0.001536</td>\n",
       "      <td>{'subsample': 0.8, 'reg_lambda': 2, 'reg_alpha': 0.1, 'n_estimators': 300, 'max_depth': 5, 'learning_rate': 0.1, 'gamma': 0, 'colsample_bytree': 1.0}</td>\n",
       "      <td>1.757179</td>\n",
       "    </tr>\n",
       "    <tr>\n",
       "      <th>28</th>\n",
       "      <td>22</td>\n",
       "      <td>0.944920</td>\n",
       "      <td>0.001791</td>\n",
       "      <td>{'subsample': 1.0, 'reg_lambda': 1.5, 'reg_alpha': 0.01, 'n_estimators': 100, 'max_depth': 7, 'learning_rate': 0.1, 'gamma': 0, 'colsample_bytree': 0.8}</td>\n",
       "      <td>0.701596</td>\n",
       "    </tr>\n",
       "    <tr>\n",
       "      <th>45</th>\n",
       "      <td>23</td>\n",
       "      <td>0.943715</td>\n",
       "      <td>0.002082</td>\n",
       "      <td>{'subsample': 0.8, 'reg_lambda': 1.5, 'reg_alpha': 0.01, 'n_estimators': 300, 'max_depth': 9, 'learning_rate': 0.01, 'gamma': 0.2, 'colsample_bytree': 0.7}</td>\n",
       "      <td>3.435257</td>\n",
       "    </tr>\n",
       "    <tr>\n",
       "      <th>47</th>\n",
       "      <td>24</td>\n",
       "      <td>0.941402</td>\n",
       "      <td>0.001554</td>\n",
       "      <td>{'subsample': 1.0, 'reg_lambda': 1, 'reg_alpha': 0.1, 'n_estimators': 200, 'max_depth': 5, 'learning_rate': 0.1, 'gamma': 0.1, 'colsample_bytree': 0.7}</td>\n",
       "      <td>0.976041</td>\n",
       "    </tr>\n",
       "    <tr>\n",
       "      <th>15</th>\n",
       "      <td>25</td>\n",
       "      <td>0.941075</td>\n",
       "      <td>0.001869</td>\n",
       "      <td>{'subsample': 1.0, 'reg_lambda': 2, 'reg_alpha': 0.01, 'n_estimators': 100, 'max_depth': 5, 'learning_rate': 0.2, 'gamma': 0.2, 'colsample_bytree': 0.9}</td>\n",
       "      <td>0.639658</td>\n",
       "    </tr>\n",
       "    <tr>\n",
       "      <th>18</th>\n",
       "      <td>26</td>\n",
       "      <td>0.940798</td>\n",
       "      <td>0.002173</td>\n",
       "      <td>{'subsample': 0.8, 'reg_lambda': 1.5, 'reg_alpha': 0.1, 'n_estimators': 200, 'max_depth': 9, 'learning_rate': 0.01, 'gamma': 0.1, 'colsample_bytree': 0.7}</td>\n",
       "      <td>2.525984</td>\n",
       "    </tr>\n",
       "    <tr>\n",
       "      <th>12</th>\n",
       "      <td>27</td>\n",
       "      <td>0.940681</td>\n",
       "      <td>0.002148</td>\n",
       "      <td>{'subsample': 0.9, 'reg_lambda': 2, 'reg_alpha': 0.1, 'n_estimators': 200, 'max_depth': 9, 'learning_rate': 0.01, 'gamma': 0.1, 'colsample_bytree': 0.8}</td>\n",
       "      <td>2.416181</td>\n",
       "    </tr>\n",
       "    <tr>\n",
       "      <th>5</th>\n",
       "      <td>28</td>\n",
       "      <td>0.937194</td>\n",
       "      <td>0.002155</td>\n",
       "      <td>{'subsample': 0.7, 'reg_lambda': 1, 'reg_alpha': 0.01, 'n_estimators': 300, 'max_depth': 7, 'learning_rate': 0.01, 'gamma': 0, 'colsample_bytree': 1.0}</td>\n",
       "      <td>2.791192</td>\n",
       "    </tr>\n",
       "    <tr>\n",
       "      <th>10</th>\n",
       "      <td>29</td>\n",
       "      <td>0.934880</td>\n",
       "      <td>0.002455</td>\n",
       "      <td>{'subsample': 0.9, 'reg_lambda': 1, 'reg_alpha': 0.1, 'n_estimators': 100, 'max_depth': 5, 'learning_rate': 0.1, 'gamma': 0.1, 'colsample_bytree': 1.0}</td>\n",
       "      <td>0.648520</td>\n",
       "    </tr>\n",
       "    <tr>\n",
       "      <th>17</th>\n",
       "      <td>30</td>\n",
       "      <td>0.934306</td>\n",
       "      <td>0.002329</td>\n",
       "      <td>{'subsample': 0.9, 'reg_lambda': 1.5, 'reg_alpha': 0, 'n_estimators': 100, 'max_depth': 5, 'learning_rate': 0.1, 'gamma': 0, 'colsample_bytree': 0.9}</td>\n",
       "      <td>0.738474</td>\n",
       "    </tr>\n",
       "    <tr>\n",
       "      <th>7</th>\n",
       "      <td>31</td>\n",
       "      <td>0.934286</td>\n",
       "      <td>0.001981</td>\n",
       "      <td>{'subsample': 0.9, 'reg_lambda': 2, 'reg_alpha': 0, 'n_estimators': 100, 'max_depth': 5, 'learning_rate': 0.1, 'gamma': 0.1, 'colsample_bytree': 0.8}</td>\n",
       "      <td>0.678170</td>\n",
       "    </tr>\n",
       "    <tr>\n",
       "      <th>41</th>\n",
       "      <td>32</td>\n",
       "      <td>0.932298</td>\n",
       "      <td>0.002258</td>\n",
       "      <td>{'subsample': 0.9, 'reg_lambda': 1, 'reg_alpha': 0.1, 'n_estimators': 200, 'max_depth': 3, 'learning_rate': 0.2, 'gamma': 0.1, 'colsample_bytree': 0.9}</td>\n",
       "      <td>0.907707</td>\n",
       "    </tr>\n",
       "    <tr>\n",
       "      <th>6</th>\n",
       "      <td>33</td>\n",
       "      <td>0.932016</td>\n",
       "      <td>0.001939</td>\n",
       "      <td>{'subsample': 0.7, 'reg_lambda': 1.5, 'reg_alpha': 0.01, 'n_estimators': 200, 'max_depth': 3, 'learning_rate': 0.2, 'gamma': 0.2, 'colsample_bytree': 0.9}</td>\n",
       "      <td>1.201599</td>\n",
       "    </tr>\n",
       "    <tr>\n",
       "      <th>11</th>\n",
       "      <td>34</td>\n",
       "      <td>0.927289</td>\n",
       "      <td>0.002258</td>\n",
       "      <td>{'subsample': 0.9, 'reg_lambda': 2, 'reg_alpha': 0.1, 'n_estimators': 300, 'max_depth': 3, 'learning_rate': 0.1, 'gamma': 0, 'colsample_bytree': 0.8}</td>\n",
       "      <td>1.419632</td>\n",
       "    </tr>\n",
       "    <tr>\n",
       "      <th>22</th>\n",
       "      <td>35</td>\n",
       "      <td>0.921947</td>\n",
       "      <td>0.002691</td>\n",
       "      <td>{'subsample': 0.8, 'reg_lambda': 1, 'reg_alpha': 0, 'n_estimators': 200, 'max_depth': 3, 'learning_rate': 0.1, 'gamma': 0.2, 'colsample_bytree': 0.8}</td>\n",
       "      <td>1.028160</td>\n",
       "    </tr>\n",
       "    <tr>\n",
       "      <th>34</th>\n",
       "      <td>36</td>\n",
       "      <td>0.921904</td>\n",
       "      <td>0.002889</td>\n",
       "      <td>{'subsample': 0.9, 'reg_lambda': 1, 'reg_alpha': 0.1, 'n_estimators': 100, 'max_depth': 3, 'learning_rate': 0.2, 'gamma': 0, 'colsample_bytree': 0.9}</td>\n",
       "      <td>0.514045</td>\n",
       "    </tr>\n",
       "    <tr>\n",
       "      <th>2</th>\n",
       "      <td>37</td>\n",
       "      <td>0.920688</td>\n",
       "      <td>0.002053</td>\n",
       "      <td>{'subsample': 0.9, 'reg_lambda': 1, 'reg_alpha': 0.1, 'n_estimators': 300, 'max_depth': 5, 'learning_rate': 0.01, 'gamma': 0.1, 'colsample_bytree': 0.8}</td>\n",
       "      <td>2.437014</td>\n",
       "    </tr>\n",
       "    <tr>\n",
       "      <th>20</th>\n",
       "      <td>38</td>\n",
       "      <td>0.919908</td>\n",
       "      <td>0.002225</td>\n",
       "      <td>{'subsample': 1.0, 'reg_lambda': 2, 'reg_alpha': 0.1, 'n_estimators': 300, 'max_depth': 5, 'learning_rate': 0.01, 'gamma': 0.2, 'colsample_bytree': 0.9}</td>\n",
       "      <td>1.715427</td>\n",
       "    </tr>\n",
       "    <tr>\n",
       "      <th>35</th>\n",
       "      <td>39</td>\n",
       "      <td>0.919894</td>\n",
       "      <td>0.002259</td>\n",
       "      <td>{'subsample': 0.9, 'reg_lambda': 2, 'reg_alpha': 0.01, 'n_estimators': 300, 'max_depth': 5, 'learning_rate': 0.01, 'gamma': 0.1, 'colsample_bytree': 0.9}</td>\n",
       "      <td>1.870098</td>\n",
       "    </tr>\n",
       "    <tr>\n",
       "      <th>42</th>\n",
       "      <td>40</td>\n",
       "      <td>0.919699</td>\n",
       "      <td>0.002069</td>\n",
       "      <td>{'subsample': 0.8, 'reg_lambda': 2, 'reg_alpha': 0, 'n_estimators': 300, 'max_depth': 5, 'learning_rate': 0.01, 'gamma': 0, 'colsample_bytree': 0.7}</td>\n",
       "      <td>1.819800</td>\n",
       "    </tr>\n",
       "    <tr>\n",
       "      <th>39</th>\n",
       "      <td>41</td>\n",
       "      <td>0.913782</td>\n",
       "      <td>0.002290</td>\n",
       "      <td>{'subsample': 1.0, 'reg_lambda': 2, 'reg_alpha': 0, 'n_estimators': 200, 'max_depth': 5, 'learning_rate': 0.01, 'gamma': 0.2, 'colsample_bytree': 0.7}</td>\n",
       "      <td>1.043663</td>\n",
       "    </tr>\n",
       "    <tr>\n",
       "      <th>13</th>\n",
       "      <td>42</td>\n",
       "      <td>0.912660</td>\n",
       "      <td>0.002005</td>\n",
       "      <td>{'subsample': 1.0, 'reg_lambda': 2, 'reg_alpha': 0.01, 'n_estimators': 200, 'max_depth': 5, 'learning_rate': 0.01, 'gamma': 0.2, 'colsample_bytree': 1.0}</td>\n",
       "      <td>1.298920</td>\n",
       "    </tr>\n",
       "    <tr>\n",
       "      <th>3</th>\n",
       "      <td>43</td>\n",
       "      <td>0.910365</td>\n",
       "      <td>0.002666</td>\n",
       "      <td>{'subsample': 0.9, 'reg_lambda': 1, 'reg_alpha': 0.1, 'n_estimators': 100, 'max_depth': 3, 'learning_rate': 0.1, 'gamma': 0.1, 'colsample_bytree': 1.0}</td>\n",
       "      <td>0.721139</td>\n",
       "    </tr>\n",
       "    <tr>\n",
       "      <th>9</th>\n",
       "      <td>44</td>\n",
       "      <td>0.909034</td>\n",
       "      <td>0.002761</td>\n",
       "      <td>{'subsample': 0.9, 'reg_lambda': 2, 'reg_alpha': 0.1, 'n_estimators': 100, 'max_depth': 3, 'learning_rate': 0.1, 'gamma': 0, 'colsample_bytree': 0.7}</td>\n",
       "      <td>0.616504</td>\n",
       "    </tr>\n",
       "    <tr>\n",
       "      <th>44</th>\n",
       "      <td>45</td>\n",
       "      <td>0.906113</td>\n",
       "      <td>0.002100</td>\n",
       "      <td>{'subsample': 0.9, 'reg_lambda': 2, 'reg_alpha': 0.1, 'n_estimators': 100, 'max_depth': 5, 'learning_rate': 0.01, 'gamma': 0.2, 'colsample_bytree': 0.7}</td>\n",
       "      <td>0.702840</td>\n",
       "    </tr>\n",
       "    <tr>\n",
       "      <th>24</th>\n",
       "      <td>46</td>\n",
       "      <td>0.904925</td>\n",
       "      <td>0.003018</td>\n",
       "      <td>{'subsample': 1.0, 'reg_lambda': 1.5, 'reg_alpha': 0.01, 'n_estimators': 100, 'max_depth': 5, 'learning_rate': 0.01, 'gamma': 0.1, 'colsample_bytree': 0.8}</td>\n",
       "      <td>0.650321</td>\n",
       "    </tr>\n",
       "    <tr>\n",
       "      <th>32</th>\n",
       "      <td>47</td>\n",
       "      <td>0.889903</td>\n",
       "      <td>0.002305</td>\n",
       "      <td>{'subsample': 1.0, 'reg_lambda': 1, 'reg_alpha': 0, 'n_estimators': 300, 'max_depth': 3, 'learning_rate': 0.01, 'gamma': 0.1, 'colsample_bytree': 1.0}</td>\n",
       "      <td>1.089151</td>\n",
       "    </tr>\n",
       "    <tr>\n",
       "      <th>37</th>\n",
       "      <td>48</td>\n",
       "      <td>0.888613</td>\n",
       "      <td>0.002197</td>\n",
       "      <td>{'subsample': 0.8, 'reg_lambda': 1, 'reg_alpha': 0, 'n_estimators': 300, 'max_depth': 3, 'learning_rate': 0.01, 'gamma': 0, 'colsample_bytree': 0.9}</td>\n",
       "      <td>1.492225</td>\n",
       "    </tr>\n",
       "    <tr>\n",
       "      <th>40</th>\n",
       "      <td>49</td>\n",
       "      <td>0.888294</td>\n",
       "      <td>0.002242</td>\n",
       "      <td>{'subsample': 1.0, 'reg_lambda': 2, 'reg_alpha': 0.01, 'n_estimators': 300, 'max_depth': 3, 'learning_rate': 0.01, 'gamma': 0.1, 'colsample_bytree': 0.9}</td>\n",
       "      <td>1.065530</td>\n",
       "    </tr>\n",
       "    <tr>\n",
       "      <th>4</th>\n",
       "      <td>50</td>\n",
       "      <td>0.868733</td>\n",
       "      <td>0.001482</td>\n",
       "      <td>{'subsample': 1.0, 'reg_lambda': 1.5, 'reg_alpha': 0, 'n_estimators': 100, 'max_depth': 3, 'learning_rate': 0.01, 'gamma': 0.1, 'colsample_bytree': 0.8}</td>\n",
       "      <td>0.667824</td>\n",
       "    </tr>\n",
       "  </tbody>\n",
       "</table>\n",
       "</div>"
      ],
      "text/plain": [
       "    rank_test_score  mean_test_score  std_test_score  \\\n",
       "29                1         0.953089        0.001229   \n",
       "49                2         0.953042        0.001297   \n",
       "21                3         0.952898        0.001987   \n",
       "25                4         0.952709        0.001262   \n",
       "48                5         0.952680        0.001058   \n",
       "1                 6         0.952620        0.001354   \n",
       "33                7         0.951818        0.001485   \n",
       "36                8         0.951540        0.001176   \n",
       "38                9         0.951375        0.001287   \n",
       "46               10         0.951219        0.001204   \n",
       "31               11         0.951049        0.001333   \n",
       "19               12         0.950748        0.001311   \n",
       "0                13         0.950404        0.001019   \n",
       "23               14         0.950361        0.001195   \n",
       "26               15         0.950278        0.001130   \n",
       "16               16         0.950221        0.001765   \n",
       "14               17         0.949945        0.001696   \n",
       "8                18         0.949854        0.001013   \n",
       "27               19         0.949537        0.001004   \n",
       "43               20         0.947517        0.001360   \n",
       "30               21         0.946264        0.001536   \n",
       "28               22         0.944920        0.001791   \n",
       "45               23         0.943715        0.002082   \n",
       "47               24         0.941402        0.001554   \n",
       "15               25         0.941075        0.001869   \n",
       "18               26         0.940798        0.002173   \n",
       "12               27         0.940681        0.002148   \n",
       "5                28         0.937194        0.002155   \n",
       "10               29         0.934880        0.002455   \n",
       "17               30         0.934306        0.002329   \n",
       "7                31         0.934286        0.001981   \n",
       "41               32         0.932298        0.002258   \n",
       "6                33         0.932016        0.001939   \n",
       "11               34         0.927289        0.002258   \n",
       "22               35         0.921947        0.002691   \n",
       "34               36         0.921904        0.002889   \n",
       "2                37         0.920688        0.002053   \n",
       "20               38         0.919908        0.002225   \n",
       "35               39         0.919894        0.002259   \n",
       "42               40         0.919699        0.002069   \n",
       "39               41         0.913782        0.002290   \n",
       "13               42         0.912660        0.002005   \n",
       "3                43         0.910365        0.002666   \n",
       "9                44         0.909034        0.002761   \n",
       "44               45         0.906113        0.002100   \n",
       "24               46         0.904925        0.003018   \n",
       "32               47         0.889903        0.002305   \n",
       "37               48         0.888613        0.002197   \n",
       "40               49         0.888294        0.002242   \n",
       "4                50         0.868733        0.001482   \n",
       "\n",
       "                                                                                                                                                         params  \\\n",
       "29        {'subsample': 0.8, 'reg_lambda': 1, 'reg_alpha': 0, 'n_estimators': 200, 'max_depth': 9, 'learning_rate': 0.1, 'gamma': 0.2, 'colsample_bytree': 0.7}   \n",
       "49        {'subsample': 1.0, 'reg_lambda': 1.5, 'reg_alpha': 0, 'n_estimators': 300, 'max_depth': 9, 'learning_rate': 0.2, 'gamma': 0, 'colsample_bytree': 0.7}   \n",
       "21     {'subsample': 1.0, 'reg_lambda': 1, 'reg_alpha': 0.01, 'n_estimators': 300, 'max_depth': 9, 'learning_rate': 0.1, 'gamma': 0.1, 'colsample_bytree': 1.0}   \n",
       "25          {'subsample': 1.0, 'reg_lambda': 2, 'reg_alpha': 0, 'n_estimators': 300, 'max_depth': 7, 'learning_rate': 0.2, 'gamma': 0, 'colsample_bytree': 0.8}   \n",
       "48    {'subsample': 0.9, 'reg_lambda': 1.5, 'reg_alpha': 0.1, 'n_estimators': 200, 'max_depth': 9, 'learning_rate': 0.2, 'gamma': 0.2, 'colsample_bytree': 0.8}   \n",
       "1         {'subsample': 0.7, 'reg_lambda': 2, 'reg_alpha': 0.1, 'n_estimators': 300, 'max_depth': 9, 'learning_rate': 0.1, 'gamma': 0, 'colsample_bytree': 0.7}   \n",
       "33        {'subsample': 0.7, 'reg_lambda': 2, 'reg_alpha': 0, 'n_estimators': 300, 'max_depth': 7, 'learning_rate': 0.1, 'gamma': 0.2, 'colsample_bytree': 0.9}   \n",
       "36        {'subsample': 0.9, 'reg_lambda': 1, 'reg_alpha': 0, 'n_estimators': 300, 'max_depth': 9, 'learning_rate': 0.2, 'gamma': 0.1, 'colsample_bytree': 0.7}   \n",
       "38    {'subsample': 1.0, 'reg_lambda': 1.5, 'reg_alpha': 0.1, 'n_estimators': 300, 'max_depth': 7, 'learning_rate': 0.1, 'gamma': 0.1, 'colsample_bytree': 0.7}   \n",
       "46       {'subsample': 0.9, 'reg_lambda': 1, 'reg_alpha': 0.01, 'n_estimators': 100, 'max_depth': 9, 'learning_rate': 0.1, 'gamma': 0, 'colsample_bytree': 0.8}   \n",
       "31      {'subsample': 0.7, 'reg_lambda': 1, 'reg_alpha': 0.1, 'n_estimators': 100, 'max_depth': 9, 'learning_rate': 0.2, 'gamma': 0.1, 'colsample_bytree': 0.8}   \n",
       "19       {'subsample': 0.8, 'reg_lambda': 1, 'reg_alpha': 0.01, 'n_estimators': 100, 'max_depth': 9, 'learning_rate': 0.1, 'gamma': 0, 'colsample_bytree': 0.7}   \n",
       "0       {'subsample': 0.9, 'reg_lambda': 2, 'reg_alpha': 0.1, 'n_estimators': 100, 'max_depth': 9, 'learning_rate': 0.1, 'gamma': 0.2, 'colsample_bytree': 0.8}   \n",
       "23     {'subsample': 0.8, 'reg_lambda': 2, 'reg_alpha': 0.01, 'n_estimators': 200, 'max_depth': 7, 'learning_rate': 0.2, 'gamma': 0.1, 'colsample_bytree': 0.7}   \n",
       "26     {'subsample': 0.7, 'reg_lambda': 1, 'reg_alpha': 0.01, 'n_estimators': 200, 'max_depth': 9, 'learning_rate': 0.2, 'gamma': 0.1, 'colsample_bytree': 0.8}   \n",
       "16     {'subsample': 1.0, 'reg_lambda': 2, 'reg_alpha': 0.01, 'n_estimators': 300, 'max_depth': 7, 'learning_rate': 0.1, 'gamma': 0.2, 'colsample_bytree': 0.9}   \n",
       "14        {'subsample': 0.7, 'reg_lambda': 2, 'reg_alpha': 0, 'n_estimators': 300, 'max_depth': 9, 'learning_rate': 0.2, 'gamma': 0.2, 'colsample_bytree': 0.9}   \n",
       "8         {'subsample': 0.8, 'reg_lambda': 1, 'reg_alpha': 0, 'n_estimators': 100, 'max_depth': 7, 'learning_rate': 0.2, 'gamma': 0.1, 'colsample_bytree': 0.8}   \n",
       "27        {'subsample': 0.7, 'reg_lambda': 2, 'reg_alpha': 0.1, 'n_estimators': 300, 'max_depth': 7, 'learning_rate': 0.2, 'gamma': 0, 'colsample_bytree': 0.7}   \n",
       "43    {'subsample': 0.8, 'reg_lambda': 1.5, 'reg_alpha': 0.1, 'n_estimators': 200, 'max_depth': 5, 'learning_rate': 0.2, 'gamma': 0.2, 'colsample_bytree': 1.0}   \n",
       "30        {'subsample': 0.8, 'reg_lambda': 2, 'reg_alpha': 0.1, 'n_estimators': 300, 'max_depth': 5, 'learning_rate': 0.1, 'gamma': 0, 'colsample_bytree': 1.0}   \n",
       "28     {'subsample': 1.0, 'reg_lambda': 1.5, 'reg_alpha': 0.01, 'n_estimators': 100, 'max_depth': 7, 'learning_rate': 0.1, 'gamma': 0, 'colsample_bytree': 0.8}   \n",
       "45  {'subsample': 0.8, 'reg_lambda': 1.5, 'reg_alpha': 0.01, 'n_estimators': 300, 'max_depth': 9, 'learning_rate': 0.01, 'gamma': 0.2, 'colsample_bytree': 0.7}   \n",
       "47      {'subsample': 1.0, 'reg_lambda': 1, 'reg_alpha': 0.1, 'n_estimators': 200, 'max_depth': 5, 'learning_rate': 0.1, 'gamma': 0.1, 'colsample_bytree': 0.7}   \n",
       "15     {'subsample': 1.0, 'reg_lambda': 2, 'reg_alpha': 0.01, 'n_estimators': 100, 'max_depth': 5, 'learning_rate': 0.2, 'gamma': 0.2, 'colsample_bytree': 0.9}   \n",
       "18   {'subsample': 0.8, 'reg_lambda': 1.5, 'reg_alpha': 0.1, 'n_estimators': 200, 'max_depth': 9, 'learning_rate': 0.01, 'gamma': 0.1, 'colsample_bytree': 0.7}   \n",
       "12     {'subsample': 0.9, 'reg_lambda': 2, 'reg_alpha': 0.1, 'n_estimators': 200, 'max_depth': 9, 'learning_rate': 0.01, 'gamma': 0.1, 'colsample_bytree': 0.8}   \n",
       "5       {'subsample': 0.7, 'reg_lambda': 1, 'reg_alpha': 0.01, 'n_estimators': 300, 'max_depth': 7, 'learning_rate': 0.01, 'gamma': 0, 'colsample_bytree': 1.0}   \n",
       "10      {'subsample': 0.9, 'reg_lambda': 1, 'reg_alpha': 0.1, 'n_estimators': 100, 'max_depth': 5, 'learning_rate': 0.1, 'gamma': 0.1, 'colsample_bytree': 1.0}   \n",
       "17        {'subsample': 0.9, 'reg_lambda': 1.5, 'reg_alpha': 0, 'n_estimators': 100, 'max_depth': 5, 'learning_rate': 0.1, 'gamma': 0, 'colsample_bytree': 0.9}   \n",
       "7         {'subsample': 0.9, 'reg_lambda': 2, 'reg_alpha': 0, 'n_estimators': 100, 'max_depth': 5, 'learning_rate': 0.1, 'gamma': 0.1, 'colsample_bytree': 0.8}   \n",
       "41      {'subsample': 0.9, 'reg_lambda': 1, 'reg_alpha': 0.1, 'n_estimators': 200, 'max_depth': 3, 'learning_rate': 0.2, 'gamma': 0.1, 'colsample_bytree': 0.9}   \n",
       "6    {'subsample': 0.7, 'reg_lambda': 1.5, 'reg_alpha': 0.01, 'n_estimators': 200, 'max_depth': 3, 'learning_rate': 0.2, 'gamma': 0.2, 'colsample_bytree': 0.9}   \n",
       "11        {'subsample': 0.9, 'reg_lambda': 2, 'reg_alpha': 0.1, 'n_estimators': 300, 'max_depth': 3, 'learning_rate': 0.1, 'gamma': 0, 'colsample_bytree': 0.8}   \n",
       "22        {'subsample': 0.8, 'reg_lambda': 1, 'reg_alpha': 0, 'n_estimators': 200, 'max_depth': 3, 'learning_rate': 0.1, 'gamma': 0.2, 'colsample_bytree': 0.8}   \n",
       "34        {'subsample': 0.9, 'reg_lambda': 1, 'reg_alpha': 0.1, 'n_estimators': 100, 'max_depth': 3, 'learning_rate': 0.2, 'gamma': 0, 'colsample_bytree': 0.9}   \n",
       "2      {'subsample': 0.9, 'reg_lambda': 1, 'reg_alpha': 0.1, 'n_estimators': 300, 'max_depth': 5, 'learning_rate': 0.01, 'gamma': 0.1, 'colsample_bytree': 0.8}   \n",
       "20     {'subsample': 1.0, 'reg_lambda': 2, 'reg_alpha': 0.1, 'n_estimators': 300, 'max_depth': 5, 'learning_rate': 0.01, 'gamma': 0.2, 'colsample_bytree': 0.9}   \n",
       "35    {'subsample': 0.9, 'reg_lambda': 2, 'reg_alpha': 0.01, 'n_estimators': 300, 'max_depth': 5, 'learning_rate': 0.01, 'gamma': 0.1, 'colsample_bytree': 0.9}   \n",
       "42         {'subsample': 0.8, 'reg_lambda': 2, 'reg_alpha': 0, 'n_estimators': 300, 'max_depth': 5, 'learning_rate': 0.01, 'gamma': 0, 'colsample_bytree': 0.7}   \n",
       "39       {'subsample': 1.0, 'reg_lambda': 2, 'reg_alpha': 0, 'n_estimators': 200, 'max_depth': 5, 'learning_rate': 0.01, 'gamma': 0.2, 'colsample_bytree': 0.7}   \n",
       "13    {'subsample': 1.0, 'reg_lambda': 2, 'reg_alpha': 0.01, 'n_estimators': 200, 'max_depth': 5, 'learning_rate': 0.01, 'gamma': 0.2, 'colsample_bytree': 1.0}   \n",
       "3       {'subsample': 0.9, 'reg_lambda': 1, 'reg_alpha': 0.1, 'n_estimators': 100, 'max_depth': 3, 'learning_rate': 0.1, 'gamma': 0.1, 'colsample_bytree': 1.0}   \n",
       "9         {'subsample': 0.9, 'reg_lambda': 2, 'reg_alpha': 0.1, 'n_estimators': 100, 'max_depth': 3, 'learning_rate': 0.1, 'gamma': 0, 'colsample_bytree': 0.7}   \n",
       "44     {'subsample': 0.9, 'reg_lambda': 2, 'reg_alpha': 0.1, 'n_estimators': 100, 'max_depth': 5, 'learning_rate': 0.01, 'gamma': 0.2, 'colsample_bytree': 0.7}   \n",
       "24  {'subsample': 1.0, 'reg_lambda': 1.5, 'reg_alpha': 0.01, 'n_estimators': 100, 'max_depth': 5, 'learning_rate': 0.01, 'gamma': 0.1, 'colsample_bytree': 0.8}   \n",
       "32       {'subsample': 1.0, 'reg_lambda': 1, 'reg_alpha': 0, 'n_estimators': 300, 'max_depth': 3, 'learning_rate': 0.01, 'gamma': 0.1, 'colsample_bytree': 1.0}   \n",
       "37         {'subsample': 0.8, 'reg_lambda': 1, 'reg_alpha': 0, 'n_estimators': 300, 'max_depth': 3, 'learning_rate': 0.01, 'gamma': 0, 'colsample_bytree': 0.9}   \n",
       "40    {'subsample': 1.0, 'reg_lambda': 2, 'reg_alpha': 0.01, 'n_estimators': 300, 'max_depth': 3, 'learning_rate': 0.01, 'gamma': 0.1, 'colsample_bytree': 0.9}   \n",
       "4      {'subsample': 1.0, 'reg_lambda': 1.5, 'reg_alpha': 0, 'n_estimators': 100, 'max_depth': 3, 'learning_rate': 0.01, 'gamma': 0.1, 'colsample_bytree': 0.8}   \n",
       "\n",
       "    mean_fit_time  \n",
       "29       1.961023  \n",
       "49       2.262988  \n",
       "21       2.132784  \n",
       "25       1.739215  \n",
       "48       2.040160  \n",
       "1        3.611447  \n",
       "33       2.235017  \n",
       "36       2.813395  \n",
       "38       1.628578  \n",
       "46       1.105980  \n",
       "31       1.087448  \n",
       "19       1.126144  \n",
       "0        1.296603  \n",
       "23       1.616918  \n",
       "26       2.130293  \n",
       "16       1.763541  \n",
       "14       3.283912  \n",
       "8        0.833075  \n",
       "27       2.398311  \n",
       "43       1.211126  \n",
       "30       1.757179  \n",
       "28       0.701596  \n",
       "45       3.435257  \n",
       "47       0.976041  \n",
       "15       0.639658  \n",
       "18       2.525984  \n",
       "12       2.416181  \n",
       "5        2.791192  \n",
       "10       0.648520  \n",
       "17       0.738474  \n",
       "7        0.678170  \n",
       "41       0.907707  \n",
       "6        1.201599  \n",
       "11       1.419632  \n",
       "22       1.028160  \n",
       "34       0.514045  \n",
       "2        2.437014  \n",
       "20       1.715427  \n",
       "35       1.870098  \n",
       "42       1.819800  \n",
       "39       1.043663  \n",
       "13       1.298920  \n",
       "3        0.721139  \n",
       "9        0.616504  \n",
       "44       0.702840  \n",
       "24       0.650321  \n",
       "32       1.089151  \n",
       "37       1.492225  \n",
       "40       1.065530  \n",
       "4        0.667824  "
      ]
     },
     "metadata": {},
     "output_type": "display_data"
    }
   ],
   "source": [
    "print(\"\\nDetail Hasil Tuning XGBoost (Semua Kombinasi):\")\n",
    "pd.set_option('display.max_colwidth', None)\n",
    "display(xgb_results_display)\n",
    "pd.reset_option('display.max_colwidth') # Reset opsi ke default"
   ]
  },
  {
   "cell_type": "code",
   "execution_count": 66,
   "metadata": {},
   "outputs": [
    {
     "name": "stdout",
     "output_type": "stream",
     "text": [
      "Tuning XGBoost selesai dalam 27.67 detik.\n",
      "Parameter terbaik untuk XGBoost: {'subsample': 0.8, 'reg_lambda': 1, 'reg_alpha': 0, 'n_estimators': 200, 'max_depth': 9, 'learning_rate': 0.1, 'gamma': 0.2, 'colsample_bytree': 0.7}\n",
      "Skor ROC AUC CV terbaik (XGB): 0.9531\n"
     ]
    }
   ],
   "source": [
    "print(f\"Tuning XGBoost selesai dalam {end_time_xgb_tune - start_time_xgb_tune:.2f} detik.\")\n",
    "print(\"Parameter terbaik untuk XGBoost:\", xgb_tuner.best_params_)\n",
    "print(f\"Skor ROC AUC CV terbaik (XGB): {xgb_tuner.best_score_:.4f}\")"
   ]
  },
  {
   "cell_type": "code",
   "execution_count": 67,
   "metadata": {},
   "outputs": [],
   "source": [
    "# Ambil model XGB terbaik hasil tuning\n",
    "xgb_tuned_model = xgb_tuner.best_estimator_"
   ]
  },
  {
   "cell_type": "markdown",
   "metadata": {},
   "source": [
    "#### 2.2.2.3 Evaluasi Hyperparameter Tuning"
   ]
  },
  {
   "cell_type": "markdown",
   "metadata": {},
   "source": [
    "##### a. Random Forest"
   ]
  },
  {
   "cell_type": "code",
   "execution_count": 68,
   "metadata": {},
   "outputs": [
    {
     "name": "stdout",
     "output_type": "stream",
     "text": [
      "\n",
      "Mengevaluasi Model Random Forest (Hasil Tuning) pada data test...\n"
     ]
    }
   ],
   "source": [
    "print(\"\\nMengevaluasi Model Random Forest (Hasil Tuning) pada data test...\")\n",
    "y_pred_rf_tuned = rf_tuned_model.predict(X_test)\n",
    "y_prob_rf_tuned = rf_tuned_model.predict_proba(X_test)[:, 1]"
   ]
  },
  {
   "cell_type": "code",
   "execution_count": 69,
   "metadata": {},
   "outputs": [
    {
     "name": "stdout",
     "output_type": "stream",
     "text": [
      "\n",
      "Laporan Klasifikasi (Random Forest - Tuned):\n",
      "                  precision    recall  f1-score   support\n",
      "\n",
      "Not Canceled (0)       0.91      0.95      0.93      4878\n",
      "    Canceled (1)       0.89      0.80      0.84      2377\n",
      "\n",
      "        accuracy                           0.90      7255\n",
      "       macro avg       0.90      0.88      0.89      7255\n",
      "    weighted avg       0.90      0.90      0.90      7255\n",
      "\n",
      "Akurasi (RF Tuned): 0.9013\n",
      "ROC AUC Score (RF Tuned): 0.9579\n"
     ]
    }
   ],
   "source": [
    "print(\"\\nLaporan Klasifikasi (Random Forest - Tuned):\")\n",
    "print(classification_report(y_test, y_pred_rf_tuned, target_names=['Not Canceled (0)', 'Canceled (1)']))\n",
    "accuracy_rf_tuned = accuracy_score(y_test, y_pred_rf_tuned)\n",
    "roc_auc_rf_tuned = roc_auc_score(y_test, y_prob_rf_tuned)\n",
    "print(f\"Akurasi (RF Tuned): {accuracy_rf_tuned:.4f}\")\n",
    "print(f\"ROC AUC Score (RF Tuned): {roc_auc_rf_tuned:.4f}\")"
   ]
  },
  {
   "cell_type": "code",
   "execution_count": 70,
   "metadata": {},
   "outputs": [
    {
     "data": {
      "image/png": "[encoded data removed]",
      "text/plain": [
       "<Figure size 600x400 with 2 Axes>"
      ]
     },
     "metadata": {},
     "output_type": "display_data"
    }
   ],
   "source": [
    "cm_rf_tuned = confusion_matrix(y_test, y_pred_rf_tuned)\n",
    "plt.figure(figsize=(6, 4))\n",
    "sns.heatmap(cm_rf_tuned, annot=True, fmt='d', cmap='Blues',\n",
    "            xticklabels=['Prediksi Not Canceled (0)', 'Prediksi Canceled (1)'],\n",
    "            yticklabels=['Aktual Not Canceled (0)', 'Aktual Canceled (1)'])\n",
    "plt.title('Confusion Matrix - Random Forest (Tuned)')\n",
    "plt.ylabel('Kelas Aktual')\n",
    "plt.xlabel('Kelas Prediksi')\n",
    "plt.show()"
   ]
  },
  {
   "cell_type": "markdown",
   "metadata": {},
   "source": [
    "##### b. XGBoost"
   ]
  },
  {
   "cell_type": "code",
   "execution_count": 71,
   "metadata": {},
   "outputs": [
    {
     "name": "stdout",
     "output_type": "stream",
     "text": [
      "\n",
      "Mengevaluasi Model XGBoost (Hasil Tuning) pada data test...\n"
     ]
    }
   ],
   "source": [
    "print(\"\\nMengevaluasi Model XGBoost (Hasil Tuning) pada data test...\")\n",
    "y_pred_xgb_tuned = xgb_tuned_model.predict(X_test)\n",
    "y_prob_xgb_tuned = xgb_tuned_model.predict_proba(X_test)[:, 1]\n"
   ]
  },
  {
   "cell_type": "code",
   "execution_count": 72,
   "metadata": {},
   "outputs": [
    {
     "name": "stdout",
     "output_type": "stream",
     "text": [
      "\n",
      "Laporan Klasifikasi (XGBoost - Tuned):\n",
      "                  precision    recall  f1-score   support\n",
      "\n",
      "Not Canceled (0)       0.91      0.94      0.93      4878\n",
      "    Canceled (1)       0.87      0.81      0.84      2377\n",
      "\n",
      "        accuracy                           0.90      7255\n",
      "       macro avg       0.89      0.88      0.88      7255\n",
      "    weighted avg       0.90      0.90      0.90      7255\n",
      "\n",
      "Akurasi (XGB Tuned): 0.8999\n",
      "ROC AUC Score (XGB Tuned): 0.9583\n"
     ]
    }
   ],
   "source": [
    "print(\"\\nLaporan Klasifikasi (XGBoost - Tuned):\")\n",
    "print(classification_report(y_test, y_pred_xgb_tuned, target_names=['Not Canceled (0)', 'Canceled (1)']))\n",
    "accuracy_xgb_tuned = accuracy_score(y_test, y_pred_xgb_tuned)\n",
    "roc_auc_xgb_tuned = roc_auc_score(y_test, y_prob_xgb_tuned)\n",
    "print(f\"Akurasi (XGB Tuned): {accuracy_xgb_tuned:.4f}\")\n",
    "print(f\"ROC AUC Score (XGB Tuned): {roc_auc_xgb_tuned:.4f}\")"
   ]
  },
  {
   "cell_type": "code",
   "execution_count": 73,
   "metadata": {},
   "outputs": [
    {
     "data": {
      "image/png": "[encoded data removed]",
      "text/plain": [
       "<Figure size 600x400 with 2 Axes>"
      ]
     },
     "metadata": {},
     "output_type": "display_data"
    }
   ],
   "source": [
    "cm_xgb_tuned = confusion_matrix(y_test, y_pred_xgb_tuned)\n",
    "plt.figure(figsize=(6, 4))\n",
    "sns.heatmap(cm_xgb_tuned, annot=True, fmt='d', cmap='Greens',\n",
    "            xticklabels=['Prediksi Not Canceled (0)', 'Prediksi Canceled (1)'],\n",
    "            yticklabels=['Aktual Not Canceled (0)', 'Aktual Canceled (1)'])\n",
    "plt.title('Confusion Matrix - XGBoost (Tuned)')\n",
    "plt.ylabel('Kelas Aktual')\n",
    "plt.xlabel('Kelas Prediksi')\n",
    "plt.show()"
   ]
  },
  {
   "cell_type": "markdown",
   "metadata": {},
   "source": [
    "### 2.2.3 Membandingkan Base Model Dengan Tuned Model"
   ]
  },
  {
   "cell_type": "code",
   "execution_count": 74,
   "metadata": {},
   "outputs": [],
   "source": [
    "# Ambil F1 & Recall Canceled dari base models (Hitung jika belum ada variabelnya)\n",
    "f1_rf_base_canceled = f1_score(y_test, y_pred_rf, pos_label=1)\n",
    "f1_xgb_base_canceled = f1_score(y_test, y_pred_xgb, pos_label=1)\n",
    "recall_rf_base_canceled = recall_score(y_test, y_pred_rf, pos_label=1)\n",
    "recall_xgb_base_canceled = recall_score(y_test, y_pred_xgb, pos_label=1)\n",
    "# Ambil F1 & Recall Canceled dari tuned models\n",
    "f1_rf_tuned_canceled = f1_score(y_test, y_pred_rf_tuned, pos_label=1)\n",
    "f1_xgb_tuned_canceled = f1_score(y_test, y_pred_xgb_tuned, pos_label=1)\n",
    "recall_rf_tuned_canceled = recall_score(y_test, y_pred_rf_tuned, pos_label=1)\n",
    "recall_xgb_tuned_canceled = recall_score(y_test, y_pred_xgb_tuned, pos_label=1)"
   ]
  },
  {
   "cell_type": "code",
   "execution_count": 75,
   "metadata": {},
   "outputs": [
    {
     "name": "stdout",
     "output_type": "stream",
     "text": [
      "\n",
      "Perbandingan Metrik Utama (Base vs Tuned):\n",
      "--------------------------------------------------------------------------\n",
      "Metrik            | Base RF  | Base XGB | Tuned RF | Tuned XGB\n",
      "--------------------------------------------------------------------------\n",
      "Akurasi           | 0.8759   | 0.8937  | 0.9013   | 0.8999\n",
      "F1 Score (Cancel) | 0.7964   | 0.8321  | 0.8420   | 0.8418\n",
      "Recall (Cancel)   | 0.7404   | 0.8035  | 0.8027   | 0.8128\n",
      "ROC AUC           | 0.9346   | 0.9552  | 0.9579   | 0.9583\n",
      "--------------------------------------------------------------------------\n"
     ]
    }
   ],
   "source": [
    "print(\"\\nPerbandingan Metrik Utama (Base vs Tuned):\")\n",
    "print(\"--------------------------------------------------------------------------\")\n",
    "print(f\"Metrik            | Base RF  | Base XGB | Tuned RF | Tuned XGB\")\n",
    "print(\"--------------------------------------------------------------------------\")\n",
    "print(f\"Akurasi           | {accuracy_rf:.4f}   | {accuracy_xgb:.4f}  | {accuracy_rf_tuned:.4f}   | {accuracy_xgb_tuned:.4f}\")\n",
    "print(f\"F1 Score (Cancel) | {f1_rf_base_canceled:.4f}   | {f1_xgb_base_canceled:.4f}  | {f1_rf_tuned_canceled:.4f}   | {f1_xgb_tuned_canceled:.4f}\")\n",
    "print(f\"Recall (Cancel)   | {recall_rf_base_canceled:.4f}   | {recall_xgb_base_canceled:.4f}  | {recall_rf_tuned_canceled:.4f}   | {recall_xgb_tuned_canceled:.4f}\")\n",
    "print(f\"ROC AUC           | {roc_auc_rf:.4f}   | {roc_auc_xgb:.4f}  | {roc_auc_rf_tuned:.4f}   | {roc_auc_xgb_tuned:.4f}\")\n",
    "print(\"--------------------------------------------------------------------------\")"
   ]
  },
  {
   "cell_type": "code",
   "execution_count": 76,
   "metadata": {},
   "outputs": [],
   "source": [
    "# Hitung FPR, TPR untuk ROC Curve (Semua Model)\n",
    "fpr_rf, tpr_rf, _ = roc_curve(y_test, y_prob_rf) # Base RF\n",
    "fpr_xgb, tpr_xgb, _ = roc_curve(y_test, y_prob_xgb) # Base XGB\n",
    "fpr_rf_tuned, tpr_rf_tuned, _ = roc_curve(y_test, y_prob_rf_tuned) # Tuned RF\n",
    "fpr_xgb_tuned, tpr_xgb_tuned, _ = roc_curve(y_test, y_prob_xgb_tuned) # Tuned XGB"
   ]
  },
  {
   "cell_type": "code",
   "execution_count": 77,
   "metadata": {},
   "outputs": [
    {
     "data": {
      "image/png": "[encoded data removed]",
      "text/plain": [
       "<Figure size 1000x800 with 1 Axes>"
      ]
     },
     "metadata": {},
     "output_type": "display_data"
    }
   ],
   "source": [
    "# Plot ROC Curve\n",
    "plt.figure(figsize=(10, 8))\n",
    "plt.plot(fpr_rf, tpr_rf, label=f'Base RF (AUC = {roc_auc_rf:.4f})', linestyle=':')\n",
    "plt.plot(fpr_xgb, tpr_xgb, label=f'Base XGB (AUC = {roc_auc_xgb:.4f})', linestyle=':')\n",
    "plt.plot(fpr_rf_tuned, tpr_rf_tuned, label=f'Tuned RF (AUC = {roc_auc_rf_tuned:.4f})', linewidth=2)\n",
    "plt.plot(fpr_xgb_tuned, tpr_xgb_tuned, label=f'Tuned XGB (AUC = {roc_auc_xgb_tuned:.4f})', linewidth=2)\n",
    "plt.plot([0, 1], [0, 1], 'k--', label='Garis Acak (AUC = 0.5)') # Garis referensi\n",
    "# Pengaturan Plot\n",
    "plt.xlim([0.0, 1.0])\n",
    "plt.ylim([0.0, 1.05])\n",
    "plt.xlabel('False Positive Rate (1 - Specificity)')\n",
    "plt.ylabel('True Positive Rate (Recall/Sensitivity)')\n",
    "plt.title('ROC Curve Comparison (Base vs Tuned Models)')\n",
    "plt.legend(loc=\"lower right\")\n",
    "plt.grid(True)\n",
    "plt.show()"
   ]
  },
  {
   "cell_type": "markdown",
   "metadata": {},
   "source": [
    "### 2.2.4 Pilih Model Terbaik"
   ]
  },
  {
   "cell_type": "code",
   "execution_count": 78,
   "metadata": {},
   "outputs": [],
   "source": [
    "model_performance = {\n",
    "    'Base RF': {'model': rf_model, 'roc_auc': roc_auc_rf, 'f1_canceled': f1_rf_base_canceled},\n",
    "    'Base XGB': {'model': xgb_model, 'roc_auc': roc_auc_xgb, 'f1_canceled': f1_xgb_base_canceled},\n",
    "    'Tuned RF': {'model': rf_tuned_model, 'roc_auc': roc_auc_rf_tuned, 'f1_canceled': f1_rf_tuned_canceled},\n",
    "    'Tuned XGB': {'model': xgb_tuned_model, 'roc_auc': roc_auc_xgb_tuned, 'f1_canceled': f1_xgb_tuned_canceled}\n",
    "}"
   ]
  },
  {
   "cell_type": "code",
   "execution_count": 79,
   "metadata": {},
   "outputs": [],
   "source": [
    "# Pilih model terbaik berdasarkan ROC AUC pada test set\n",
    "best_model_name_final = max(model_performance, key=lambda k: model_performance[k]['roc_auc'])\n",
    "best_model_object_final = model_performance[best_model_name_final]['model']\n",
    "best_roc_auc = model_performance[best_model_name_final]['roc_auc']"
   ]
  },
  {
   "cell_type": "code",
   "execution_count": 80,
   "metadata": {},
   "outputs": [
    {
     "name": "stdout",
     "output_type": "stream",
     "text": [
      "\n",
      "Model terbaik final dipilih: Tuned XGB (ROC AUC Test: 0.9583)\n"
     ]
    }
   ],
   "source": [
    "print(f\"\\nModel terbaik final dipilih: {best_model_name_final} (ROC AUC Test: {best_roc_auc:.4f})\")\n"
   ]
  },
  {
   "cell_type": "code",
   "execution_count": 81,
   "metadata": {},
   "outputs": [
    {
     "name": "stdout",
     "output_type": "stream",
     "text": [
      "Parameter terbaiknya: {'subsample': 0.8, 'reg_lambda': 1, 'reg_alpha': 0, 'n_estimators': 200, 'max_depth': 9, 'learning_rate': 0.1, 'gamma': 0.2, 'colsample_bytree': 0.7}\n"
     ]
    }
   ],
   "source": [
    "# Tampilkan parameter terbaik jika model yang dipilih adalah hasil tuning\n",
    "if 'Tuned' in best_model_name_final:\n",
    "    if 'RF' in best_model_name_final:\n",
    "        print(\"Parameter terbaiknya:\", rf_tuner.best_params_)\n",
    "    elif 'XGB' in best_model_name_final:\n",
    "        print(\"Parameter terbaiknya:\", xgb_tuner.best_params_)\n"
   ]
  },
  {
   "cell_type": "markdown",
   "metadata": {},
   "source": [
    "### 2.2.5 Feature Important"
   ]
  },
  {
   "cell_type": "code",
   "execution_count": 90,
   "metadata": {},
   "outputs": [
    {
     "name": "stdout",
     "output_type": "stream",
     "text": [
      "\n",
      "Menganalisis Feature Importance untuk model: Tuned XGB\n",
      "\n",
      "Feature Importance (Top 20):\n"
     ]
    },
    {
     "data": {
      "text/html": [
       "<div>\n",
       "<style scoped>\n",
       "    .dataframe tbody tr th:only-of-type {\n",
       "        vertical-align: middle;\n",
       "    }\n",
       "\n",
       "    .dataframe tbody tr th {\n",
       "        vertical-align: top;\n",
       "    }\n",
       "\n",
       "    .dataframe thead th {\n",
       "        text-align: right;\n",
       "    }\n",
       "</style>\n",
       "<table border=\"1\" class=\"dataframe\">\n",
       "  <thead>\n",
       "    <tr style=\"text-align: right;\">\n",
       "      <th></th>\n",
       "      <th>Feature</th>\n",
       "      <th>Importance</th>\n",
       "    </tr>\n",
       "  </thead>\n",
       "  <tbody>\n",
       "    <tr>\n",
       "      <th>28</th>\n",
       "      <td>market_segment_type_Online</td>\n",
       "      <td>0.156430</td>\n",
       "    </tr>\n",
       "    <tr>\n",
       "      <th>13</th>\n",
       "      <td>no_of_special_requests</td>\n",
       "      <td>0.105312</td>\n",
       "    </tr>\n",
       "    <tr>\n",
       "      <th>4</th>\n",
       "      <td>required_car_parking_space</td>\n",
       "      <td>0.092701</td>\n",
       "    </tr>\n",
       "    <tr>\n",
       "      <th>27</th>\n",
       "      <td>market_segment_type_Offline</td>\n",
       "      <td>0.062487</td>\n",
       "    </tr>\n",
       "    <tr>\n",
       "      <th>26</th>\n",
       "      <td>market_segment_type_Corporate</td>\n",
       "      <td>0.059623</td>\n",
       "    </tr>\n",
       "    <tr>\n",
       "      <th>6</th>\n",
       "      <td>arrival_year</td>\n",
       "      <td>0.059491</td>\n",
       "    </tr>\n",
       "    <tr>\n",
       "      <th>5</th>\n",
       "      <td>lead_time</td>\n",
       "      <td>0.051298</td>\n",
       "    </tr>\n",
       "    <tr>\n",
       "      <th>9</th>\n",
       "      <td>repeated_guest</td>\n",
       "      <td>0.040716</td>\n",
       "    </tr>\n",
       "    <tr>\n",
       "      <th>16</th>\n",
       "      <td>type_of_meal_plan_Meal Plan 2</td>\n",
       "      <td>0.031736</td>\n",
       "    </tr>\n",
       "    <tr>\n",
       "      <th>11</th>\n",
       "      <td>no_of_previous_bookings_not_canceled</td>\n",
       "      <td>0.030755</td>\n",
       "    </tr>\n",
       "    <tr>\n",
       "      <th>7</th>\n",
       "      <td>arrival_month</td>\n",
       "      <td>0.026138</td>\n",
       "    </tr>\n",
       "    <tr>\n",
       "      <th>12</th>\n",
       "      <td>avg_price_per_room</td>\n",
       "      <td>0.026078</td>\n",
       "    </tr>\n",
       "    <tr>\n",
       "      <th>22</th>\n",
       "      <td>room_type_reserved_Room_Type 5</td>\n",
       "      <td>0.025624</td>\n",
       "    </tr>\n",
       "    <tr>\n",
       "      <th>15</th>\n",
       "      <td>total_guests</td>\n",
       "      <td>0.025396</td>\n",
       "    </tr>\n",
       "    <tr>\n",
       "      <th>25</th>\n",
       "      <td>market_segment_type_Complementary</td>\n",
       "      <td>0.024146</td>\n",
       "    </tr>\n",
       "    <tr>\n",
       "      <th>0</th>\n",
       "      <td>no_of_adults</td>\n",
       "      <td>0.021203</td>\n",
       "    </tr>\n",
       "    <tr>\n",
       "      <th>2</th>\n",
       "      <td>no_of_weekend_nights</td>\n",
       "      <td>0.019285</td>\n",
       "    </tr>\n",
       "    <tr>\n",
       "      <th>14</th>\n",
       "      <td>total_nights</td>\n",
       "      <td>0.017781</td>\n",
       "    </tr>\n",
       "    <tr>\n",
       "      <th>19</th>\n",
       "      <td>room_type_reserved_Room_Type 2</td>\n",
       "      <td>0.017633</td>\n",
       "    </tr>\n",
       "    <tr>\n",
       "      <th>18</th>\n",
       "      <td>type_of_meal_plan_Not Selected</td>\n",
       "      <td>0.016431</td>\n",
       "    </tr>\n",
       "    <tr>\n",
       "      <th>3</th>\n",
       "      <td>no_of_week_nights</td>\n",
       "      <td>0.016130</td>\n",
       "    </tr>\n",
       "    <tr>\n",
       "      <th>21</th>\n",
       "      <td>room_type_reserved_Room_Type 4</td>\n",
       "      <td>0.015160</td>\n",
       "    </tr>\n",
       "    <tr>\n",
       "      <th>24</th>\n",
       "      <td>room_type_reserved_Room_Type 7</td>\n",
       "      <td>0.014799</td>\n",
       "    </tr>\n",
       "    <tr>\n",
       "      <th>8</th>\n",
       "      <td>arrival_date</td>\n",
       "      <td>0.014126</td>\n",
       "    </tr>\n",
       "    <tr>\n",
       "      <th>1</th>\n",
       "      <td>no_of_children</td>\n",
       "      <td>0.011113</td>\n",
       "    </tr>\n",
       "    <tr>\n",
       "      <th>23</th>\n",
       "      <td>room_type_reserved_Room_Type 6</td>\n",
       "      <td>0.009845</td>\n",
       "    </tr>\n",
       "    <tr>\n",
       "      <th>10</th>\n",
       "      <td>no_of_previous_cancellations</td>\n",
       "      <td>0.008562</td>\n",
       "    </tr>\n",
       "    <tr>\n",
       "      <th>17</th>\n",
       "      <td>type_of_meal_plan_Meal Plan 3</td>\n",
       "      <td>0.000000</td>\n",
       "    </tr>\n",
       "    <tr>\n",
       "      <th>20</th>\n",
       "      <td>room_type_reserved_Room_Type 3</td>\n",
       "      <td>0.000000</td>\n",
       "    </tr>\n",
       "  </tbody>\n",
       "</table>\n",
       "</div>"
      ],
      "text/plain": [
       "                                 Feature  Importance\n",
       "28            market_segment_type_Online    0.156430\n",
       "13                no_of_special_requests    0.105312\n",
       "4             required_car_parking_space    0.092701\n",
       "27           market_segment_type_Offline    0.062487\n",
       "26         market_segment_type_Corporate    0.059623\n",
       "6                           arrival_year    0.059491\n",
       "5                              lead_time    0.051298\n",
       "9                         repeated_guest    0.040716\n",
       "16         type_of_meal_plan_Meal Plan 2    0.031736\n",
       "11  no_of_previous_bookings_not_canceled    0.030755\n",
       "7                          arrival_month    0.026138\n",
       "12                    avg_price_per_room    0.026078\n",
       "22        room_type_reserved_Room_Type 5    0.025624\n",
       "15                          total_guests    0.025396\n",
       "25     market_segment_type_Complementary    0.024146\n",
       "0                           no_of_adults    0.021203\n",
       "2                   no_of_weekend_nights    0.019285\n",
       "14                          total_nights    0.017781\n",
       "19        room_type_reserved_Room_Type 2    0.017633\n",
       "18        type_of_meal_plan_Not Selected    0.016431\n",
       "3                      no_of_week_nights    0.016130\n",
       "21        room_type_reserved_Room_Type 4    0.015160\n",
       "24        room_type_reserved_Room_Type 7    0.014799\n",
       "8                           arrival_date    0.014126\n",
       "1                         no_of_children    0.011113\n",
       "23        room_type_reserved_Room_Type 6    0.009845\n",
       "10          no_of_previous_cancellations    0.008562\n",
       "17         type_of_meal_plan_Meal Plan 3    0.000000\n",
       "20        room_type_reserved_Room_Type 3    0.000000"
      ]
     },
     "metadata": {},
     "output_type": "display_data"
    }
   ],
   "source": [
    "if hasattr(best_model_object_final, 'feature_importances_'):\n",
    "    print(f\"\\nMenganalisis Feature Importance untuk model: {best_model_name_final}\")\n",
    "\n",
    "    importances = best_model_object_final.feature_importances_\n",
    "\n",
    "    # Dapatkan nama fitur dari data training \n",
    "    try:\n",
    "        feature_names = X_train.columns\n",
    "    except NameError:\n",
    "        try:\n",
    "             feature_names = features.columns\n",
    "             print(\"Menggunakan nama kolom dari DataFrame 'features' (sebelum split).\")\n",
    "        except NameError:\n",
    "             feature_names = [f\"feature_{i}\" for i in range(len(importances))]\n",
    "             print(\"Warning: Nama fitur asli tidak ditemukan, menggunakan nama generik.\")\n",
    "\n",
    "\n",
    "    feature_importance_df = pd.DataFrame({\n",
    "        'Feature': feature_names,\n",
    "        'Importance': importances\n",
    "    })\n",
    "\n",
    "    # Urutkan fitur berdasarkan importance\n",
    "    feature_importance_df = feature_importance_df.sort_values(by='Importance', ascending=False)\n",
    "\n",
    "    print(\"\\nFeature Importance (Top 20):\")\n",
    "    display(feature_importance_df)\n",
    "\n",
    "\n",
    "else:\n",
    "    print(f\"\\nModel {best_model_name_final} tidak memiliki atribut 'feature_importances_'. Analisis ini tidak dapat dilakukan untuk tipe model ini.\")\n",
    "\n"
   ]
  },
  {
   "cell_type": "code",
   "execution_count": null,
   "metadata": {},
   "outputs": [
    {
     "name": "stderr",
     "output_type": "stream",
     "text": [
      "C:\\Users\\Lenovo\\AppData\\Local\\Temp\\ipykernel_9324\\695133337.py:4: FutureWarning: \n",
      "\n",
      "Passing `palette` without assigning `hue` is deprecated and will be removed in v0.14.0. Assign the `y` variable to `hue` and set `legend=False` for the same effect.\n",
      "\n",
      "  sns.barplot(\n"
     ]
    },
    {
     "data": {
      "image/png": "[encoded data removed]",
      "text/plain": [
       "<Figure size 1200x800 with 1 Axes>"
      ]
     },
     "metadata": {},
     "output_type": "display_data"
    }
   ],
   "source": [
    "# --- Visualisasi Feature Importance ---\n",
    "plt.figure(figsize=(12, 8)) \n",
    "top_n = 20 # Jumlah fitur teratas yang ingin ditampilkan\n",
    "sns.barplot(\n",
    "  x='Importance',\n",
    "  y='Feature',\n",
    "  data=feature_importance_df.head(top_n),\n",
    "  palette='viridis')\n",
    "plt.title(f'Top {top_n} Feature Importances ({best_model_name_final})')\n",
    "plt.xlabel('Importance Score')\n",
    "plt.ylabel('Features')\n",
    "plt.tight_layout() \n",
    "plt.show()"
   ]
  },
  {
   "cell_type": "markdown",
   "metadata": {},
   "source": [
    "### 2.2.6 Simpan Model Terbaik"
   ]
  },
  {
   "cell_type": "code",
   "execution_count": 83,
   "metadata": {},
   "outputs": [],
   "source": [
    "model_folder_absolute = r\"C:\\Users\\Lenovo\\Documents\\RIDHO'S LIFE\\Dodoo\\KULIAH\\Semester 6\\Model Deployment\\Minggu 7.5 UTS\\models\""
   ]
  },
  {
   "cell_type": "code",
   "execution_count": 84,
   "metadata": {},
   "outputs": [],
   "source": [
    "# Memastikan folder tujuan ada, jika tidak maka buat folder tersebut\n",
    "if not os.path.exists(model_folder_absolute):\n",
    "    try:\n",
    "        os.makedirs(model_folder_absolute)\n",
    "        print(f\"Folder '{model_folder_absolute}' telah dibuat.\")\n",
    "    except OSError as e:\n",
    "        print(f\"Error saat membuat folder '{model_folder_absolute}': {e}\")"
   ]
  },
  {
   "cell_type": "code",
   "execution_count": 85,
   "metadata": {},
   "outputs": [
    {
     "name": "stdout",
     "output_type": "stream",
     "text": [
      "Model terbaik (Tuned XGB) berhasil disimpan ke: C:\\Users\\Lenovo\\Documents\\RIDHO'S LIFE\\Dodoo\\KULIAH\\Semester 6\\Model Deployment\\Minggu 7.5 UTS\\models\\best_model_final.pkl\n"
     ]
    }
   ],
   "source": [
    "# Tentukan nama file model\n",
    "model_filename = os.path.join(model_folder_absolute, 'best_model_final.pkl')\n",
    "\n",
    "# Simpan model terbaik final ke file pickle\n",
    "try:\n",
    "    with open(model_filename, 'wb') as file:\n",
    "        pickle.dump(best_model_object_final, file)\n",
    "    print(f\"Model terbaik ({best_model_name_final}) berhasil disimpan ke: {model_filename}\")\n",
    "except Exception as e:\n",
    "    print(f\"Error saat menyimpan model ke '{model_filename}': {e}\")"
   ]
  },
  {
   "cell_type": "markdown",
   "metadata": {},
   "source": [
    "# Analisis dan Kesimpulan\n",
    "Berdasarkan perbandingan metrik antara model Base Random Forest, Base XGBoost, Tuned Random Forest, dan Tuned XGBoost untuk tugas klasifikasi pembatalan pemesanan hotel (dengan 'booking_status' sebagai variabel target)\n",
    "- `Akurasi`: Tuned RF memiliki akurasi tertinggi (0.9013), diikuti oleh Tuned XGB (0.8999), Base XGB (0.8937), dan Base RF (0.8759). Ini menunjukkan bahwa secara keseluruhan, Tuned RF paling banyak memprediksi dengan benar.\n",
    "- `F1 Score (Cancel)`: Tuned RF kembali unggul (0.8420), sangat tipis diikuti oleh Tuned XGB (0.8418). Base XGB (0.8321) dan Base RF (0.7964) memiliki skor F1 yang lebih rendah untuk kelas \"Cancel\". F1 Score adalah metrik yang baik untuk kelas yang mungkin tidak seimbang.\n",
    "- `Recall (Cancel)`: Tuned XGB memiliki recall tertinggi untuk kelas \"Cancel\" (0.8128), diikuti oleh Tuned RF (0.8027), Base XGB (0.8035), dan Base RF (0.7404). Recall penting jika kita ingin meminimalkan false negative untuk kelas \"Cancel\" (yaitu, sebisa mungkin mengidentifikasi semua kejadian \"Cancel\" yang sebenarnya).\n",
    "- `ROC AUC`: Tuned XGB memiliki ROC AUC tertinggi (0.9583), sangat tipis diikuti oleh Tuned RF (0.9579). Base XGB (0.9552) dan Base RF (0.9346) memiliki nilai ROC AUC yang lebih rendah. ROC AUC mengukur kemampuan model untuk membedakan antara kelas positif dan negatif secara keseluruhan.\n",
    "\n",
    "*Analisis*\n",
    "1. Peningkatan Performa Setelah Tuning: Secara umum, terlihat bahwa proses hyperparameter tuning berhasil meningkatkan performa kedua jenis model (Random Forest dan XGBoost). Hal ini ditunjukkan dengan nilai metrik yang lebih tinggi pada versi tuned dibandingkan dengan versi base untuk hampir semua metrik.\n",
    "2. Perbandingan Antar Model (Base): Model Base XGBoost menunjukkan performa yang lebih baik dibandingkan Base Random Forest di semua metrik utama. Ini mengindikasikan bahwa XGBoost, dengan mekanisme gradient boosting-nya, mampu menangkap pola dalam data pembatalan pemesanan hotel dengan lebih efektif dibandingkan Random Forest dengan konfigurasi default.\n",
    "3. Perbandingan Antar Model (Tuned): Setelah dilakukan tuning, Tuned Random Forest berhasil melampaui Tuned XGBoost dalam hal Akurasi (0.9013 vs 0.8999) dan F1 Score untuk kelas 'Cancel' (0.8420 vs 0.8418), meskipun perbedaannya sangat tipis. Tuned XGBoost menunjukkan keunggulan yang sangat tipis dalam Recall untuk kelas 'Cancel' (0.8128 vs 0.8027) dan ROC AUC (0.9583 vs 0.9579). ROC AUC yang lebih tinggi mengindikasikan kemampuan pemisahan kelas yang sedikit lebih baik secara keseluruhan.\n",
    "4. Fokus pada Metrik Target ('Cancel'): Mengingat variabel target adalah 'booking_status' yang kemungkinan memiliki dua kelas (misalnya, 'Canceled' dan 'Not Canceled'), metrik seperti F1 Score dan Recall untuk kelas 'Cancel' menjadi sangat relevan.\n",
    "    - F1 Score (Cancel): Mengukur keseimbangan antara presisi dan recall untuk prediksi pembatalan. Skor yang lebih tinggi menunjukkan model yang baik dalam mengidentifikasi pembatalan tanpa banyak melakukan kesalahan prediksi positif (memprediksi batal padahal tidak). Tuned Random Forest sedikit lebih unggul di metrik ini.\n",
    "    - Recall (Cancel): Mengukur kemampuan model untuk mengidentifikasi semua pemesanan yang sebenarnya dibatalkan. Skor yang lebih tinggi berarti model lebih sedikit melewatkan kasus pembatalan. Tuned XGBoost sedikit lebih unggul di metrik ini.\n",
    "5. ROC AUC sebagai Indikator Umum: ROC AUC memberikan gambaran keseluruhan tentang kemampuan model dalam membedakan antara pemesanan yang dibatalkan dan yang tidak, di berbagai threshold klasifikasi. Nilai ROC AUC yang tinggi pada kedua model tuned (mendekati 0.96) menunjukkan performa yang sangat baik dalam memisahkan kedua kelas tersebut.\n",
    "\n",
    "*Kesimpulan*\n",
    "\n",
    "Berdasarkan perbandingan metrik, dapat disimpulkan bahwa model yang telah di-tuning (Tuned Random Forest dan Tuned XGBoost) secara signifikan lebih baik dalam melakukan klasifikasi pembatalan pemesanan hotel dibandingkan dengan model dengan parameter dasar. karena prioritas utama adalah memastikan sebanyak mungkin pemesanan yang dibatalkan terdeteksi (meskipun mungkin dengan sedikit peningkatan false positive), dan kemampuan pemisahan kelas secara keseluruhan, maka **Tuned XGBoost lebih unggul dibandingkan Tuned Random Forest**\n",
    "\n"
   ]
  }
 ],
 "metadata": {
  "kernelspec": {
   "display_name": "Python 3",
   "language": "python",
   "name": "python3"
  },
  "language_info": {
   "codemirror_mode": {
    "name": "ipython",
    "version": 3
   },
   "file_extension": ".py",
   "mimetype": "text/x-python",
   "name": "python",
   "nbconvert_exporter": "python",
   "pygments_lexer": "ipython3",
   "version": "3.11.9"
  }
 },
 "nbformat": 4,
 "nbformat_minor": 2
}
